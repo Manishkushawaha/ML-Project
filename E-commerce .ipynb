{
 "cells": [
  {
   "cell_type": "markdown",
   "id": "583d5adc",
   "metadata": {},
   "source": [
    "### Data Pipeline\n",
    "We are going to follow the below steps in our analysis:\n",
    "\n",
    "1 Importing Libraries\n",
    "\n",
    "2 Loading Dataset\n",
    "\n",
    "3 Explore Data\n",
    "\n",
    "a. Perform data cleaning, handle missing values, outliers, and inconsistencies.\n",
    "\n",
    "b.Conduct EDA to understand the structure, patterns, and relationships in the data. Visualize the data using plots and graphs to gain insights.\n"
   ]
  },
  {
   "cell_type": "markdown",
   "id": "8aeb6bec",
   "metadata": {},
   "source": [
    "#### Importing libraries for Data Manipulation"
   ]
  },
  {
   "cell_type": "code",
   "execution_count": 4,
   "id": "784d7888",
   "metadata": {},
   "outputs": [],
   "source": [
    "import pandas as pd\n",
    "import numpy as np\n",
    "import seaborn as sns\n",
    "import matplotlib.pyplot as plt\n",
    "import warnings\n",
    "warnings.filterwarnings('ignore')"
   ]
  },
  {
   "cell_type": "markdown",
   "id": "ec850d23",
   "metadata": {},
   "source": [
    "#### Importing Dataset into Jupyter"
   ]
  },
  {
   "cell_type": "code",
   "execution_count": 5,
   "id": "48b1d731",
   "metadata": {},
   "outputs": [],
   "source": [
    "df = pd.read_csv(\"D:\\\\Data sets\\\\Ecommerce.csv\", encoding='latin1')"
   ]
  },
  {
   "cell_type": "code",
   "execution_count": 6,
   "id": "3ebbe1b8",
   "metadata": {},
   "outputs": [
    {
     "data": {
      "text/html": [
       "<div>\n",
       "<style scoped>\n",
       "    .dataframe tbody tr th:only-of-type {\n",
       "        vertical-align: middle;\n",
       "    }\n",
       "\n",
       "    .dataframe tbody tr th {\n",
       "        vertical-align: top;\n",
       "    }\n",
       "\n",
       "    .dataframe thead th {\n",
       "        text-align: right;\n",
       "    }\n",
       "</style>\n",
       "<table border=\"1\" class=\"dataframe\">\n",
       "  <thead>\n",
       "    <tr style=\"text-align: right;\">\n",
       "      <th></th>\n",
       "      <th>InvoiceNo</th>\n",
       "      <th>StockCode</th>\n",
       "      <th>Description</th>\n",
       "      <th>Quantity</th>\n",
       "      <th>InvoiceDate</th>\n",
       "      <th>UnitPrice</th>\n",
       "      <th>CustomerID</th>\n",
       "      <th>Country</th>\n",
       "    </tr>\n",
       "  </thead>\n",
       "  <tbody>\n",
       "    <tr>\n",
       "      <th>0</th>\n",
       "      <td>536365</td>\n",
       "      <td>85123A</td>\n",
       "      <td>WHITE HANGING HEART T-LIGHT HOLDER</td>\n",
       "      <td>6</td>\n",
       "      <td>29-Nov-16</td>\n",
       "      <td>2.55</td>\n",
       "      <td>17850.0</td>\n",
       "      <td>United Kingdom</td>\n",
       "    </tr>\n",
       "    <tr>\n",
       "      <th>1</th>\n",
       "      <td>536365</td>\n",
       "      <td>71053</td>\n",
       "      <td>WHITE METAL LANTERN</td>\n",
       "      <td>6</td>\n",
       "      <td>29-Nov-16</td>\n",
       "      <td>3.39</td>\n",
       "      <td>17850.0</td>\n",
       "      <td>United Kingdom</td>\n",
       "    </tr>\n",
       "    <tr>\n",
       "      <th>2</th>\n",
       "      <td>536365</td>\n",
       "      <td>84406B</td>\n",
       "      <td>CREAM CUPID HEARTS COAT HANGER</td>\n",
       "      <td>8</td>\n",
       "      <td>29-Nov-16</td>\n",
       "      <td>2.75</td>\n",
       "      <td>17850.0</td>\n",
       "      <td>United Kingdom</td>\n",
       "    </tr>\n",
       "    <tr>\n",
       "      <th>3</th>\n",
       "      <td>536365</td>\n",
       "      <td>84029G</td>\n",
       "      <td>KNITTED UNION FLAG HOT WATER BOTTLE</td>\n",
       "      <td>6</td>\n",
       "      <td>29-Nov-16</td>\n",
       "      <td>3.39</td>\n",
       "      <td>17850.0</td>\n",
       "      <td>United Kingdom</td>\n",
       "    </tr>\n",
       "    <tr>\n",
       "      <th>4</th>\n",
       "      <td>536365</td>\n",
       "      <td>84029E</td>\n",
       "      <td>RED WOOLLY HOTTIE WHITE HEART.</td>\n",
       "      <td>6</td>\n",
       "      <td>29-Nov-16</td>\n",
       "      <td>3.39</td>\n",
       "      <td>17850.0</td>\n",
       "      <td>United Kingdom</td>\n",
       "    </tr>\n",
       "  </tbody>\n",
       "</table>\n",
       "</div>"
      ],
      "text/plain": [
       "  InvoiceNo StockCode                          Description  Quantity  \\\n",
       "0    536365    85123A   WHITE HANGING HEART T-LIGHT HOLDER         6   \n",
       "1    536365     71053                  WHITE METAL LANTERN         6   \n",
       "2    536365    84406B       CREAM CUPID HEARTS COAT HANGER         8   \n",
       "3    536365    84029G  KNITTED UNION FLAG HOT WATER BOTTLE         6   \n",
       "4    536365    84029E       RED WOOLLY HOTTIE WHITE HEART.         6   \n",
       "\n",
       "  InvoiceDate  UnitPrice  CustomerID         Country  \n",
       "0   29-Nov-16       2.55     17850.0  United Kingdom  \n",
       "1   29-Nov-16       3.39     17850.0  United Kingdom  \n",
       "2   29-Nov-16       2.75     17850.0  United Kingdom  \n",
       "3   29-Nov-16       3.39     17850.0  United Kingdom  \n",
       "4   29-Nov-16       3.39     17850.0  United Kingdom  "
      ]
     },
     "execution_count": 6,
     "metadata": {},
     "output_type": "execute_result"
    }
   ],
   "source": [
    "df.head()# will display the dataframe of 1st 5 rows of the dataset"
   ]
  },
  {
   "cell_type": "code",
   "execution_count": 7,
   "id": "6bbc5940",
   "metadata": {},
   "outputs": [
    {
     "data": {
      "text/html": [
       "<div>\n",
       "<style scoped>\n",
       "    .dataframe tbody tr th:only-of-type {\n",
       "        vertical-align: middle;\n",
       "    }\n",
       "\n",
       "    .dataframe tbody tr th {\n",
       "        vertical-align: top;\n",
       "    }\n",
       "\n",
       "    .dataframe thead th {\n",
       "        text-align: right;\n",
       "    }\n",
       "</style>\n",
       "<table border=\"1\" class=\"dataframe\">\n",
       "  <thead>\n",
       "    <tr style=\"text-align: right;\">\n",
       "      <th></th>\n",
       "      <th>InvoiceNo</th>\n",
       "      <th>StockCode</th>\n",
       "      <th>Description</th>\n",
       "      <th>Quantity</th>\n",
       "      <th>InvoiceDate</th>\n",
       "      <th>UnitPrice</th>\n",
       "      <th>CustomerID</th>\n",
       "      <th>Country</th>\n",
       "    </tr>\n",
       "  </thead>\n",
       "  <tbody>\n",
       "    <tr>\n",
       "      <th>541904</th>\n",
       "      <td>581587</td>\n",
       "      <td>22613</td>\n",
       "      <td>PACK OF 20 SPACEBOY NAPKINS</td>\n",
       "      <td>12</td>\n",
       "      <td>07-Dec-17</td>\n",
       "      <td>0.85</td>\n",
       "      <td>12680.0</td>\n",
       "      <td>France</td>\n",
       "    </tr>\n",
       "    <tr>\n",
       "      <th>541905</th>\n",
       "      <td>581587</td>\n",
       "      <td>22899</td>\n",
       "      <td>CHILDREN'S APRON DOLLY GIRL</td>\n",
       "      <td>6</td>\n",
       "      <td>07-Dec-17</td>\n",
       "      <td>2.10</td>\n",
       "      <td>12680.0</td>\n",
       "      <td>France</td>\n",
       "    </tr>\n",
       "    <tr>\n",
       "      <th>541906</th>\n",
       "      <td>581587</td>\n",
       "      <td>23254</td>\n",
       "      <td>CHILDRENS CUTLERY DOLLY GIRL</td>\n",
       "      <td>4</td>\n",
       "      <td>07-Dec-17</td>\n",
       "      <td>4.15</td>\n",
       "      <td>12680.0</td>\n",
       "      <td>France</td>\n",
       "    </tr>\n",
       "    <tr>\n",
       "      <th>541907</th>\n",
       "      <td>581587</td>\n",
       "      <td>23255</td>\n",
       "      <td>CHILDRENS CUTLERY CIRCUS PARADE</td>\n",
       "      <td>4</td>\n",
       "      <td>07-Dec-17</td>\n",
       "      <td>4.15</td>\n",
       "      <td>12680.0</td>\n",
       "      <td>France</td>\n",
       "    </tr>\n",
       "    <tr>\n",
       "      <th>541908</th>\n",
       "      <td>581587</td>\n",
       "      <td>22138</td>\n",
       "      <td>BAKING SET 9 PIECE RETROSPOT</td>\n",
       "      <td>3</td>\n",
       "      <td>07-Dec-17</td>\n",
       "      <td>4.95</td>\n",
       "      <td>12680.0</td>\n",
       "      <td>France</td>\n",
       "    </tr>\n",
       "  </tbody>\n",
       "</table>\n",
       "</div>"
      ],
      "text/plain": [
       "       InvoiceNo StockCode                      Description  Quantity  \\\n",
       "541904    581587     22613      PACK OF 20 SPACEBOY NAPKINS        12   \n",
       "541905    581587     22899     CHILDREN'S APRON DOLLY GIRL          6   \n",
       "541906    581587     23254    CHILDRENS CUTLERY DOLLY GIRL          4   \n",
       "541907    581587     23255  CHILDRENS CUTLERY CIRCUS PARADE         4   \n",
       "541908    581587     22138    BAKING SET 9 PIECE RETROSPOT          3   \n",
       "\n",
       "       InvoiceDate  UnitPrice  CustomerID Country  \n",
       "541904   07-Dec-17       0.85     12680.0  France  \n",
       "541905   07-Dec-17       2.10     12680.0  France  \n",
       "541906   07-Dec-17       4.15     12680.0  France  \n",
       "541907   07-Dec-17       4.15     12680.0  France  \n",
       "541908   07-Dec-17       4.95     12680.0  France  "
      ]
     },
     "execution_count": 7,
     "metadata": {},
     "output_type": "execute_result"
    }
   ],
   "source": [
    "df.tail() # will display the dataframe of lastt 5 rows of the dataset"
   ]
  },
  {
   "cell_type": "code",
   "execution_count": 8,
   "id": "1e880c71",
   "metadata": {},
   "outputs": [
    {
     "data": {
      "text/plain": [
       "(541909, 8)"
      ]
     },
     "execution_count": 8,
     "metadata": {},
     "output_type": "execute_result"
    }
   ],
   "source": [
    "df.shape  # will display the number of rows and columns"
   ]
  },
  {
   "cell_type": "code",
   "execution_count": 9,
   "id": "77b646fe",
   "metadata": {},
   "outputs": [
    {
     "data": {
      "text/plain": [
       "Index(['InvoiceNo', 'StockCode', 'Description', 'Quantity', 'InvoiceDate',\n",
       "       'UnitPrice', 'CustomerID', 'Country'],\n",
       "      dtype='object')"
      ]
     },
     "execution_count": 9,
     "metadata": {},
     "output_type": "execute_result"
    }
   ],
   "source": [
    "df.columns # to get to know about the columns name "
   ]
  },
  {
   "cell_type": "code",
   "execution_count": 10,
   "id": "31e93912",
   "metadata": {},
   "outputs": [
    {
     "name": "stdout",
     "output_type": "stream",
     "text": [
      "<class 'pandas.core.frame.DataFrame'>\n",
      "RangeIndex: 541909 entries, 0 to 541908\n",
      "Data columns (total 8 columns):\n",
      " #   Column       Non-Null Count   Dtype  \n",
      "---  ------       --------------   -----  \n",
      " 0   InvoiceNo    541909 non-null  object \n",
      " 1   StockCode    541909 non-null  object \n",
      " 2   Description  540455 non-null  object \n",
      " 3   Quantity     541909 non-null  int64  \n",
      " 4   InvoiceDate  541909 non-null  object \n",
      " 5   UnitPrice    541909 non-null  float64\n",
      " 6   CustomerID   406829 non-null  float64\n",
      " 7   Country      541909 non-null  object \n",
      "dtypes: float64(2), int64(1), object(5)\n",
      "memory usage: 33.1+ MB\n"
     ]
    }
   ],
   "source": [
    "df.info() #method provides a concise summary of the data, including the number of rows, columns, non-null values, and the data types of each column."
   ]
  },
  {
   "cell_type": "markdown",
   "id": "52e0e0a0",
   "metadata": {},
   "source": [
    "## Dealing with Dtypes"
   ]
  },
  {
   "cell_type": "code",
   "execution_count": 11,
   "id": "c34d3ac4",
   "metadata": {},
   "outputs": [
    {
     "data": {
      "text/plain": [
       "InvoiceNo       object\n",
       "StockCode       object\n",
       "Description     object\n",
       "Quantity         int64\n",
       "InvoiceDate     object\n",
       "UnitPrice      float64\n",
       "CustomerID     float64\n",
       "Country         object\n",
       "dtype: object"
      ]
     },
     "execution_count": 11,
     "metadata": {},
     "output_type": "execute_result"
    }
   ],
   "source": [
    "df.dtypes "
   ]
  },
  {
   "cell_type": "markdown",
   "id": "874889fe",
   "metadata": {},
   "source": [
    "#### 1. \"invoice_date\" to datetime dtype"
   ]
  },
  {
   "cell_type": "code",
   "execution_count": 12,
   "id": "f3d9e156",
   "metadata": {},
   "outputs": [],
   "source": [
    "df[\"Invoice_date\"] = pd.to_datetime(df['InvoiceDate'], format='%d-%b-%y')"
   ]
  },
  {
   "cell_type": "code",
   "execution_count": 13,
   "id": "f9c20272",
   "metadata": {},
   "outputs": [],
   "source": [
    "df['Day'] = df['Invoice_date'].dt.day \n",
    "df['Month'] = df['Invoice_date'].dt.month"
   ]
  },
  {
   "cell_type": "markdown",
   "id": "bf5f13e1",
   "metadata": {},
   "source": [
    "#### 2. \"description\" to all lower caps"
   ]
  },
  {
   "cell_type": "code",
   "execution_count": 14,
   "id": "67a52e69",
   "metadata": {},
   "outputs": [],
   "source": [
    "df[\"Description\"] = df[\"Description\"].str.lower()"
   ]
  },
  {
   "cell_type": "code",
   "execution_count": 15,
   "id": "ec371771",
   "metadata": {},
   "outputs": [
    {
     "data": {
      "text/html": [
       "<div>\n",
       "<style scoped>\n",
       "    .dataframe tbody tr th:only-of-type {\n",
       "        vertical-align: middle;\n",
       "    }\n",
       "\n",
       "    .dataframe tbody tr th {\n",
       "        vertical-align: top;\n",
       "    }\n",
       "\n",
       "    .dataframe thead th {\n",
       "        text-align: right;\n",
       "    }\n",
       "</style>\n",
       "<table border=\"1\" class=\"dataframe\">\n",
       "  <thead>\n",
       "    <tr style=\"text-align: right;\">\n",
       "      <th></th>\n",
       "      <th>Description</th>\n",
       "      <th>Invoice_date</th>\n",
       "    </tr>\n",
       "  </thead>\n",
       "  <tbody>\n",
       "    <tr>\n",
       "      <th>0</th>\n",
       "      <td>white hanging heart t-light holder</td>\n",
       "      <td>2016-11-29</td>\n",
       "    </tr>\n",
       "    <tr>\n",
       "      <th>1</th>\n",
       "      <td>white metal lantern</td>\n",
       "      <td>2016-11-29</td>\n",
       "    </tr>\n",
       "    <tr>\n",
       "      <th>2</th>\n",
       "      <td>cream cupid hearts coat hanger</td>\n",
       "      <td>2016-11-29</td>\n",
       "    </tr>\n",
       "    <tr>\n",
       "      <th>3</th>\n",
       "      <td>knitted union flag hot water bottle</td>\n",
       "      <td>2016-11-29</td>\n",
       "    </tr>\n",
       "    <tr>\n",
       "      <th>4</th>\n",
       "      <td>red woolly hottie white heart.</td>\n",
       "      <td>2016-11-29</td>\n",
       "    </tr>\n",
       "  </tbody>\n",
       "</table>\n",
       "</div>"
      ],
      "text/plain": [
       "                           Description Invoice_date\n",
       "0   white hanging heart t-light holder   2016-11-29\n",
       "1                  white metal lantern   2016-11-29\n",
       "2       cream cupid hearts coat hanger   2016-11-29\n",
       "3  knitted union flag hot water bottle   2016-11-29\n",
       "4       red woolly hottie white heart.   2016-11-29"
      ]
     },
     "execution_count": 15,
     "metadata": {},
     "output_type": "execute_result"
    }
   ],
   "source": [
    "df[[\"Description\",\"Invoice_date\"]].head()"
   ]
  },
  {
   "cell_type": "markdown",
   "id": "d90d3abc",
   "metadata": {},
   "source": [
    "#### 3. \"customer_id\" to int64 dtype"
   ]
  },
  {
   "cell_type": "code",
   "execution_count": 16,
   "id": "f6e47abc",
   "metadata": {},
   "outputs": [
    {
     "data": {
      "text/plain": [
       "Int64Dtype()"
      ]
     },
     "execution_count": 16,
     "metadata": {},
     "output_type": "execute_result"
    }
   ],
   "source": [
    "df[\"CustomerID\"] = pd.to_numeric(df[\"CustomerID\"], errors=\"coerce\").astype(\"Int64\")\n",
    "df.CustomerID.dtype"
   ]
  },
  {
   "cell_type": "code",
   "execution_count": 17,
   "id": "88da96af",
   "metadata": {},
   "outputs": [
    {
     "data": {
      "text/plain": [
       "InvoiceNo               object\n",
       "StockCode               object\n",
       "Description             object\n",
       "Quantity                 int64\n",
       "InvoiceDate             object\n",
       "UnitPrice              float64\n",
       "CustomerID               Int64\n",
       "Country                 object\n",
       "Invoice_date    datetime64[ns]\n",
       "Day                      int64\n",
       "Month                    int64\n",
       "dtype: object"
      ]
     },
     "execution_count": 17,
     "metadata": {},
     "output_type": "execute_result"
    }
   ],
   "source": [
    "df.dtypes"
   ]
  },
  {
   "cell_type": "markdown",
   "id": "ac46ecb5",
   "metadata": {},
   "source": [
    "### Removing \"quantity\" with negative values"
   ]
  },
  {
   "cell_type": "code",
   "execution_count": 18,
   "id": "62cba14d",
   "metadata": {},
   "outputs": [],
   "source": [
    "df = df[df[\"Quantity\"]>0]"
   ]
  },
  {
   "cell_type": "code",
   "execution_count": 19,
   "id": "f7ce1f67",
   "metadata": {},
   "outputs": [
    {
     "data": {
      "text/plain": [
       "0          6\n",
       "1          6\n",
       "2          8\n",
       "3          6\n",
       "4          6\n",
       "          ..\n",
       "541904    12\n",
       "541905     6\n",
       "541906     4\n",
       "541907     4\n",
       "541908     3\n",
       "Name: Quantity, Length: 531285, dtype: int64"
      ]
     },
     "execution_count": 19,
     "metadata": {},
     "output_type": "execute_result"
    }
   ],
   "source": [
    "df[\"Quantity\"]"
   ]
  },
  {
   "cell_type": "markdown",
   "id": "4dd72161",
   "metadata": {},
   "source": [
    "#### Adding New Column for Revenue/Amount Spent"
   ]
  },
  {
   "cell_type": "code",
   "execution_count": 20,
   "id": "89ea5461",
   "metadata": {},
   "outputs": [],
   "source": [
    "df['Amount_spent'] = df[\"UnitPrice\"]*df[\"Quantity\"]"
   ]
  },
  {
   "cell_type": "code",
   "execution_count": 21,
   "id": "36ce8188",
   "metadata": {},
   "outputs": [
    {
     "data": {
      "text/plain": [
       "InvoiceNo       531285\n",
       "StockCode       531285\n",
       "Description     530693\n",
       "Quantity        531285\n",
       "InvoiceDate     531285\n",
       "UnitPrice       531285\n",
       "CustomerID      397924\n",
       "Country         531285\n",
       "Invoice_date    531285\n",
       "Day             531285\n",
       "Month           531285\n",
       "Amount_spent    531285\n",
       "dtype: int64"
      ]
     },
     "execution_count": 21,
     "metadata": {},
     "output_type": "execute_result"
    }
   ],
   "source": [
    "df.count() #It is used to count the number of non-null values in each column of a DataFrame or dataset."
   ]
  },
  {
   "cell_type": "code",
   "execution_count": 22,
   "id": "7fb369c8",
   "metadata": {},
   "outputs": [
    {
     "data": {
      "text/html": [
       "<div>\n",
       "<style scoped>\n",
       "    .dataframe tbody tr th:only-of-type {\n",
       "        vertical-align: middle;\n",
       "    }\n",
       "\n",
       "    .dataframe tbody tr th {\n",
       "        vertical-align: top;\n",
       "    }\n",
       "\n",
       "    .dataframe thead th {\n",
       "        text-align: right;\n",
       "    }\n",
       "</style>\n",
       "<table border=\"1\" class=\"dataframe\">\n",
       "  <thead>\n",
       "    <tr style=\"text-align: right;\">\n",
       "      <th></th>\n",
       "      <th>InvoiceNo</th>\n",
       "      <th>StockCode</th>\n",
       "      <th>Description</th>\n",
       "      <th>Quantity</th>\n",
       "      <th>InvoiceDate</th>\n",
       "      <th>UnitPrice</th>\n",
       "      <th>CustomerID</th>\n",
       "      <th>Country</th>\n",
       "      <th>Invoice_date</th>\n",
       "      <th>Day</th>\n",
       "      <th>Month</th>\n",
       "      <th>Amount_spent</th>\n",
       "    </tr>\n",
       "  </thead>\n",
       "  <tbody>\n",
       "    <tr>\n",
       "      <th>517</th>\n",
       "      <td>536409</td>\n",
       "      <td>21866</td>\n",
       "      <td>union jack flag luggage tag</td>\n",
       "      <td>1</td>\n",
       "      <td>29-Nov-16</td>\n",
       "      <td>1.25</td>\n",
       "      <td>17908</td>\n",
       "      <td>United Kingdom</td>\n",
       "      <td>2016-11-29</td>\n",
       "      <td>29</td>\n",
       "      <td>11</td>\n",
       "      <td>1.25</td>\n",
       "    </tr>\n",
       "    <tr>\n",
       "      <th>527</th>\n",
       "      <td>536409</td>\n",
       "      <td>22866</td>\n",
       "      <td>hand warmer scotty dog design</td>\n",
       "      <td>1</td>\n",
       "      <td>29-Nov-16</td>\n",
       "      <td>2.10</td>\n",
       "      <td>17908</td>\n",
       "      <td>United Kingdom</td>\n",
       "      <td>2016-11-29</td>\n",
       "      <td>29</td>\n",
       "      <td>11</td>\n",
       "      <td>2.10</td>\n",
       "    </tr>\n",
       "    <tr>\n",
       "      <th>537</th>\n",
       "      <td>536409</td>\n",
       "      <td>22900</td>\n",
       "      <td>set 2 tea towels i love london</td>\n",
       "      <td>1</td>\n",
       "      <td>29-Nov-16</td>\n",
       "      <td>2.95</td>\n",
       "      <td>17908</td>\n",
       "      <td>United Kingdom</td>\n",
       "      <td>2016-11-29</td>\n",
       "      <td>29</td>\n",
       "      <td>11</td>\n",
       "      <td>2.95</td>\n",
       "    </tr>\n",
       "    <tr>\n",
       "      <th>539</th>\n",
       "      <td>536409</td>\n",
       "      <td>22111</td>\n",
       "      <td>scottie dog hot water bottle</td>\n",
       "      <td>1</td>\n",
       "      <td>29-Nov-16</td>\n",
       "      <td>4.95</td>\n",
       "      <td>17908</td>\n",
       "      <td>United Kingdom</td>\n",
       "      <td>2016-11-29</td>\n",
       "      <td>29</td>\n",
       "      <td>11</td>\n",
       "      <td>4.95</td>\n",
       "    </tr>\n",
       "    <tr>\n",
       "      <th>555</th>\n",
       "      <td>536412</td>\n",
       "      <td>22327</td>\n",
       "      <td>round snack boxes set of 4 skulls</td>\n",
       "      <td>1</td>\n",
       "      <td>29-Nov-16</td>\n",
       "      <td>2.95</td>\n",
       "      <td>17920</td>\n",
       "      <td>United Kingdom</td>\n",
       "      <td>2016-11-29</td>\n",
       "      <td>29</td>\n",
       "      <td>11</td>\n",
       "      <td>2.95</td>\n",
       "    </tr>\n",
       "    <tr>\n",
       "      <th>...</th>\n",
       "      <td>...</td>\n",
       "      <td>...</td>\n",
       "      <td>...</td>\n",
       "      <td>...</td>\n",
       "      <td>...</td>\n",
       "      <td>...</td>\n",
       "      <td>...</td>\n",
       "      <td>...</td>\n",
       "      <td>...</td>\n",
       "      <td>...</td>\n",
       "      <td>...</td>\n",
       "      <td>...</td>\n",
       "    </tr>\n",
       "    <tr>\n",
       "      <th>541675</th>\n",
       "      <td>581538</td>\n",
       "      <td>22068</td>\n",
       "      <td>black pirate treasure chest</td>\n",
       "      <td>1</td>\n",
       "      <td>07-Dec-17</td>\n",
       "      <td>0.39</td>\n",
       "      <td>14446</td>\n",
       "      <td>United Kingdom</td>\n",
       "      <td>2017-12-07</td>\n",
       "      <td>7</td>\n",
       "      <td>12</td>\n",
       "      <td>0.39</td>\n",
       "    </tr>\n",
       "    <tr>\n",
       "      <th>541689</th>\n",
       "      <td>581538</td>\n",
       "      <td>23318</td>\n",
       "      <td>box of 6 mini vintage crackers</td>\n",
       "      <td>1</td>\n",
       "      <td>07-Dec-17</td>\n",
       "      <td>2.49</td>\n",
       "      <td>14446</td>\n",
       "      <td>United Kingdom</td>\n",
       "      <td>2017-12-07</td>\n",
       "      <td>7</td>\n",
       "      <td>12</td>\n",
       "      <td>2.49</td>\n",
       "    </tr>\n",
       "    <tr>\n",
       "      <th>541692</th>\n",
       "      <td>581538</td>\n",
       "      <td>22992</td>\n",
       "      <td>revolver wooden ruler</td>\n",
       "      <td>1</td>\n",
       "      <td>07-Dec-17</td>\n",
       "      <td>1.95</td>\n",
       "      <td>14446</td>\n",
       "      <td>United Kingdom</td>\n",
       "      <td>2017-12-07</td>\n",
       "      <td>7</td>\n",
       "      <td>12</td>\n",
       "      <td>1.95</td>\n",
       "    </tr>\n",
       "    <tr>\n",
       "      <th>541699</th>\n",
       "      <td>581538</td>\n",
       "      <td>22694</td>\n",
       "      <td>wicker star</td>\n",
       "      <td>1</td>\n",
       "      <td>07-Dec-17</td>\n",
       "      <td>2.10</td>\n",
       "      <td>14446</td>\n",
       "      <td>United Kingdom</td>\n",
       "      <td>2017-12-07</td>\n",
       "      <td>7</td>\n",
       "      <td>12</td>\n",
       "      <td>2.10</td>\n",
       "    </tr>\n",
       "    <tr>\n",
       "      <th>541701</th>\n",
       "      <td>581538</td>\n",
       "      <td>23343</td>\n",
       "      <td>jumbo bag vintage christmas</td>\n",
       "      <td>1</td>\n",
       "      <td>07-Dec-17</td>\n",
       "      <td>2.08</td>\n",
       "      <td>14446</td>\n",
       "      <td>United Kingdom</td>\n",
       "      <td>2017-12-07</td>\n",
       "      <td>7</td>\n",
       "      <td>12</td>\n",
       "      <td>2.08</td>\n",
       "    </tr>\n",
       "  </tbody>\n",
       "</table>\n",
       "<p>5232 rows × 12 columns</p>\n",
       "</div>"
      ],
      "text/plain": [
       "       InvoiceNo StockCode                        Description  Quantity  \\\n",
       "517       536409     21866        union jack flag luggage tag         1   \n",
       "527       536409     22866      hand warmer scotty dog design         1   \n",
       "537       536409     22900    set 2 tea towels i love london          1   \n",
       "539       536409     22111       scottie dog hot water bottle         1   \n",
       "555       536412     22327  round snack boxes set of 4 skulls         1   \n",
       "...          ...       ...                                ...       ...   \n",
       "541675    581538     22068        black pirate treasure chest         1   \n",
       "541689    581538     23318     box of 6 mini vintage crackers         1   \n",
       "541692    581538     22992             revolver wooden ruler          1   \n",
       "541699    581538     22694                       wicker star          1   \n",
       "541701    581538     23343       jumbo bag vintage christmas          1   \n",
       "\n",
       "       InvoiceDate  UnitPrice  CustomerID         Country Invoice_date  Day  \\\n",
       "517      29-Nov-16       1.25       17908  United Kingdom   2016-11-29   29   \n",
       "527      29-Nov-16       2.10       17908  United Kingdom   2016-11-29   29   \n",
       "537      29-Nov-16       2.95       17908  United Kingdom   2016-11-29   29   \n",
       "539      29-Nov-16       4.95       17908  United Kingdom   2016-11-29   29   \n",
       "555      29-Nov-16       2.95       17920  United Kingdom   2016-11-29   29   \n",
       "...            ...        ...         ...             ...          ...  ...   \n",
       "541675   07-Dec-17       0.39       14446  United Kingdom   2017-12-07    7   \n",
       "541689   07-Dec-17       2.49       14446  United Kingdom   2017-12-07    7   \n",
       "541692   07-Dec-17       1.95       14446  United Kingdom   2017-12-07    7   \n",
       "541699   07-Dec-17       2.10       14446  United Kingdom   2017-12-07    7   \n",
       "541701   07-Dec-17       2.08       14446  United Kingdom   2017-12-07    7   \n",
       "\n",
       "        Month  Amount_spent  \n",
       "517        11          1.25  \n",
       "527        11          2.10  \n",
       "537        11          2.95  \n",
       "539        11          4.95  \n",
       "555        11          2.95  \n",
       "...       ...           ...  \n",
       "541675     12          0.39  \n",
       "541689     12          2.49  \n",
       "541692     12          1.95  \n",
       "541699     12          2.10  \n",
       "541701     12          2.08  \n",
       "\n",
       "[5232 rows x 12 columns]"
      ]
     },
     "execution_count": 22,
     "metadata": {},
     "output_type": "execute_result"
    }
   ],
   "source": [
    "## let's identify whether the data contains any duplicated values or not.\n",
    "## if it contains then we have to remove those values (row).\n",
    "\n",
    "df[df.duplicated()] "
   ]
  },
  {
   "cell_type": "code",
   "execution_count": 23,
   "id": "e6cc3c97",
   "metadata": {},
   "outputs": [
    {
     "name": "stdout",
     "output_type": "stream",
     "text": [
      "Number of duplicated rows:  5232\n"
     ]
    }
   ],
   "source": [
    "duplicate_count = df[df.duplicated()].shape[0]\n",
    "print(\"Number of duplicated rows: \", duplicate_count)"
   ]
  },
  {
   "cell_type": "code",
   "execution_count": 24,
   "id": "84b66c8f",
   "metadata": {},
   "outputs": [],
   "source": [
    "df.drop_duplicates(inplace= True) # This code will remove any duplicated rows from the DataFrame "
   ]
  },
  {
   "cell_type": "code",
   "execution_count": 25,
   "id": "2b0f550d",
   "metadata": {},
   "outputs": [
    {
     "data": {
      "text/html": [
       "<div>\n",
       "<style scoped>\n",
       "    .dataframe tbody tr th:only-of-type {\n",
       "        vertical-align: middle;\n",
       "    }\n",
       "\n",
       "    .dataframe tbody tr th {\n",
       "        vertical-align: top;\n",
       "    }\n",
       "\n",
       "    .dataframe thead th {\n",
       "        text-align: right;\n",
       "    }\n",
       "</style>\n",
       "<table border=\"1\" class=\"dataframe\">\n",
       "  <thead>\n",
       "    <tr style=\"text-align: right;\">\n",
       "      <th></th>\n",
       "      <th>InvoiceNo</th>\n",
       "      <th>StockCode</th>\n",
       "      <th>Description</th>\n",
       "      <th>Quantity</th>\n",
       "      <th>InvoiceDate</th>\n",
       "      <th>UnitPrice</th>\n",
       "      <th>CustomerID</th>\n",
       "      <th>Country</th>\n",
       "      <th>Invoice_date</th>\n",
       "      <th>Day</th>\n",
       "      <th>Month</th>\n",
       "      <th>Amount_spent</th>\n",
       "    </tr>\n",
       "  </thead>\n",
       "  <tbody>\n",
       "  </tbody>\n",
       "</table>\n",
       "</div>"
      ],
      "text/plain": [
       "Empty DataFrame\n",
       "Columns: [InvoiceNo, StockCode, Description, Quantity, InvoiceDate, UnitPrice, CustomerID, Country, Invoice_date, Day, Month, Amount_spent]\n",
       "Index: []"
      ]
     },
     "execution_count": 25,
     "metadata": {},
     "output_type": "execute_result"
    }
   ],
   "source": [
    "df[df.duplicated()] "
   ]
  },
  {
   "cell_type": "raw",
   "id": "1002646c",
   "metadata": {},
   "source": [
    "There are no duplicates values in the datasets"
   ]
  },
  {
   "cell_type": "markdown",
   "id": "ceac0707",
   "metadata": {},
   "source": [
    "#### The specific statistical measures included in the summary can vary, but commonly include:\n",
    ".Count: The number of non-null values in each column.\n",
    "\n",
    ".Mean: The average value of each column.\n",
    "\n",
    ".Standard deviation: A measure of the dispersion or variability in each column.\n",
    "\n",
    ".Minimum: The minimum value in each column.\n",
    "\n",
    ".25th percentile: The value below which 25% of the data falls.\n",
    "\n",
    ".50th percentile (median): The value below which 50% of the data falls.\n",
    "\n",
    ".75th percentile: The value below which 75% of the data falls.\n",
    "\n",
    ".Maximum: The maximum value in each column."
   ]
  },
  {
   "cell_type": "code",
   "execution_count": 26,
   "id": "e21aa267",
   "metadata": {},
   "outputs": [
    {
     "data": {
      "text/html": [
       "<div>\n",
       "<style scoped>\n",
       "    .dataframe tbody tr th:only-of-type {\n",
       "        vertical-align: middle;\n",
       "    }\n",
       "\n",
       "    .dataframe tbody tr th {\n",
       "        vertical-align: top;\n",
       "    }\n",
       "\n",
       "    .dataframe thead th {\n",
       "        text-align: right;\n",
       "    }\n",
       "</style>\n",
       "<table border=\"1\" class=\"dataframe\">\n",
       "  <thead>\n",
       "    <tr style=\"text-align: right;\">\n",
       "      <th></th>\n",
       "      <th>Quantity</th>\n",
       "      <th>Amount_spent</th>\n",
       "    </tr>\n",
       "  </thead>\n",
       "  <tbody>\n",
       "    <tr>\n",
       "      <th>count</th>\n",
       "      <td>526053.000000</td>\n",
       "      <td>526053.000000</td>\n",
       "    </tr>\n",
       "    <tr>\n",
       "      <th>mean</th>\n",
       "      <td>10.730890</td>\n",
       "      <td>20.188047</td>\n",
       "    </tr>\n",
       "    <tr>\n",
       "      <th>std</th>\n",
       "      <td>157.591987</td>\n",
       "      <td>272.250558</td>\n",
       "    </tr>\n",
       "    <tr>\n",
       "      <th>min</th>\n",
       "      <td>1.000000</td>\n",
       "      <td>-11062.060000</td>\n",
       "    </tr>\n",
       "    <tr>\n",
       "      <th>25%</th>\n",
       "      <td>1.000000</td>\n",
       "      <td>3.900000</td>\n",
       "    </tr>\n",
       "    <tr>\n",
       "      <th>50%</th>\n",
       "      <td>4.000000</td>\n",
       "      <td>9.920000</td>\n",
       "    </tr>\n",
       "    <tr>\n",
       "      <th>75%</th>\n",
       "      <td>11.000000</td>\n",
       "      <td>17.700000</td>\n",
       "    </tr>\n",
       "    <tr>\n",
       "      <th>max</th>\n",
       "      <td>80995.000000</td>\n",
       "      <td>168469.600000</td>\n",
       "    </tr>\n",
       "  </tbody>\n",
       "</table>\n",
       "</div>"
      ],
      "text/plain": [
       "            Quantity   Amount_spent\n",
       "count  526053.000000  526053.000000\n",
       "mean       10.730890      20.188047\n",
       "std       157.591987     272.250558\n",
       "min         1.000000  -11062.060000\n",
       "25%         1.000000       3.900000\n",
       "50%         4.000000       9.920000\n",
       "75%        11.000000      17.700000\n",
       "max     80995.000000  168469.600000"
      ]
     },
     "execution_count": 26,
     "metadata": {},
     "output_type": "execute_result"
    }
   ],
   "source": [
    "df[['Quantity', 'Amount_spent']].describe()"
   ]
  },
  {
   "cell_type": "markdown",
   "id": "390d6c19",
   "metadata": {},
   "source": [
    "### Quantity:\n",
    "\n",
    "The average quantity purchased is approximately 10.73 units.\n",
    "\n",
    "The quantity values have a standard deviation of around 157.59, indicating a relatively large variation in the data.\n",
    "\n",
    "The minimum quantity is 1 unit, indicating that at least one unit was purchased in each transaction.\n",
    "\n",
    "25% of the data points have a quantity of 1 or less.\n",
    "\n",
    "Half of the data points have a quantity of 4 or less.\n",
    "\n",
    "75% of the data points have a quantity of 11 or less.\n",
    "\n",
    "The maximum quantity observed is 80,995 units.\n",
    "\n",
    "### Amount_spent:\n",
    "\n",
    "The average amount spent is approximately $20.19.\n",
    "\n",
    "The amount_spent values have a standard deviation of around $272.25, indicating a relatively large variation in the data.\n",
    "\n",
    "The minimum amount spent is -$11,062.06, which may indicate a data entry error or refund situation.\n",
    "\n",
    "25% of the data points have an amount spent of $3.90 or less.\n",
    "\n",
    "Half of the data points have an amount spent of $9.92 or less.\n",
    "\n",
    "75% of the data points have an amount spent of $17.70 or less.\n",
    "\n",
    "The maximum amount spent is $168,469.60.\n",
    "\n",
    "\n",
    "\n"
   ]
  },
  {
   "cell_type": "markdown",
   "id": "0226ecb4",
   "metadata": {},
   "source": [
    "# Exploratory Data Analysis"
   ]
  },
  {
   "cell_type": "code",
   "execution_count": 27,
   "id": "ade7a7e9",
   "metadata": {},
   "outputs": [
    {
     "data": {
      "text/html": [
       "<div>\n",
       "<style scoped>\n",
       "    .dataframe tbody tr th:only-of-type {\n",
       "        vertical-align: middle;\n",
       "    }\n",
       "\n",
       "    .dataframe tbody tr th {\n",
       "        vertical-align: top;\n",
       "    }\n",
       "\n",
       "    .dataframe thead th {\n",
       "        text-align: right;\n",
       "    }\n",
       "</style>\n",
       "<table border=\"1\" class=\"dataframe\">\n",
       "  <thead>\n",
       "    <tr style=\"text-align: right;\">\n",
       "      <th></th>\n",
       "      <th>InvoiceNo</th>\n",
       "      <th>StockCode</th>\n",
       "      <th>Description</th>\n",
       "      <th>Quantity</th>\n",
       "      <th>InvoiceDate</th>\n",
       "      <th>UnitPrice</th>\n",
       "      <th>CustomerID</th>\n",
       "      <th>Country</th>\n",
       "      <th>Invoice_date</th>\n",
       "      <th>Day</th>\n",
       "      <th>Month</th>\n",
       "      <th>Amount_spent</th>\n",
       "    </tr>\n",
       "  </thead>\n",
       "  <tbody>\n",
       "    <tr>\n",
       "      <th>0</th>\n",
       "      <td>536365</td>\n",
       "      <td>85123A</td>\n",
       "      <td>white hanging heart t-light holder</td>\n",
       "      <td>6</td>\n",
       "      <td>29-Nov-16</td>\n",
       "      <td>2.55</td>\n",
       "      <td>17850</td>\n",
       "      <td>United Kingdom</td>\n",
       "      <td>2016-11-29</td>\n",
       "      <td>29</td>\n",
       "      <td>11</td>\n",
       "      <td>15.30</td>\n",
       "    </tr>\n",
       "    <tr>\n",
       "      <th>1</th>\n",
       "      <td>536365</td>\n",
       "      <td>71053</td>\n",
       "      <td>white metal lantern</td>\n",
       "      <td>6</td>\n",
       "      <td>29-Nov-16</td>\n",
       "      <td>3.39</td>\n",
       "      <td>17850</td>\n",
       "      <td>United Kingdom</td>\n",
       "      <td>2016-11-29</td>\n",
       "      <td>29</td>\n",
       "      <td>11</td>\n",
       "      <td>20.34</td>\n",
       "    </tr>\n",
       "    <tr>\n",
       "      <th>2</th>\n",
       "      <td>536365</td>\n",
       "      <td>84406B</td>\n",
       "      <td>cream cupid hearts coat hanger</td>\n",
       "      <td>8</td>\n",
       "      <td>29-Nov-16</td>\n",
       "      <td>2.75</td>\n",
       "      <td>17850</td>\n",
       "      <td>United Kingdom</td>\n",
       "      <td>2016-11-29</td>\n",
       "      <td>29</td>\n",
       "      <td>11</td>\n",
       "      <td>22.00</td>\n",
       "    </tr>\n",
       "    <tr>\n",
       "      <th>3</th>\n",
       "      <td>536365</td>\n",
       "      <td>84029G</td>\n",
       "      <td>knitted union flag hot water bottle</td>\n",
       "      <td>6</td>\n",
       "      <td>29-Nov-16</td>\n",
       "      <td>3.39</td>\n",
       "      <td>17850</td>\n",
       "      <td>United Kingdom</td>\n",
       "      <td>2016-11-29</td>\n",
       "      <td>29</td>\n",
       "      <td>11</td>\n",
       "      <td>20.34</td>\n",
       "    </tr>\n",
       "    <tr>\n",
       "      <th>4</th>\n",
       "      <td>536365</td>\n",
       "      <td>84029E</td>\n",
       "      <td>red woolly hottie white heart.</td>\n",
       "      <td>6</td>\n",
       "      <td>29-Nov-16</td>\n",
       "      <td>3.39</td>\n",
       "      <td>17850</td>\n",
       "      <td>United Kingdom</td>\n",
       "      <td>2016-11-29</td>\n",
       "      <td>29</td>\n",
       "      <td>11</td>\n",
       "      <td>20.34</td>\n",
       "    </tr>\n",
       "  </tbody>\n",
       "</table>\n",
       "</div>"
      ],
      "text/plain": [
       "  InvoiceNo StockCode                          Description  Quantity  \\\n",
       "0    536365    85123A   white hanging heart t-light holder         6   \n",
       "1    536365     71053                  white metal lantern         6   \n",
       "2    536365    84406B       cream cupid hearts coat hanger         8   \n",
       "3    536365    84029G  knitted union flag hot water bottle         6   \n",
       "4    536365    84029E       red woolly hottie white heart.         6   \n",
       "\n",
       "  InvoiceDate  UnitPrice  CustomerID         Country Invoice_date  Day  Month  \\\n",
       "0   29-Nov-16       2.55       17850  United Kingdom   2016-11-29   29     11   \n",
       "1   29-Nov-16       3.39       17850  United Kingdom   2016-11-29   29     11   \n",
       "2   29-Nov-16       2.75       17850  United Kingdom   2016-11-29   29     11   \n",
       "3   29-Nov-16       3.39       17850  United Kingdom   2016-11-29   29     11   \n",
       "4   29-Nov-16       3.39       17850  United Kingdom   2016-11-29   29     11   \n",
       "\n",
       "   Amount_spent  \n",
       "0         15.30  \n",
       "1         20.34  \n",
       "2         22.00  \n",
       "3         20.34  \n",
       "4         20.34  "
      ]
     },
     "execution_count": 27,
     "metadata": {},
     "output_type": "execute_result"
    }
   ],
   "source": [
    "df.head()"
   ]
  },
  {
   "cell_type": "code",
   "execution_count": 28,
   "id": "698a64cc",
   "metadata": {
    "scrolled": true
   },
   "outputs": [
    {
     "data": {
      "text/plain": [
       "InvoiceNo            0\n",
       "StockCode            0\n",
       "Description        592\n",
       "Quantity             0\n",
       "InvoiceDate          0\n",
       "UnitPrice            0\n",
       "CustomerID      133322\n",
       "Country              0\n",
       "Invoice_date         0\n",
       "Day                  0\n",
       "Month                0\n",
       "Amount_spent         0\n",
       "dtype: int64"
      ]
     },
     "execution_count": 28,
     "metadata": {},
     "output_type": "execute_result"
    }
   ],
   "source": [
    "df.isnull().sum() # calculate the sum of null values for each column"
   ]
  },
  {
   "cell_type": "raw",
   "id": "a412dd23",
   "metadata": {},
   "source": [
    "we got total count of null values for the columns as follows:\n",
    "\n",
    "Description = 592\n",
    "\n",
    "CustomerID - 133322"
   ]
  },
  {
   "cell_type": "code",
   "execution_count": 29,
   "id": "830863fb",
   "metadata": {},
   "outputs": [],
   "source": [
    "#Removing the null values\n",
    "\n",
    "df = df.dropna().reset_index(drop=True)"
   ]
  },
  {
   "cell_type": "markdown",
   "id": "7eff0d86",
   "metadata": {},
   "source": [
    "### Missing values treatment\n",
    "The three common methods for treating missing values:\n",
    "\n",
    "1.Delete the Observation (row): This method involves removing rows that contain missing values using the dropna() method. It can be a straightforward approach, but it may result in a loss of data.\n",
    "\n",
    "2.Remove the Column: Similarly, you can delete the entire column that contains missing values using the dropna() method with the axis=1 parameter. However, this approach should be used with caution, as it may lead to the loss of important information.\n",
    "\n",
    "3.Filling with Mean, Median, or Mode: This method involves filling missing values with summary statistics such as the mean, median, or mode using the fillna() method. It provides a simple way to handle missing values while preserving the general characteristics of the dataset. The choice of statistic depends on the type of data: mean or median for numerical data and mode for categorical data."
   ]
  },
  {
   "cell_type": "markdown",
   "id": "e47d946e",
   "metadata": {},
   "source": [
    "#### 1. Deleting rows containing null values."
   ]
  },
  {
   "cell_type": "code",
   "execution_count": 30,
   "id": "b0a6df2d",
   "metadata": {},
   "outputs": [],
   "source": [
    "df_copy = pd.DataFrame(df) # duplicate copy of original dataset"
   ]
  },
  {
   "cell_type": "code",
   "execution_count": 31,
   "id": "cae6329a",
   "metadata": {},
   "outputs": [],
   "source": [
    "# drop rows of null values\n",
    "\n",
    "df_copy.dropna(axis = 0,inplace = True) # inplace is used for to apply the dataframe"
   ]
  },
  {
   "cell_type": "code",
   "execution_count": 32,
   "id": "315d5f3d",
   "metadata": {},
   "outputs": [
    {
     "name": "stdout",
     "output_type": "stream",
     "text": [
      "<class 'pandas.core.frame.DataFrame'>\n",
      "RangeIndex: 392731 entries, 0 to 392730\n",
      "Data columns (total 12 columns):\n",
      " #   Column        Non-Null Count   Dtype         \n",
      "---  ------        --------------   -----         \n",
      " 0   InvoiceNo     392731 non-null  object        \n",
      " 1   StockCode     392731 non-null  object        \n",
      " 2   Description   392731 non-null  object        \n",
      " 3   Quantity      392731 non-null  int64         \n",
      " 4   InvoiceDate   392731 non-null  object        \n",
      " 5   UnitPrice     392731 non-null  float64       \n",
      " 6   CustomerID    392731 non-null  Int64         \n",
      " 7   Country       392731 non-null  object        \n",
      " 8   Invoice_date  392731 non-null  datetime64[ns]\n",
      " 9   Day           392731 non-null  int64         \n",
      " 10  Month         392731 non-null  int64         \n",
      " 11  Amount_spent  392731 non-null  float64       \n",
      "dtypes: Int64(1), datetime64[ns](1), float64(2), int64(3), object(5)\n",
      "memory usage: 36.3+ MB\n"
     ]
    }
   ],
   "source": [
    "# check the number of non-empty rows\n",
    "df_copy.info()"
   ]
  },
  {
   "cell_type": "markdown",
   "id": "45cb2b29",
   "metadata": {},
   "source": [
    "#### 2. To Delete Column for null values"
   ]
  },
  {
   "cell_type": "code",
   "execution_count": 33,
   "id": "fa8e672d",
   "metadata": {},
   "outputs": [],
   "source": [
    "df_copy2 = pd.DataFrame(df) # duplicate copy of original dataset"
   ]
  },
  {
   "cell_type": "code",
   "execution_count": 34,
   "id": "075a8f8e",
   "metadata": {},
   "outputs": [],
   "source": [
    "# taking axis = 1  for columns.\n",
    "\n",
    "df_copy2.dropna(axis=1,inplace=True)"
   ]
  },
  {
   "cell_type": "code",
   "execution_count": 35,
   "id": "314e8aa5",
   "metadata": {},
   "outputs": [
    {
     "data": {
      "text/plain": [
       "InvoiceNo       0\n",
       "StockCode       0\n",
       "Description     0\n",
       "Quantity        0\n",
       "InvoiceDate     0\n",
       "UnitPrice       0\n",
       "CustomerID      0\n",
       "Country         0\n",
       "Invoice_date    0\n",
       "Day             0\n",
       "Month           0\n",
       "Amount_spent    0\n",
       "dtype: int64"
      ]
     },
     "execution_count": 35,
     "metadata": {},
     "output_type": "execute_result"
    }
   ],
   "source": [
    "# lets check if there exist any null value.\n",
    "df_copy2.isnull().sum()"
   ]
  },
  {
   "cell_type": "markdown",
   "id": "72f3efda",
   "metadata": {},
   "source": [
    "### After Dealing with the missing values we proceed further with the df dataframe for our analysis."
   ]
  },
  {
   "cell_type": "markdown",
   "id": "acf1350d",
   "metadata": {},
   "source": [
    "#### Multivariate Analysis"
   ]
  },
  {
   "cell_type": "code",
   "execution_count": 36,
   "id": "372f7934",
   "metadata": {},
   "outputs": [
    {
     "data": {
      "image/png": "[encoded data removed]",
      "text/plain": [
       "<Figure size 640x480 with 2 Axes>"
      ]
     },
     "metadata": {},
     "output_type": "display_data"
    }
   ],
   "source": [
    "# Heatmap of correlation matrix\n",
    "corr_matrix = df.corr()\n",
    "sns.heatmap(corr_matrix, annot=True, cmap='coolwarm')\n",
    "plt.title('Correlation Matrix')\n",
    "plt.show()"
   ]
  },
  {
   "cell_type": "markdown",
   "id": "1a3e3c31",
   "metadata": {},
   "source": [
    "#### Top Customers with Most Orders Placed"
   ]
  },
  {
   "cell_type": "code",
   "execution_count": 37,
   "id": "75135e88",
   "metadata": {},
   "outputs": [
    {
     "data": {
      "text/html": [
       "<div>\n",
       "<style scoped>\n",
       "    .dataframe tbody tr th:only-of-type {\n",
       "        vertical-align: middle;\n",
       "    }\n",
       "\n",
       "    .dataframe tbody tr th {\n",
       "        vertical-align: top;\n",
       "    }\n",
       "\n",
       "    .dataframe thead th {\n",
       "        text-align: right;\n",
       "    }\n",
       "</style>\n",
       "<table border=\"1\" class=\"dataframe\">\n",
       "  <thead>\n",
       "    <tr style=\"text-align: right;\">\n",
       "      <th></th>\n",
       "      <th>InvoiceNo</th>\n",
       "      <th>CustomerID</th>\n",
       "      <th>Country</th>\n",
       "    </tr>\n",
       "  </thead>\n",
       "  <tbody>\n",
       "    <tr>\n",
       "      <th>0</th>\n",
       "      <td>536365</td>\n",
       "      <td>17850</td>\n",
       "      <td>United Kingdom</td>\n",
       "    </tr>\n",
       "    <tr>\n",
       "      <th>1</th>\n",
       "      <td>536365</td>\n",
       "      <td>17850</td>\n",
       "      <td>United Kingdom</td>\n",
       "    </tr>\n",
       "    <tr>\n",
       "      <th>2</th>\n",
       "      <td>536365</td>\n",
       "      <td>17850</td>\n",
       "      <td>United Kingdom</td>\n",
       "    </tr>\n",
       "    <tr>\n",
       "      <th>3</th>\n",
       "      <td>536365</td>\n",
       "      <td>17850</td>\n",
       "      <td>United Kingdom</td>\n",
       "    </tr>\n",
       "    <tr>\n",
       "      <th>4</th>\n",
       "      <td>536365</td>\n",
       "      <td>17850</td>\n",
       "      <td>United Kingdom</td>\n",
       "    </tr>\n",
       "  </tbody>\n",
       "</table>\n",
       "</div>"
      ],
      "text/plain": [
       "  InvoiceNo  CustomerID         Country\n",
       "0    536365       17850  United Kingdom\n",
       "1    536365       17850  United Kingdom\n",
       "2    536365       17850  United Kingdom\n",
       "3    536365       17850  United Kingdom\n",
       "4    536365       17850  United Kingdom"
      ]
     },
     "execution_count": 37,
     "metadata": {},
     "output_type": "execute_result"
    }
   ],
   "source": [
    "cust_orders=df[[\"InvoiceNo\",\"CustomerID\",\"Country\"]]\n",
    "cust_orders.head()"
   ]
  },
  {
   "cell_type": "code",
   "execution_count": 38,
   "id": "5d0bb266",
   "metadata": {},
   "outputs": [],
   "source": [
    "cust_orders = df.groupby(by=['CustomerID'], as_index=False)[\"InvoiceNo\"].count().sort_values(by='InvoiceNo', ascending=False).head(20)"
   ]
  },
  {
   "cell_type": "code",
   "execution_count": 39,
   "id": "5cfb1995",
   "metadata": {},
   "outputs": [
    {
     "data": {
      "image/png": "[encoded data removed]",
      "text/plain": [
       "<Figure size 2300x800 with 1 Axes>"
      ]
     },
     "metadata": {},
     "output_type": "display_data"
    }
   ],
   "source": [
    "x = cust_orders[\"CustomerID\"]\n",
    "y = cust_orders[\"InvoiceNo\"]\n",
    "\n",
    "plt.figure(figsize=(23, 8))\n",
    "ax = sns.barplot(x, y)\n",
    "\n",
    "for bars in ax.containers:\n",
    "    ax.bar_label(bars)\n",
    "\n",
    "plt.xlabel(\"CustomerID\")\n",
    "plt.ylabel(\"No. of Orders Placed\")\n",
    "plt.title(\"Top Customers With the Greatest No. of Orders Placed\")\n",
    "plt.show()"
   ]
  },
  {
   "cell_type": "raw",
   "id": "3432d948",
   "metadata": {},
   "source": [
    "Highest Orders: The highest order by a customer is 7876, and the corresponding customer ID is 17841."
   ]
  },
  {
   "cell_type": "markdown",
   "id": "7d869eec",
   "metadata": {},
   "source": [
    "#### Top Countries with the Most Orders Placed"
   ]
  },
  {
   "cell_type": "code",
   "execution_count": 40,
   "id": "7b1ae1dc",
   "metadata": {},
   "outputs": [
    {
     "data": {
      "text/html": [
       "<div>\n",
       "<style scoped>\n",
       "    .dataframe tbody tr th:only-of-type {\n",
       "        vertical-align: middle;\n",
       "    }\n",
       "\n",
       "    .dataframe tbody tr th {\n",
       "        vertical-align: top;\n",
       "    }\n",
       "\n",
       "    .dataframe thead th {\n",
       "        text-align: right;\n",
       "    }\n",
       "</style>\n",
       "<table border=\"1\" class=\"dataframe\">\n",
       "  <thead>\n",
       "    <tr style=\"text-align: right;\">\n",
       "      <th></th>\n",
       "      <th>Country</th>\n",
       "      <th>InvoiceNo</th>\n",
       "    </tr>\n",
       "  </thead>\n",
       "  <tbody>\n",
       "    <tr>\n",
       "      <th>0</th>\n",
       "      <td>United Kingdom</td>\n",
       "      <td>536365</td>\n",
       "    </tr>\n",
       "    <tr>\n",
       "      <th>1</th>\n",
       "      <td>United Kingdom</td>\n",
       "      <td>536365</td>\n",
       "    </tr>\n",
       "    <tr>\n",
       "      <th>2</th>\n",
       "      <td>United Kingdom</td>\n",
       "      <td>536365</td>\n",
       "    </tr>\n",
       "    <tr>\n",
       "      <th>3</th>\n",
       "      <td>United Kingdom</td>\n",
       "      <td>536365</td>\n",
       "    </tr>\n",
       "    <tr>\n",
       "      <th>4</th>\n",
       "      <td>United Kingdom</td>\n",
       "      <td>536365</td>\n",
       "    </tr>\n",
       "  </tbody>\n",
       "</table>\n",
       "</div>"
      ],
      "text/plain": [
       "          Country InvoiceNo\n",
       "0  United Kingdom    536365\n",
       "1  United Kingdom    536365\n",
       "2  United Kingdom    536365\n",
       "3  United Kingdom    536365\n",
       "4  United Kingdom    536365"
      ]
     },
     "execution_count": 40,
     "metadata": {},
     "output_type": "execute_result"
    }
   ],
   "source": [
    "country_orders = df[[\"Country\",\"InvoiceNo\"]]\n",
    "country_orders.head()"
   ]
  },
  {
   "cell_type": "code",
   "execution_count": 41,
   "id": "213fa8f2",
   "metadata": {},
   "outputs": [],
   "source": [
    "country_orders = df.groupby(\"Country\")[\"InvoiceNo\"].count().reset_index()\n",
    "country_orders = country_orders.sort_values(\"InvoiceNo\", ascending=False).head(15)"
   ]
  },
  {
   "cell_type": "code",
   "execution_count": 42,
   "id": "7c749c8a",
   "metadata": {},
   "outputs": [
    {
     "data": {
      "text/html": [
       "<div>\n",
       "<style scoped>\n",
       "    .dataframe tbody tr th:only-of-type {\n",
       "        vertical-align: middle;\n",
       "    }\n",
       "\n",
       "    .dataframe tbody tr th {\n",
       "        vertical-align: top;\n",
       "    }\n",
       "\n",
       "    .dataframe thead th {\n",
       "        text-align: right;\n",
       "    }\n",
       "</style>\n",
       "<table border=\"1\" class=\"dataframe\">\n",
       "  <thead>\n",
       "    <tr style=\"text-align: right;\">\n",
       "      <th></th>\n",
       "      <th>Country</th>\n",
       "      <th>InvoiceNo</th>\n",
       "    </tr>\n",
       "  </thead>\n",
       "  <tbody>\n",
       "    <tr>\n",
       "      <th>35</th>\n",
       "      <td>United Kingdom</td>\n",
       "      <td>349226</td>\n",
       "    </tr>\n",
       "    <tr>\n",
       "      <th>14</th>\n",
       "      <td>Germany</td>\n",
       "      <td>9027</td>\n",
       "    </tr>\n",
       "    <tr>\n",
       "      <th>13</th>\n",
       "      <td>France</td>\n",
       "      <td>8327</td>\n",
       "    </tr>\n",
       "    <tr>\n",
       "      <th>10</th>\n",
       "      <td>EIRE</td>\n",
       "      <td>7228</td>\n",
       "    </tr>\n",
       "    <tr>\n",
       "      <th>30</th>\n",
       "      <td>Spain</td>\n",
       "      <td>2480</td>\n",
       "    </tr>\n",
       "    <tr>\n",
       "      <th>23</th>\n",
       "      <td>Netherlands</td>\n",
       "      <td>2363</td>\n",
       "    </tr>\n",
       "    <tr>\n",
       "      <th>3</th>\n",
       "      <td>Belgium</td>\n",
       "      <td>2031</td>\n",
       "    </tr>\n",
       "    <tr>\n",
       "      <th>32</th>\n",
       "      <td>Switzerland</td>\n",
       "      <td>1842</td>\n",
       "    </tr>\n",
       "    <tr>\n",
       "      <th>26</th>\n",
       "      <td>Portugal</td>\n",
       "      <td>1453</td>\n",
       "    </tr>\n",
       "    <tr>\n",
       "      <th>0</th>\n",
       "      <td>Australia</td>\n",
       "      <td>1184</td>\n",
       "    </tr>\n",
       "    <tr>\n",
       "      <th>24</th>\n",
       "      <td>Norway</td>\n",
       "      <td>1072</td>\n",
       "    </tr>\n",
       "    <tr>\n",
       "      <th>18</th>\n",
       "      <td>Italy</td>\n",
       "      <td>758</td>\n",
       "    </tr>\n",
       "    <tr>\n",
       "      <th>6</th>\n",
       "      <td>Channel Islands</td>\n",
       "      <td>747</td>\n",
       "    </tr>\n",
       "    <tr>\n",
       "      <th>12</th>\n",
       "      <td>Finland</td>\n",
       "      <td>685</td>\n",
       "    </tr>\n",
       "    <tr>\n",
       "      <th>7</th>\n",
       "      <td>Cyprus</td>\n",
       "      <td>603</td>\n",
       "    </tr>\n",
       "  </tbody>\n",
       "</table>\n",
       "</div>"
      ],
      "text/plain": [
       "            Country  InvoiceNo\n",
       "35   United Kingdom     349226\n",
       "14          Germany       9027\n",
       "13           France       8327\n",
       "10             EIRE       7228\n",
       "30            Spain       2480\n",
       "23      Netherlands       2363\n",
       "3           Belgium       2031\n",
       "32      Switzerland       1842\n",
       "26         Portugal       1453\n",
       "0         Australia       1184\n",
       "24           Norway       1072\n",
       "18            Italy        758\n",
       "6   Channel Islands        747\n",
       "12          Finland        685\n",
       "7            Cyprus        603"
      ]
     },
     "execution_count": 42,
     "metadata": {},
     "output_type": "execute_result"
    }
   ],
   "source": [
    "country_orders"
   ]
  },
  {
   "cell_type": "code",
   "execution_count": 43,
   "id": "2a94fa22",
   "metadata": {},
   "outputs": [
    {
     "data": {
      "image/png": "[encoded data removed]",
      "text/plain": [
       "<Figure size 1500x600 with 1 Axes>"
      ]
     },
     "metadata": {},
     "output_type": "display_data"
    }
   ],
   "source": [
    "plt.figure(figsize=(15, 6))\n",
    "ax=sns.barplot(x=\"InvoiceNo\", y=\"Country\", data=country_orders)\n",
    "\n",
    "for bars in ax.containers:\n",
    "    ax.bar_label(bars)\n",
    "    \n",
    "plt.xlabel(\"No. of Orders Placed\")\n",
    "plt.ylabel(\"Country\")\n",
    "plt.title(\"Top Countries with the Most Orders Placed\")\n",
    "plt.show()"
   ]
  },
  {
   "cell_type": "raw",
   "id": "1ba565af",
   "metadata": {},
   "source": [
    "Highest Orders: The highest order by a country is 349226, and the corresponding country is United kingdom."
   ]
  },
  {
   "cell_type": "markdown",
   "id": "6c5c8a56",
   "metadata": {},
   "source": [
    "#### Top Customers with the Greatest Spending"
   ]
  },
  {
   "cell_type": "code",
   "execution_count": 44,
   "id": "7a3a0249",
   "metadata": {},
   "outputs": [
    {
     "data": {
      "text/html": [
       "<div>\n",
       "<style scoped>\n",
       "    .dataframe tbody tr th:only-of-type {\n",
       "        vertical-align: middle;\n",
       "    }\n",
       "\n",
       "    .dataframe tbody tr th {\n",
       "        vertical-align: top;\n",
       "    }\n",
       "\n",
       "    .dataframe thead th {\n",
       "        text-align: right;\n",
       "    }\n",
       "</style>\n",
       "<table border=\"1\" class=\"dataframe\">\n",
       "  <thead>\n",
       "    <tr style=\"text-align: right;\">\n",
       "      <th></th>\n",
       "      <th>CustomerID</th>\n",
       "      <th>Amount_spent</th>\n",
       "    </tr>\n",
       "  </thead>\n",
       "  <tbody>\n",
       "    <tr>\n",
       "      <th>0</th>\n",
       "      <td>17850</td>\n",
       "      <td>15.30</td>\n",
       "    </tr>\n",
       "    <tr>\n",
       "      <th>1</th>\n",
       "      <td>17850</td>\n",
       "      <td>20.34</td>\n",
       "    </tr>\n",
       "    <tr>\n",
       "      <th>2</th>\n",
       "      <td>17850</td>\n",
       "      <td>22.00</td>\n",
       "    </tr>\n",
       "    <tr>\n",
       "      <th>3</th>\n",
       "      <td>17850</td>\n",
       "      <td>20.34</td>\n",
       "    </tr>\n",
       "    <tr>\n",
       "      <th>4</th>\n",
       "      <td>17850</td>\n",
       "      <td>20.34</td>\n",
       "    </tr>\n",
       "  </tbody>\n",
       "</table>\n",
       "</div>"
      ],
      "text/plain": [
       "   CustomerID  Amount_spent\n",
       "0       17850         15.30\n",
       "1       17850         20.34\n",
       "2       17850         22.00\n",
       "3       17850         20.34\n",
       "4       17850         20.34"
      ]
     },
     "execution_count": 44,
     "metadata": {},
     "output_type": "execute_result"
    }
   ],
   "source": [
    "cust_spent = df[[\"CustomerID\",\"Amount_spent\"]]\n",
    "cust_spent.head()"
   ]
  },
  {
   "cell_type": "code",
   "execution_count": 45,
   "id": "24fa5681",
   "metadata": {},
   "outputs": [],
   "source": [
    "customer_spent = df.groupby(\"CustomerID\")[\"Amount_spent\"].count().reset_index()\n",
    "customer_spent = cust_spent.sort_values(\"Amount_spent\", ascending=False).head(20)"
   ]
  },
  {
   "cell_type": "code",
   "execution_count": 46,
   "id": "c4b546dd",
   "metadata": {},
   "outputs": [
    {
     "data": {
      "text/html": [
       "<div>\n",
       "<style scoped>\n",
       "    .dataframe tbody tr th:only-of-type {\n",
       "        vertical-align: middle;\n",
       "    }\n",
       "\n",
       "    .dataframe tbody tr th {\n",
       "        vertical-align: top;\n",
       "    }\n",
       "\n",
       "    .dataframe thead th {\n",
       "        text-align: right;\n",
       "    }\n",
       "</style>\n",
       "<table border=\"1\" class=\"dataframe\">\n",
       "  <thead>\n",
       "    <tr style=\"text-align: right;\">\n",
       "      <th></th>\n",
       "      <th>CustomerID</th>\n",
       "      <th>Amount_spent</th>\n",
       "    </tr>\n",
       "  </thead>\n",
       "  <tbody>\n",
       "    <tr>\n",
       "      <th>392265</th>\n",
       "      <td>16446</td>\n",
       "      <td>168469.60</td>\n",
       "    </tr>\n",
       "    <tr>\n",
       "      <th>36527</th>\n",
       "      <td>12346</td>\n",
       "      <td>77183.60</td>\n",
       "    </tr>\n",
       "    <tr>\n",
       "      <th>153601</th>\n",
       "      <td>15098</td>\n",
       "      <td>38970.00</td>\n",
       "    </tr>\n",
       "    <tr>\n",
       "      <th>116879</th>\n",
       "      <td>16029</td>\n",
       "      <td>8142.75</td>\n",
       "    </tr>\n",
       "    <tr>\n",
       "      <th>246061</th>\n",
       "      <td>17450</td>\n",
       "      <td>7144.72</td>\n",
       "    </tr>\n",
       "    <tr>\n",
       "      <th>108215</th>\n",
       "      <td>15749</td>\n",
       "      <td>6539.40</td>\n",
       "    </tr>\n",
       "    <tr>\n",
       "      <th>32204</th>\n",
       "      <td>15749</td>\n",
       "      <td>6539.40</td>\n",
       "    </tr>\n",
       "    <tr>\n",
       "      <th>304648</th>\n",
       "      <td>14646</td>\n",
       "      <td>4992.00</td>\n",
       "    </tr>\n",
       "    <tr>\n",
       "      <th>32202</th>\n",
       "      <td>15749</td>\n",
       "      <td>4921.50</td>\n",
       "    </tr>\n",
       "    <tr>\n",
       "      <th>108211</th>\n",
       "      <td>15749</td>\n",
       "      <td>4632.00</td>\n",
       "    </tr>\n",
       "    <tr>\n",
       "      <th>32264</th>\n",
       "      <td>15749</td>\n",
       "      <td>4522.50</td>\n",
       "    </tr>\n",
       "    <tr>\n",
       "      <th>169611</th>\n",
       "      <td>17949</td>\n",
       "      <td>4401.00</td>\n",
       "    </tr>\n",
       "    <tr>\n",
       "      <th>108213</th>\n",
       "      <td>15749</td>\n",
       "      <td>4254.50</td>\n",
       "    </tr>\n",
       "    <tr>\n",
       "      <th>201803</th>\n",
       "      <td>12931</td>\n",
       "      <td>4176.00</td>\n",
       "    </tr>\n",
       "    <tr>\n",
       "      <th>305390</th>\n",
       "      <td>12536</td>\n",
       "      <td>4161.06</td>\n",
       "    </tr>\n",
       "    <tr>\n",
       "      <th>305366</th>\n",
       "      <td>12536</td>\n",
       "      <td>4161.06</td>\n",
       "    </tr>\n",
       "    <tr>\n",
       "      <th>31662</th>\n",
       "      <td>17450</td>\n",
       "      <td>4121.64</td>\n",
       "    </tr>\n",
       "    <tr>\n",
       "      <th>292044</th>\n",
       "      <td>12744</td>\n",
       "      <td>3949.32</td>\n",
       "    </tr>\n",
       "    <tr>\n",
       "      <th>388177</th>\n",
       "      <td>15195</td>\n",
       "      <td>3861.00</td>\n",
       "    </tr>\n",
       "    <tr>\n",
       "      <th>10526</th>\n",
       "      <td>18102</td>\n",
       "      <td>3828.00</td>\n",
       "    </tr>\n",
       "  </tbody>\n",
       "</table>\n",
       "</div>"
      ],
      "text/plain": [
       "        CustomerID  Amount_spent\n",
       "392265       16446     168469.60\n",
       "36527        12346      77183.60\n",
       "153601       15098      38970.00\n",
       "116879       16029       8142.75\n",
       "246061       17450       7144.72\n",
       "108215       15749       6539.40\n",
       "32204        15749       6539.40\n",
       "304648       14646       4992.00\n",
       "32202        15749       4921.50\n",
       "108211       15749       4632.00\n",
       "32264        15749       4522.50\n",
       "169611       17949       4401.00\n",
       "108213       15749       4254.50\n",
       "201803       12931       4176.00\n",
       "305390       12536       4161.06\n",
       "305366       12536       4161.06\n",
       "31662        17450       4121.64\n",
       "292044       12744       3949.32\n",
       "388177       15195       3861.00\n",
       "10526        18102       3828.00"
      ]
     },
     "execution_count": 46,
     "metadata": {},
     "output_type": "execute_result"
    }
   ],
   "source": [
    "customer_spent"
   ]
  },
  {
   "cell_type": "code",
   "execution_count": 47,
   "id": "9f9b154b",
   "metadata": {},
   "outputs": [
    {
     "data": {
      "image/png": "[encoded data removed]",
      "text/plain": [
       "<Figure size 1500x600 with 1 Axes>"
      ]
     },
     "metadata": {},
     "output_type": "display_data"
    }
   ],
   "source": [
    "plt.figure(figsize=(15, 6))\n",
    "ax=sns.barplot(x=\"CustomerID\", y=\"Amount_spent\", data=customer_spent)\n",
    "\n",
    "for bars in ax.containers:\n",
    "    ax.bar_label(bars)\n",
    "    \n",
    "plt.xlabel(\"CustomerID\")\n",
    "plt.ylabel(\"Amount Spent\")\n",
    "plt.title(\"Greatest Spenders\")\n",
    "plt.xticks(rotation=90)\n",
    "plt.show()"
   ]
  },
  {
   "cell_type": "raw",
   "id": "8311953e",
   "metadata": {},
   "source": [
    "Highest Amount Spent: The highest amount spent by a customer is 168,469.60, and the corresponding customer ID is 16446."
   ]
  },
  {
   "cell_type": "markdown",
   "id": "a17b3033",
   "metadata": {},
   "source": [
    "#### Top Countries with the Greatest Spending"
   ]
  },
  {
   "cell_type": "code",
   "execution_count": 48,
   "id": "fef6bec2",
   "metadata": {},
   "outputs": [
    {
     "data": {
      "text/html": [
       "<div>\n",
       "<style scoped>\n",
       "    .dataframe tbody tr th:only-of-type {\n",
       "        vertical-align: middle;\n",
       "    }\n",
       "\n",
       "    .dataframe tbody tr th {\n",
       "        vertical-align: top;\n",
       "    }\n",
       "\n",
       "    .dataframe thead th {\n",
       "        text-align: right;\n",
       "    }\n",
       "</style>\n",
       "<table border=\"1\" class=\"dataframe\">\n",
       "  <thead>\n",
       "    <tr style=\"text-align: right;\">\n",
       "      <th></th>\n",
       "      <th>Country</th>\n",
       "      <th>Amount_spent</th>\n",
       "    </tr>\n",
       "  </thead>\n",
       "  <tbody>\n",
       "    <tr>\n",
       "      <th>0</th>\n",
       "      <td>United Kingdom</td>\n",
       "      <td>15.30</td>\n",
       "    </tr>\n",
       "    <tr>\n",
       "      <th>1</th>\n",
       "      <td>United Kingdom</td>\n",
       "      <td>20.34</td>\n",
       "    </tr>\n",
       "    <tr>\n",
       "      <th>2</th>\n",
       "      <td>United Kingdom</td>\n",
       "      <td>22.00</td>\n",
       "    </tr>\n",
       "    <tr>\n",
       "      <th>3</th>\n",
       "      <td>United Kingdom</td>\n",
       "      <td>20.34</td>\n",
       "    </tr>\n",
       "    <tr>\n",
       "      <th>4</th>\n",
       "      <td>United Kingdom</td>\n",
       "      <td>20.34</td>\n",
       "    </tr>\n",
       "  </tbody>\n",
       "</table>\n",
       "</div>"
      ],
      "text/plain": [
       "          Country  Amount_spent\n",
       "0  United Kingdom         15.30\n",
       "1  United Kingdom         20.34\n",
       "2  United Kingdom         22.00\n",
       "3  United Kingdom         20.34\n",
       "4  United Kingdom         20.34"
      ]
     },
     "execution_count": 48,
     "metadata": {},
     "output_type": "execute_result"
    }
   ],
   "source": [
    "country_spend = df[[\"Country\",\"Amount_spent\"]]\n",
    "country_spend.head()"
   ]
  },
  {
   "cell_type": "code",
   "execution_count": 49,
   "id": "71cdf10b",
   "metadata": {},
   "outputs": [],
   "source": [
    "country_spend = df.groupby(\"Country\")[\"Amount_spent\"].count().reset_index()\n",
    "country_spend = country_spend.sort_values(\"Amount_spent\", ascending=False).head(15)"
   ]
  },
  {
   "cell_type": "code",
   "execution_count": 50,
   "id": "55fc062c",
   "metadata": {},
   "outputs": [
    {
     "data": {
      "text/html": [
       "<div>\n",
       "<style scoped>\n",
       "    .dataframe tbody tr th:only-of-type {\n",
       "        vertical-align: middle;\n",
       "    }\n",
       "\n",
       "    .dataframe tbody tr th {\n",
       "        vertical-align: top;\n",
       "    }\n",
       "\n",
       "    .dataframe thead th {\n",
       "        text-align: right;\n",
       "    }\n",
       "</style>\n",
       "<table border=\"1\" class=\"dataframe\">\n",
       "  <thead>\n",
       "    <tr style=\"text-align: right;\">\n",
       "      <th></th>\n",
       "      <th>Country</th>\n",
       "      <th>Amount_spent</th>\n",
       "    </tr>\n",
       "  </thead>\n",
       "  <tbody>\n",
       "    <tr>\n",
       "      <th>35</th>\n",
       "      <td>United Kingdom</td>\n",
       "      <td>349226</td>\n",
       "    </tr>\n",
       "    <tr>\n",
       "      <th>14</th>\n",
       "      <td>Germany</td>\n",
       "      <td>9027</td>\n",
       "    </tr>\n",
       "    <tr>\n",
       "      <th>13</th>\n",
       "      <td>France</td>\n",
       "      <td>8327</td>\n",
       "    </tr>\n",
       "    <tr>\n",
       "      <th>10</th>\n",
       "      <td>EIRE</td>\n",
       "      <td>7228</td>\n",
       "    </tr>\n",
       "    <tr>\n",
       "      <th>30</th>\n",
       "      <td>Spain</td>\n",
       "      <td>2480</td>\n",
       "    </tr>\n",
       "    <tr>\n",
       "      <th>23</th>\n",
       "      <td>Netherlands</td>\n",
       "      <td>2363</td>\n",
       "    </tr>\n",
       "    <tr>\n",
       "      <th>3</th>\n",
       "      <td>Belgium</td>\n",
       "      <td>2031</td>\n",
       "    </tr>\n",
       "    <tr>\n",
       "      <th>32</th>\n",
       "      <td>Switzerland</td>\n",
       "      <td>1842</td>\n",
       "    </tr>\n",
       "    <tr>\n",
       "      <th>26</th>\n",
       "      <td>Portugal</td>\n",
       "      <td>1453</td>\n",
       "    </tr>\n",
       "    <tr>\n",
       "      <th>0</th>\n",
       "      <td>Australia</td>\n",
       "      <td>1184</td>\n",
       "    </tr>\n",
       "    <tr>\n",
       "      <th>24</th>\n",
       "      <td>Norway</td>\n",
       "      <td>1072</td>\n",
       "    </tr>\n",
       "    <tr>\n",
       "      <th>18</th>\n",
       "      <td>Italy</td>\n",
       "      <td>758</td>\n",
       "    </tr>\n",
       "    <tr>\n",
       "      <th>6</th>\n",
       "      <td>Channel Islands</td>\n",
       "      <td>747</td>\n",
       "    </tr>\n",
       "    <tr>\n",
       "      <th>12</th>\n",
       "      <td>Finland</td>\n",
       "      <td>685</td>\n",
       "    </tr>\n",
       "    <tr>\n",
       "      <th>7</th>\n",
       "      <td>Cyprus</td>\n",
       "      <td>603</td>\n",
       "    </tr>\n",
       "  </tbody>\n",
       "</table>\n",
       "</div>"
      ],
      "text/plain": [
       "            Country  Amount_spent\n",
       "35   United Kingdom        349226\n",
       "14          Germany          9027\n",
       "13           France          8327\n",
       "10             EIRE          7228\n",
       "30            Spain          2480\n",
       "23      Netherlands          2363\n",
       "3           Belgium          2031\n",
       "32      Switzerland          1842\n",
       "26         Portugal          1453\n",
       "0         Australia          1184\n",
       "24           Norway          1072\n",
       "18            Italy           758\n",
       "6   Channel Islands           747\n",
       "12          Finland           685\n",
       "7            Cyprus           603"
      ]
     },
     "execution_count": 50,
     "metadata": {},
     "output_type": "execute_result"
    }
   ],
   "source": [
    "country_spend"
   ]
  },
  {
   "cell_type": "code",
   "execution_count": 51,
   "id": "db578249",
   "metadata": {},
   "outputs": [
    {
     "data": {
      "image/png": "[encoded data removed]",
      "text/plain": [
       "<Figure size 1500x600 with 1 Axes>"
      ]
     },
     "metadata": {},
     "output_type": "display_data"
    }
   ],
   "source": [
    "plt.figure(figsize=(15, 6))\n",
    "ax=sns.barplot(x=\"Country\", y=\"Amount_spent\", data=country_spend)\n",
    "\n",
    "for bars in ax.containers:\n",
    "    ax.bar_label(bars)\n",
    "    \n",
    "plt.xlabel(\"Country\")\n",
    "plt.ylabel(\"Amount Spent\")\n",
    "plt.title(\"Greatest Spenders\")\n",
    "plt.xticks(rotation=90)\n",
    "plt.show()"
   ]
  },
  {
   "cell_type": "raw",
   "id": "974c2d62",
   "metadata": {},
   "source": [
    "Highest Amount Spent: The highest amount spent by a country is 349226, and the corresponding country is Uk."
   ]
  },
  {
   "cell_type": "markdown",
   "id": "e034f058",
   "metadata": {},
   "source": [
    "### How many orders (per month)?"
   ]
  },
  {
   "cell_type": "code",
   "execution_count": 52,
   "id": "dfc835a0",
   "metadata": {},
   "outputs": [],
   "source": [
    "year_month = df.groupby(\"Month\")[\"InvoiceNo\"].nunique().reset_index()\n",
    "year_month = year_month.sort_values(\"InvoiceNo\", ascending=False)"
   ]
  },
  {
   "cell_type": "code",
   "execution_count": 53,
   "id": "152bd8c6",
   "metadata": {},
   "outputs": [
    {
     "data": {
      "text/html": [
       "<div>\n",
       "<style scoped>\n",
       "    .dataframe tbody tr th:only-of-type {\n",
       "        vertical-align: middle;\n",
       "    }\n",
       "\n",
       "    .dataframe tbody tr th {\n",
       "        vertical-align: top;\n",
       "    }\n",
       "\n",
       "    .dataframe thead th {\n",
       "        text-align: right;\n",
       "    }\n",
       "</style>\n",
       "<table border=\"1\" class=\"dataframe\">\n",
       "  <thead>\n",
       "    <tr style=\"text-align: right;\">\n",
       "      <th></th>\n",
       "      <th>Month</th>\n",
       "      <th>InvoiceNo</th>\n",
       "    </tr>\n",
       "  </thead>\n",
       "  <tbody>\n",
       "    <tr>\n",
       "      <th>10</th>\n",
       "      <td>11</td>\n",
       "      <td>2989</td>\n",
       "    </tr>\n",
       "    <tr>\n",
       "      <th>9</th>\n",
       "      <td>10</td>\n",
       "      <td>2054</td>\n",
       "    </tr>\n",
       "    <tr>\n",
       "      <th>11</th>\n",
       "      <td>12</td>\n",
       "      <td>1688</td>\n",
       "    </tr>\n",
       "    <tr>\n",
       "      <th>8</th>\n",
       "      <td>9</td>\n",
       "      <td>1650</td>\n",
       "    </tr>\n",
       "    <tr>\n",
       "      <th>4</th>\n",
       "      <td>5</td>\n",
       "      <td>1616</td>\n",
       "    </tr>\n",
       "    <tr>\n",
       "      <th>6</th>\n",
       "      <td>7</td>\n",
       "      <td>1369</td>\n",
       "    </tr>\n",
       "    <tr>\n",
       "      <th>5</th>\n",
       "      <td>6</td>\n",
       "      <td>1356</td>\n",
       "    </tr>\n",
       "    <tr>\n",
       "      <th>7</th>\n",
       "      <td>8</td>\n",
       "      <td>1341</td>\n",
       "    </tr>\n",
       "    <tr>\n",
       "      <th>2</th>\n",
       "      <td>3</td>\n",
       "      <td>1291</td>\n",
       "    </tr>\n",
       "    <tr>\n",
       "      <th>0</th>\n",
       "      <td>1</td>\n",
       "      <td>1101</td>\n",
       "    </tr>\n",
       "    <tr>\n",
       "      <th>3</th>\n",
       "      <td>4</td>\n",
       "      <td>1099</td>\n",
       "    </tr>\n",
       "    <tr>\n",
       "      <th>1</th>\n",
       "      <td>2</td>\n",
       "      <td>982</td>\n",
       "    </tr>\n",
       "  </tbody>\n",
       "</table>\n",
       "</div>"
      ],
      "text/plain": [
       "    Month  InvoiceNo\n",
       "10     11       2989\n",
       "9      10       2054\n",
       "11     12       1688\n",
       "8       9       1650\n",
       "4       5       1616\n",
       "6       7       1369\n",
       "5       6       1356\n",
       "7       8       1341\n",
       "2       3       1291\n",
       "0       1       1101\n",
       "3       4       1099\n",
       "1       2        982"
      ]
     },
     "execution_count": 53,
     "metadata": {},
     "output_type": "execute_result"
    }
   ],
   "source": [
    "year_month"
   ]
  },
  {
   "cell_type": "code",
   "execution_count": 54,
   "id": "196b1c50",
   "metadata": {},
   "outputs": [
    {
     "data": {
      "image/png": "[encoded data removed]",
      "text/plain": [
       "<Figure size 1200x600 with 1 Axes>"
      ]
     },
     "metadata": {},
     "output_type": "display_data"
    }
   ],
   "source": [
    "plt.figure(figsize=(12, 6))\n",
    "ax=sns.barplot(x=\"Month\", y=\"InvoiceNo\", data=year_month)\n",
    "\n",
    "for bars in ax.containers:\n",
    "    ax.bar_label(bars)\n",
    "    \n",
    "plt.xlabel(\"Month\")\n",
    "plt.ylabel(\"Count of Unique Invoice Numbers\")\n",
    "plt.title(\"Count of Unique Invoice Numbers by Month\")\n",
    "plt.show()"
   ]
  },
  {
   "cell_type": "raw",
   "id": "58fc69be",
   "metadata": {},
   "source": [
    "November 2017 has the highest sales The month with the lowest sales is undetermined as the dataset consists of transactions until 7th December 2017 in December"
   ]
  },
  {
   "cell_type": "markdown",
   "id": "0285e3a5",
   "metadata": {},
   "source": [
    "### How many orders (per day)?"
   ]
  },
  {
   "cell_type": "code",
   "execution_count": 55,
   "id": "6c3bf477",
   "metadata": {},
   "outputs": [
    {
     "data": {
      "image/png": "[encoded data removed]",
      "text/plain": [
       "<Figure size 1200x600 with 1 Axes>"
      ]
     },
     "metadata": {},
     "output_type": "display_data"
    }
   ],
   "source": [
    "import datetime\n",
    "\n",
    "day_names = ['Monday', 'Tuesday', 'Wednesday', 'Thursday', 'Friday', 'Saturday', 'Sunday']\n",
    "\n",
    "df['DayName'] = df['Invoice_date'].dt.strftime('%A')\n",
    "\n",
    "day_orders = df.groupby('DayName')['InvoiceNo'].nunique().reindex(day_names).reset_index()\n",
    "\n",
    "plt.figure(figsize=(12, 6))\n",
    "ax = sns.barplot(x='DayName', y='InvoiceNo', data=day_orders)\n",
    "\n",
    "for bars in ax.containers:\n",
    "    ax.bar_label(bars)\n",
    "\n",
    "plt.xlabel('Day')\n",
    "plt.ylabel('Number of Orders')\n",
    "plt.title('Number of Orders per Day')\n",
    "\n",
    "plt.show()"
   ]
  },
  {
   "cell_type": "raw",
   "id": "da4b1fd9",
   "metadata": {},
   "source": [
    "There are no transactions on Saturday between 29th Dec 2016 - 7th Dec 2017\n",
    "\n",
    "The number of orders received by the company tends to increases from Monday to Thursday and decrese afterward."
   ]
  },
  {
   "cell_type": "markdown",
   "id": "1a7752e1",
   "metadata": {},
   "source": [
    "# Perform RFM analysis:"
   ]
  },
  {
   "cell_type": "raw",
   "id": "5ccb5169",
   "metadata": {},
   "source": [
    "RFM stands for Recency, Frequency, Monetary Value and it is the technique of customer segmentation based on their transaction history. The RFM analysis is based on three criterias, which measure different customer characteristics:\n",
    "\n",
    "Recency: Days since last purchase/order of the client;\n",
    "\n",
    "Frequency: Total number of purchases the customer were made;\n",
    "\n",
    "Monetary Value: Total money the customer spent per order.\n"
   ]
  },
  {
   "cell_type": "code",
   "execution_count": 56,
   "id": "4aca8ea9",
   "metadata": {},
   "outputs": [],
   "source": [
    "#understanding/findin out each customers rec , freq and monetary values\n",
    "\n",
    "\n",
    "\n",
    "#recenccy\n",
    "\n",
    "day=\"2018-01-01\"\n",
    "day=pd.to_datetime(day)\n",
    "df['Date']=pd.to_datetime(df[\"InvoiceDate\"])\n",
    "\n",
    "recency=df.groupby([\"CustomerID\"]).agg({\"Date\":lambda x:((day-x.max()).days)})\n"
   ]
  },
  {
   "cell_type": "code",
   "execution_count": 57,
   "id": "f28bb16d",
   "metadata": {},
   "outputs": [
    {
     "data": {
      "text/html": [
       "<div>\n",
       "<style scoped>\n",
       "    .dataframe tbody tr th:only-of-type {\n",
       "        vertical-align: middle;\n",
       "    }\n",
       "\n",
       "    .dataframe tbody tr th {\n",
       "        vertical-align: top;\n",
       "    }\n",
       "\n",
       "    .dataframe thead th {\n",
       "        text-align: right;\n",
       "    }\n",
       "</style>\n",
       "<table border=\"1\" class=\"dataframe\">\n",
       "  <thead>\n",
       "    <tr style=\"text-align: right;\">\n",
       "      <th></th>\n",
       "      <th>Date</th>\n",
       "    </tr>\n",
       "    <tr>\n",
       "      <th>CustomerID</th>\n",
       "      <th></th>\n",
       "    </tr>\n",
       "  </thead>\n",
       "  <tbody>\n",
       "    <tr>\n",
       "      <th>12346</th>\n",
       "      <td>350</td>\n",
       "    </tr>\n",
       "    <tr>\n",
       "      <th>12347</th>\n",
       "      <td>27</td>\n",
       "    </tr>\n",
       "    <tr>\n",
       "      <th>12348</th>\n",
       "      <td>100</td>\n",
       "    </tr>\n",
       "    <tr>\n",
       "      <th>12349</th>\n",
       "      <td>43</td>\n",
       "    </tr>\n",
       "    <tr>\n",
       "      <th>12350</th>\n",
       "      <td>335</td>\n",
       "    </tr>\n",
       "    <tr>\n",
       "      <th>12352</th>\n",
       "      <td>61</td>\n",
       "    </tr>\n",
       "    <tr>\n",
       "      <th>12353</th>\n",
       "      <td>229</td>\n",
       "    </tr>\n",
       "    <tr>\n",
       "      <th>12354</th>\n",
       "      <td>257</td>\n",
       "    </tr>\n",
       "    <tr>\n",
       "      <th>12355</th>\n",
       "      <td>239</td>\n",
       "    </tr>\n",
       "    <tr>\n",
       "      <th>12356</th>\n",
       "      <td>47</td>\n",
       "    </tr>\n",
       "  </tbody>\n",
       "</table>\n",
       "</div>"
      ],
      "text/plain": [
       "            Date\n",
       "CustomerID      \n",
       "12346        350\n",
       "12347         27\n",
       "12348        100\n",
       "12349         43\n",
       "12350        335\n",
       "12352         61\n",
       "12353        229\n",
       "12354        257\n",
       "12355        239\n",
       "12356         47"
      ]
     },
     "execution_count": 57,
     "metadata": {},
     "output_type": "execute_result"
    }
   ],
   "source": [
    "recency.head(10)"
   ]
  },
  {
   "cell_type": "code",
   "execution_count": 58,
   "id": "32d9bd2d",
   "metadata": {},
   "outputs": [],
   "source": [
    "#frequency\n",
    "\n",
    "frequency = df.drop_duplicates(subset=\"InvoiceNo\").groupby([\"CustomerID\"])[[\"InvoiceNo\"]].count()"
   ]
  },
  {
   "cell_type": "code",
   "execution_count": 59,
   "id": "49c83c75",
   "metadata": {},
   "outputs": [
    {
     "data": {
      "text/html": [
       "<div>\n",
       "<style scoped>\n",
       "    .dataframe tbody tr th:only-of-type {\n",
       "        vertical-align: middle;\n",
       "    }\n",
       "\n",
       "    .dataframe tbody tr th {\n",
       "        vertical-align: top;\n",
       "    }\n",
       "\n",
       "    .dataframe thead th {\n",
       "        text-align: right;\n",
       "    }\n",
       "</style>\n",
       "<table border=\"1\" class=\"dataframe\">\n",
       "  <thead>\n",
       "    <tr style=\"text-align: right;\">\n",
       "      <th></th>\n",
       "      <th>InvoiceNo</th>\n",
       "    </tr>\n",
       "    <tr>\n",
       "      <th>CustomerID</th>\n",
       "      <th></th>\n",
       "    </tr>\n",
       "  </thead>\n",
       "  <tbody>\n",
       "    <tr>\n",
       "      <th>12346</th>\n",
       "      <td>1</td>\n",
       "    </tr>\n",
       "    <tr>\n",
       "      <th>12347</th>\n",
       "      <td>7</td>\n",
       "    </tr>\n",
       "    <tr>\n",
       "      <th>12348</th>\n",
       "      <td>4</td>\n",
       "    </tr>\n",
       "    <tr>\n",
       "      <th>12349</th>\n",
       "      <td>1</td>\n",
       "    </tr>\n",
       "    <tr>\n",
       "      <th>12350</th>\n",
       "      <td>1</td>\n",
       "    </tr>\n",
       "    <tr>\n",
       "      <th>...</th>\n",
       "      <td>...</td>\n",
       "    </tr>\n",
       "    <tr>\n",
       "      <th>18280</th>\n",
       "      <td>1</td>\n",
       "    </tr>\n",
       "    <tr>\n",
       "      <th>18281</th>\n",
       "      <td>1</td>\n",
       "    </tr>\n",
       "    <tr>\n",
       "      <th>18282</th>\n",
       "      <td>2</td>\n",
       "    </tr>\n",
       "    <tr>\n",
       "      <th>18283</th>\n",
       "      <td>16</td>\n",
       "    </tr>\n",
       "    <tr>\n",
       "      <th>18287</th>\n",
       "      <td>3</td>\n",
       "    </tr>\n",
       "  </tbody>\n",
       "</table>\n",
       "<p>4339 rows × 1 columns</p>\n",
       "</div>"
      ],
      "text/plain": [
       "            InvoiceNo\n",
       "CustomerID           \n",
       "12346               1\n",
       "12347               7\n",
       "12348               4\n",
       "12349               1\n",
       "12350               1\n",
       "...               ...\n",
       "18280               1\n",
       "18281               1\n",
       "18282               2\n",
       "18283              16\n",
       "18287               3\n",
       "\n",
       "[4339 rows x 1 columns]"
      ]
     },
     "execution_count": 59,
     "metadata": {},
     "output_type": "execute_result"
    }
   ],
   "source": [
    "frequency"
   ]
  },
  {
   "cell_type": "code",
   "execution_count": 60,
   "id": "01b3018e",
   "metadata": {},
   "outputs": [],
   "source": [
    "# Monetary\n",
    "\n",
    "monetary = df.groupby([\"CustomerID\"])[[\"Amount_spent\"]].sum()"
   ]
  },
  {
   "cell_type": "code",
   "execution_count": 61,
   "id": "fa294033",
   "metadata": {},
   "outputs": [
    {
     "data": {
      "text/html": [
       "<div>\n",
       "<style scoped>\n",
       "    .dataframe tbody tr th:only-of-type {\n",
       "        vertical-align: middle;\n",
       "    }\n",
       "\n",
       "    .dataframe tbody tr th {\n",
       "        vertical-align: top;\n",
       "    }\n",
       "\n",
       "    .dataframe thead th {\n",
       "        text-align: right;\n",
       "    }\n",
       "</style>\n",
       "<table border=\"1\" class=\"dataframe\">\n",
       "  <thead>\n",
       "    <tr style=\"text-align: right;\">\n",
       "      <th></th>\n",
       "      <th>Amount_spent</th>\n",
       "    </tr>\n",
       "    <tr>\n",
       "      <th>CustomerID</th>\n",
       "      <th></th>\n",
       "    </tr>\n",
       "  </thead>\n",
       "  <tbody>\n",
       "    <tr>\n",
       "      <th>12346</th>\n",
       "      <td>77183.60</td>\n",
       "    </tr>\n",
       "    <tr>\n",
       "      <th>12347</th>\n",
       "      <td>4310.00</td>\n",
       "    </tr>\n",
       "    <tr>\n",
       "      <th>12348</th>\n",
       "      <td>1797.24</td>\n",
       "    </tr>\n",
       "    <tr>\n",
       "      <th>12349</th>\n",
       "      <td>1757.55</td>\n",
       "    </tr>\n",
       "    <tr>\n",
       "      <th>12350</th>\n",
       "      <td>334.40</td>\n",
       "    </tr>\n",
       "    <tr>\n",
       "      <th>...</th>\n",
       "      <td>...</td>\n",
       "    </tr>\n",
       "    <tr>\n",
       "      <th>18280</th>\n",
       "      <td>180.60</td>\n",
       "    </tr>\n",
       "    <tr>\n",
       "      <th>18281</th>\n",
       "      <td>80.82</td>\n",
       "    </tr>\n",
       "    <tr>\n",
       "      <th>18282</th>\n",
       "      <td>178.05</td>\n",
       "    </tr>\n",
       "    <tr>\n",
       "      <th>18283</th>\n",
       "      <td>2045.53</td>\n",
       "    </tr>\n",
       "    <tr>\n",
       "      <th>18287</th>\n",
       "      <td>1837.28</td>\n",
       "    </tr>\n",
       "  </tbody>\n",
       "</table>\n",
       "<p>4339 rows × 1 columns</p>\n",
       "</div>"
      ],
      "text/plain": [
       "            Amount_spent\n",
       "CustomerID              \n",
       "12346           77183.60\n",
       "12347            4310.00\n",
       "12348            1797.24\n",
       "12349            1757.55\n",
       "12350             334.40\n",
       "...                  ...\n",
       "18280             180.60\n",
       "18281              80.82\n",
       "18282             178.05\n",
       "18283            2045.53\n",
       "18287            1837.28\n",
       "\n",
       "[4339 rows x 1 columns]"
      ]
     },
     "execution_count": 61,
     "metadata": {},
     "output_type": "execute_result"
    }
   ],
   "source": [
    "monetary"
   ]
  },
  {
   "cell_type": "code",
   "execution_count": 62,
   "id": "4c74581f",
   "metadata": {},
   "outputs": [],
   "source": [
    "RFM=pd.concat([recency,frequency,monetary], axis=1)\n",
    "RFM.columns = [\"Recency\", \"Frequency\", \"Monetary\"]"
   ]
  },
  {
   "cell_type": "code",
   "execution_count": 63,
   "id": "7f09ba82",
   "metadata": {},
   "outputs": [
    {
     "data": {
      "text/html": [
       "<div>\n",
       "<style scoped>\n",
       "    .dataframe tbody tr th:only-of-type {\n",
       "        vertical-align: middle;\n",
       "    }\n",
       "\n",
       "    .dataframe tbody tr th {\n",
       "        vertical-align: top;\n",
       "    }\n",
       "\n",
       "    .dataframe thead th {\n",
       "        text-align: right;\n",
       "    }\n",
       "</style>\n",
       "<table border=\"1\" class=\"dataframe\">\n",
       "  <thead>\n",
       "    <tr style=\"text-align: right;\">\n",
       "      <th></th>\n",
       "      <th>Recency</th>\n",
       "      <th>Frequency</th>\n",
       "      <th>Monetary</th>\n",
       "    </tr>\n",
       "    <tr>\n",
       "      <th>CustomerID</th>\n",
       "      <th></th>\n",
       "      <th></th>\n",
       "      <th></th>\n",
       "    </tr>\n",
       "  </thead>\n",
       "  <tbody>\n",
       "    <tr>\n",
       "      <th>12346</th>\n",
       "      <td>350</td>\n",
       "      <td>1</td>\n",
       "      <td>77183.60</td>\n",
       "    </tr>\n",
       "    <tr>\n",
       "      <th>12347</th>\n",
       "      <td>27</td>\n",
       "      <td>7</td>\n",
       "      <td>4310.00</td>\n",
       "    </tr>\n",
       "    <tr>\n",
       "      <th>12348</th>\n",
       "      <td>100</td>\n",
       "      <td>4</td>\n",
       "      <td>1797.24</td>\n",
       "    </tr>\n",
       "    <tr>\n",
       "      <th>12349</th>\n",
       "      <td>43</td>\n",
       "      <td>1</td>\n",
       "      <td>1757.55</td>\n",
       "    </tr>\n",
       "    <tr>\n",
       "      <th>12350</th>\n",
       "      <td>335</td>\n",
       "      <td>1</td>\n",
       "      <td>334.40</td>\n",
       "    </tr>\n",
       "    <tr>\n",
       "      <th>...</th>\n",
       "      <td>...</td>\n",
       "      <td>...</td>\n",
       "      <td>...</td>\n",
       "    </tr>\n",
       "    <tr>\n",
       "      <th>18280</th>\n",
       "      <td>302</td>\n",
       "      <td>1</td>\n",
       "      <td>180.60</td>\n",
       "    </tr>\n",
       "    <tr>\n",
       "      <th>18281</th>\n",
       "      <td>205</td>\n",
       "      <td>1</td>\n",
       "      <td>80.82</td>\n",
       "    </tr>\n",
       "    <tr>\n",
       "      <th>18282</th>\n",
       "      <td>32</td>\n",
       "      <td>2</td>\n",
       "      <td>178.05</td>\n",
       "    </tr>\n",
       "    <tr>\n",
       "      <th>18283</th>\n",
       "      <td>28</td>\n",
       "      <td>16</td>\n",
       "      <td>2045.53</td>\n",
       "    </tr>\n",
       "    <tr>\n",
       "      <th>18287</th>\n",
       "      <td>67</td>\n",
       "      <td>3</td>\n",
       "      <td>1837.28</td>\n",
       "    </tr>\n",
       "  </tbody>\n",
       "</table>\n",
       "<p>4339 rows × 3 columns</p>\n",
       "</div>"
      ],
      "text/plain": [
       "            Recency  Frequency  Monetary\n",
       "CustomerID                              \n",
       "12346           350          1  77183.60\n",
       "12347            27          7   4310.00\n",
       "12348           100          4   1797.24\n",
       "12349            43          1   1757.55\n",
       "12350           335          1    334.40\n",
       "...             ...        ...       ...\n",
       "18280           302          1    180.60\n",
       "18281           205          1     80.82\n",
       "18282            32          2    178.05\n",
       "18283            28         16   2045.53\n",
       "18287            67          3   1837.28\n",
       "\n",
       "[4339 rows x 3 columns]"
      ]
     },
     "execution_count": 63,
     "metadata": {},
     "output_type": "execute_result"
    }
   ],
   "source": [
    "RFM"
   ]
  },
  {
   "cell_type": "markdown",
   "id": "159ebe32",
   "metadata": {},
   "source": [
    "#### Standardize the RFM values:"
   ]
  },
  {
   "cell_type": "code",
   "execution_count": 64,
   "id": "956913a9",
   "metadata": {},
   "outputs": [],
   "source": [
    "from sklearn.preprocessing import StandardScaler\n",
    "scaler=StandardScaler()\n",
    "scaled=scaler.fit_transform(RFM)"
   ]
  },
  {
   "cell_type": "markdown",
   "id": "a94b3fd7",
   "metadata": {},
   "source": [
    "#### Apply K-means clustering to segment customers:"
   ]
  },
  {
   "cell_type": "code",
   "execution_count": 65,
   "id": "d228c589",
   "metadata": {},
   "outputs": [
    {
     "data": {
      "image/png": "[encoded data removed]",
      "text/plain": [
       "<Figure size 1200x800 with 1 Axes>"
      ]
     },
     "metadata": {},
     "output_type": "display_data"
    }
   ],
   "source": [
    "from sklearn.cluster import KMeans\n",
    "\n",
    "wcss=[]\n",
    "\n",
    "for i in np.arange(1,11):\n",
    "    kmeans=KMeans(n_clusters=i)\n",
    "    kmeans.fit(scaled)\n",
    "    wcss.append(kmeans.inertia_)\n",
    "\n",
    "\n",
    "plt.figure(figsize=(12,8))\n",
    "plt.plot(wcss, marker=\"o\")\n",
    "plt.xlabel('Values of K') \n",
    "plt.ylabel('WCSS') \n",
    "plt.title('The Elbow Method using Inertia') \n",
    "plt.show()"
   ]
  },
  {
   "cell_type": "code",
   "execution_count": 66,
   "id": "2c1f4d21",
   "metadata": {},
   "outputs": [],
   "source": [
    "from kneed import KneeLocator"
   ]
  },
  {
   "cell_type": "code",
   "execution_count": 68,
   "id": "f76de1e7",
   "metadata": {},
   "outputs": [
    {
     "data": {
      "text/plain": [
       "4"
      ]
     },
     "execution_count": 68,
     "metadata": {},
     "output_type": "execute_result"
    }
   ],
   "source": [
    "k1=KneeLocator(range(1,11),wcss,curve='convex',direction='decreasing')\n",
    "k1.elbow"
   ]
  },
  {
   "cell_type": "raw",
   "id": "d77dd6c9",
   "metadata": {},
   "source": [
    "The cluster value where this decrease in inertia value becomes constant can be chosen as the right cluster value for our data. Looking at the above elbow curve, we can choose any number of clusters 4."
   ]
  },
  {
   "cell_type": "code",
   "execution_count": 72,
   "id": "e8b1743b",
   "metadata": {},
   "outputs": [],
   "source": [
    "kmeans=KMeans(n_clusters=3)\n",
    "kmeans.fit(scaled)\n",
    "RFM[\"Clusters\"]=(kmeans.labels_+1)"
   ]
  },
  {
   "cell_type": "code",
   "execution_count": 73,
   "id": "74de1d37",
   "metadata": {},
   "outputs": [
    {
     "data": {
      "text/html": [
       "<div>\n",
       "<style scoped>\n",
       "    .dataframe tbody tr th:only-of-type {\n",
       "        vertical-align: middle;\n",
       "    }\n",
       "\n",
       "    .dataframe tbody tr th {\n",
       "        vertical-align: top;\n",
       "    }\n",
       "\n",
       "    .dataframe thead th {\n",
       "        text-align: right;\n",
       "    }\n",
       "</style>\n",
       "<table border=\"1\" class=\"dataframe\">\n",
       "  <thead>\n",
       "    <tr style=\"text-align: right;\">\n",
       "      <th></th>\n",
       "      <th>Recency</th>\n",
       "      <th>Frequency</th>\n",
       "      <th>Monetary</th>\n",
       "      <th>Clusters</th>\n",
       "    </tr>\n",
       "    <tr>\n",
       "      <th>CustomerID</th>\n",
       "      <th></th>\n",
       "      <th></th>\n",
       "      <th></th>\n",
       "      <th></th>\n",
       "    </tr>\n",
       "  </thead>\n",
       "  <tbody>\n",
       "    <tr>\n",
       "      <th>12346</th>\n",
       "      <td>350</td>\n",
       "      <td>1</td>\n",
       "      <td>77183.60</td>\n",
       "      <td>3</td>\n",
       "    </tr>\n",
       "    <tr>\n",
       "      <th>12347</th>\n",
       "      <td>27</td>\n",
       "      <td>7</td>\n",
       "      <td>4310.00</td>\n",
       "      <td>1</td>\n",
       "    </tr>\n",
       "    <tr>\n",
       "      <th>12348</th>\n",
       "      <td>100</td>\n",
       "      <td>4</td>\n",
       "      <td>1797.24</td>\n",
       "      <td>1</td>\n",
       "    </tr>\n",
       "    <tr>\n",
       "      <th>12349</th>\n",
       "      <td>43</td>\n",
       "      <td>1</td>\n",
       "      <td>1757.55</td>\n",
       "      <td>1</td>\n",
       "    </tr>\n",
       "    <tr>\n",
       "      <th>12350</th>\n",
       "      <td>335</td>\n",
       "      <td>1</td>\n",
       "      <td>334.40</td>\n",
       "      <td>3</td>\n",
       "    </tr>\n",
       "    <tr>\n",
       "      <th>...</th>\n",
       "      <td>...</td>\n",
       "      <td>...</td>\n",
       "      <td>...</td>\n",
       "      <td>...</td>\n",
       "    </tr>\n",
       "    <tr>\n",
       "      <th>18280</th>\n",
       "      <td>302</td>\n",
       "      <td>1</td>\n",
       "      <td>180.60</td>\n",
       "      <td>3</td>\n",
       "    </tr>\n",
       "    <tr>\n",
       "      <th>18281</th>\n",
       "      <td>205</td>\n",
       "      <td>1</td>\n",
       "      <td>80.82</td>\n",
       "      <td>3</td>\n",
       "    </tr>\n",
       "    <tr>\n",
       "      <th>18282</th>\n",
       "      <td>32</td>\n",
       "      <td>2</td>\n",
       "      <td>178.05</td>\n",
       "      <td>1</td>\n",
       "    </tr>\n",
       "    <tr>\n",
       "      <th>18283</th>\n",
       "      <td>28</td>\n",
       "      <td>16</td>\n",
       "      <td>2045.53</td>\n",
       "      <td>1</td>\n",
       "    </tr>\n",
       "    <tr>\n",
       "      <th>18287</th>\n",
       "      <td>67</td>\n",
       "      <td>3</td>\n",
       "      <td>1837.28</td>\n",
       "      <td>1</td>\n",
       "    </tr>\n",
       "  </tbody>\n",
       "</table>\n",
       "<p>4339 rows × 4 columns</p>\n",
       "</div>"
      ],
      "text/plain": [
       "            Recency  Frequency  Monetary  Clusters\n",
       "CustomerID                                        \n",
       "12346           350          1  77183.60         3\n",
       "12347            27          7   4310.00         1\n",
       "12348           100          4   1797.24         1\n",
       "12349            43          1   1757.55         1\n",
       "12350           335          1    334.40         3\n",
       "...             ...        ...       ...       ...\n",
       "18280           302          1    180.60         3\n",
       "18281           205          1     80.82         3\n",
       "18282            32          2    178.05         1\n",
       "18283            28         16   2045.53         1\n",
       "18287            67          3   1837.28         1\n",
       "\n",
       "[4339 rows x 4 columns]"
      ]
     },
     "execution_count": 73,
     "metadata": {},
     "output_type": "execute_result"
    }
   ],
   "source": [
    "RFM"
   ]
  },
  {
   "cell_type": "code",
   "execution_count": 74,
   "id": "dcba2774",
   "metadata": {},
   "outputs": [
    {
     "data": {
      "text/html": [
       "<div>\n",
       "<style scoped>\n",
       "    .dataframe tbody tr th:only-of-type {\n",
       "        vertical-align: middle;\n",
       "    }\n",
       "\n",
       "    .dataframe tbody tr th {\n",
       "        vertical-align: top;\n",
       "    }\n",
       "\n",
       "    .dataframe thead th {\n",
       "        text-align: right;\n",
       "    }\n",
       "</style>\n",
       "<table border=\"1\" class=\"dataframe\">\n",
       "  <thead>\n",
       "    <tr style=\"text-align: right;\">\n",
       "      <th></th>\n",
       "      <th>Recency</th>\n",
       "      <th>Frequency</th>\n",
       "      <th>Monetary</th>\n",
       "    </tr>\n",
       "    <tr>\n",
       "      <th>Clusters</th>\n",
       "      <th></th>\n",
       "      <th></th>\n",
       "      <th></th>\n",
       "    </tr>\n",
       "  </thead>\n",
       "  <tbody>\n",
       "    <tr>\n",
       "      <th>1</th>\n",
       "      <td>65.821761</td>\n",
       "      <td>4.676999</td>\n",
       "      <td>1850.896321</td>\n",
       "    </tr>\n",
       "    <tr>\n",
       "      <th>2</th>\n",
       "      <td>30.461538</td>\n",
       "      <td>66.500000</td>\n",
       "      <td>85826.078077</td>\n",
       "    </tr>\n",
       "    <tr>\n",
       "      <th>3</th>\n",
       "      <td>271.122355</td>\n",
       "      <td>1.581417</td>\n",
       "      <td>629.931399</td>\n",
       "    </tr>\n",
       "  </tbody>\n",
       "</table>\n",
       "</div>"
      ],
      "text/plain": [
       "             Recency  Frequency      Monetary\n",
       "Clusters                                     \n",
       "1          65.821761   4.676999   1850.896321\n",
       "2          30.461538  66.500000  85826.078077\n",
       "3         271.122355   1.581417    629.931399"
      ]
     },
     "execution_count": 74,
     "metadata": {},
     "output_type": "execute_result"
    }
   ],
   "source": [
    "final=RFM.groupby(\"Clusters\")[\"Recency\",\"Frequency\",\"Monetary\"].mean()\n",
    "final"
   ]
  },
  {
   "cell_type": "raw",
   "id": "c807575d",
   "metadata": {},
   "source": [
    "Cluster 1:\n",
    "\n",
    "Recency: Around 66 days since the last purchase.\n",
    "Frequency: Moderate purchase frequency (approximately 4.68).\n",
    "Monetary: Moderate spending level (approximately $1,850.07).\n",
    "\n",
    "Cluster 2:\n",
    "\n",
    "Recency: Recent purchases with an average of around 30.46 days.\n",
    "Frequency: High purchase frequency (approximately 66.5).\n",
    "Monetary: High spending level (approximately $85,826.08).\n",
    "\n",
    "Cluster 3:\n",
    "\n",
    "Recency: Longer time since the last purchase with an average of approximately 271.32 days.\n",
    "Frequency: Low purchase frequency (approximately 1.58).\n",
    "Monetary: Lower spending level (approximately $630.14)."
   ]
  },
  {
   "cell_type": "markdown",
   "id": "f4df23fb",
   "metadata": {},
   "source": [
    "### Interpretations\n",
    "\n",
    "\n",
    "Cluster 1 represents moderately active customers who make purchases at a moderate frequency and have moderate spending levels.\n",
    "\n",
    "Cluster 2 represents highly active and high-value customers who make frequent purchases and have significantly higher spending levels.\n",
    "\n",
    "Cluster 3 represents less active and lower-value customers who make infrequent purchases and have lower spending levels."
   ]
  },
  {
   "cell_type": "code",
   "execution_count": 75,
   "id": "40ec7a09",
   "metadata": {},
   "outputs": [],
   "source": [
    "def func(row):\n",
    "    if row[\"Clusters\"]==1:\n",
    "        return 'Whales'\n",
    "    elif row[\"Clusters\"]==2:\n",
    "        return 'Lapsed Cx'\n",
    "    else:\n",
    "        return 'Avg. Cx'"
   ]
  },
  {
   "cell_type": "code",
   "execution_count": 76,
   "id": "3cd62423",
   "metadata": {},
   "outputs": [],
   "source": [
    "RFM['group']=RFM.apply(func, axis=1)"
   ]
  },
  {
   "cell_type": "code",
   "execution_count": 77,
   "id": "49a7eaf2",
   "metadata": {},
   "outputs": [
    {
     "data": {
      "text/html": [
       "<div>\n",
       "<style scoped>\n",
       "    .dataframe tbody tr th:only-of-type {\n",
       "        vertical-align: middle;\n",
       "    }\n",
       "\n",
       "    .dataframe tbody tr th {\n",
       "        vertical-align: top;\n",
       "    }\n",
       "\n",
       "    .dataframe thead th {\n",
       "        text-align: right;\n",
       "    }\n",
       "</style>\n",
       "<table border=\"1\" class=\"dataframe\">\n",
       "  <thead>\n",
       "    <tr style=\"text-align: right;\">\n",
       "      <th></th>\n",
       "      <th>Recency</th>\n",
       "      <th>Frequency</th>\n",
       "      <th>Monetary</th>\n",
       "      <th>Clusters</th>\n",
       "      <th>group</th>\n",
       "    </tr>\n",
       "    <tr>\n",
       "      <th>CustomerID</th>\n",
       "      <th></th>\n",
       "      <th></th>\n",
       "      <th></th>\n",
       "      <th></th>\n",
       "      <th></th>\n",
       "    </tr>\n",
       "  </thead>\n",
       "  <tbody>\n",
       "    <tr>\n",
       "      <th>12346</th>\n",
       "      <td>350</td>\n",
       "      <td>1</td>\n",
       "      <td>77183.60</td>\n",
       "      <td>3</td>\n",
       "      <td>Avg. Cx</td>\n",
       "    </tr>\n",
       "    <tr>\n",
       "      <th>12347</th>\n",
       "      <td>27</td>\n",
       "      <td>7</td>\n",
       "      <td>4310.00</td>\n",
       "      <td>1</td>\n",
       "      <td>Whales</td>\n",
       "    </tr>\n",
       "    <tr>\n",
       "      <th>12348</th>\n",
       "      <td>100</td>\n",
       "      <td>4</td>\n",
       "      <td>1797.24</td>\n",
       "      <td>1</td>\n",
       "      <td>Whales</td>\n",
       "    </tr>\n",
       "    <tr>\n",
       "      <th>12349</th>\n",
       "      <td>43</td>\n",
       "      <td>1</td>\n",
       "      <td>1757.55</td>\n",
       "      <td>1</td>\n",
       "      <td>Whales</td>\n",
       "    </tr>\n",
       "    <tr>\n",
       "      <th>12350</th>\n",
       "      <td>335</td>\n",
       "      <td>1</td>\n",
       "      <td>334.40</td>\n",
       "      <td>3</td>\n",
       "      <td>Avg. Cx</td>\n",
       "    </tr>\n",
       "    <tr>\n",
       "      <th>...</th>\n",
       "      <td>...</td>\n",
       "      <td>...</td>\n",
       "      <td>...</td>\n",
       "      <td>...</td>\n",
       "      <td>...</td>\n",
       "    </tr>\n",
       "    <tr>\n",
       "      <th>18280</th>\n",
       "      <td>302</td>\n",
       "      <td>1</td>\n",
       "      <td>180.60</td>\n",
       "      <td>3</td>\n",
       "      <td>Avg. Cx</td>\n",
       "    </tr>\n",
       "    <tr>\n",
       "      <th>18281</th>\n",
       "      <td>205</td>\n",
       "      <td>1</td>\n",
       "      <td>80.82</td>\n",
       "      <td>3</td>\n",
       "      <td>Avg. Cx</td>\n",
       "    </tr>\n",
       "    <tr>\n",
       "      <th>18282</th>\n",
       "      <td>32</td>\n",
       "      <td>2</td>\n",
       "      <td>178.05</td>\n",
       "      <td>1</td>\n",
       "      <td>Whales</td>\n",
       "    </tr>\n",
       "    <tr>\n",
       "      <th>18283</th>\n",
       "      <td>28</td>\n",
       "      <td>16</td>\n",
       "      <td>2045.53</td>\n",
       "      <td>1</td>\n",
       "      <td>Whales</td>\n",
       "    </tr>\n",
       "    <tr>\n",
       "      <th>18287</th>\n",
       "      <td>67</td>\n",
       "      <td>3</td>\n",
       "      <td>1837.28</td>\n",
       "      <td>1</td>\n",
       "      <td>Whales</td>\n",
       "    </tr>\n",
       "  </tbody>\n",
       "</table>\n",
       "<p>4339 rows × 5 columns</p>\n",
       "</div>"
      ],
      "text/plain": [
       "            Recency  Frequency  Monetary  Clusters    group\n",
       "CustomerID                                                 \n",
       "12346           350          1  77183.60         3  Avg. Cx\n",
       "12347            27          7   4310.00         1   Whales\n",
       "12348           100          4   1797.24         1   Whales\n",
       "12349            43          1   1757.55         1   Whales\n",
       "12350           335          1    334.40         3  Avg. Cx\n",
       "...             ...        ...       ...       ...      ...\n",
       "18280           302          1    180.60         3  Avg. Cx\n",
       "18281           205          1     80.82         3  Avg. Cx\n",
       "18282            32          2    178.05         1   Whales\n",
       "18283            28         16   2045.53         1   Whales\n",
       "18287            67          3   1837.28         1   Whales\n",
       "\n",
       "[4339 rows x 5 columns]"
      ]
     },
     "execution_count": 77,
     "metadata": {},
     "output_type": "execute_result"
    }
   ],
   "source": [
    "RFM"
   ]
  },
  {
   "cell_type": "code",
   "execution_count": 78,
   "id": "e8e5d68b",
   "metadata": {},
   "outputs": [],
   "source": [
    "result=RFM.group.value_counts()"
   ]
  },
  {
   "cell_type": "code",
   "execution_count": 79,
   "id": "b7781d2e",
   "metadata": {},
   "outputs": [
    {
     "data": {
      "text/plain": [
       "Whales       3226\n",
       "Avg. Cx      1087\n",
       "Lapsed Cx      26\n",
       "Name: group, dtype: int64"
      ]
     },
     "execution_count": 79,
     "metadata": {},
     "output_type": "execute_result"
    }
   ],
   "source": [
    "result"
   ]
  },
  {
   "cell_type": "code",
   "execution_count": 80,
   "id": "8b921cf3",
   "metadata": {},
   "outputs": [
    {
     "data": {
      "image/png": "[encoded data removed]",
      "text/plain": [
       "<Figure size 640x480 with 1 Axes>"
      ]
     },
     "metadata": {},
     "output_type": "display_data"
    }
   ],
   "source": [
    "ax=result.plot(kind=\"bar\", color=[\"Orange\",\"Red\",\"Green\"])\n",
    "\n",
    "for bar in ax.containers:\n",
    "    ax.bar_label(bar)"
   ]
  },
  {
   "cell_type": "markdown",
   "id": "a7d57923",
   "metadata": {},
   "source": [
    "### Observations:\n",
    "    \n",
    "Whales: There are 3,228 customers classified as \"Whales.\" These customers are high-value and make significant contributions to the company's revenue.\n",
    "\n",
    "Avg. Cx: There are 1,085 customers classified as \"Avg. Cx\" or average customers. They have moderate purchasing behavior and contribute to the company's revenue.\n",
    "\n",
    "Lapsed Cx: There are 26 customers classified as \"Lapsed Cx\" or lapsed customers. These customers have not made a purchase in a while and require attention to re-engage them."
   ]
  },
  {
   "cell_type": "code",
   "execution_count": null,
   "id": "bd85b9cf",
   "metadata": {},
   "outputs": [],
   "source": []
  }
 ],
 "metadata": {
  "kernelspec": {
   "display_name": "Python 3 (ipykernel)",
   "language": "python",
   "name": "python3"
  },
  "language_info": {
   "codemirror_mode": {
    "name": "ipython",
    "version": 3
   },
   "file_extension": ".py",
   "mimetype": "text/x-python",
   "name": "python",
   "nbconvert_exporter": "python",
   "pygments_lexer": "ipython3",
   "version": "3.9.13"
  }
 },
 "nbformat": 4,
 "nbformat_minor": 5
}
