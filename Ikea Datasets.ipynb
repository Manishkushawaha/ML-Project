{
 "cells": [
  {
   "cell_type": "markdown",
   "id": "c4cc4169",
   "metadata": {},
   "source": [
    "# Data Pipeline\n",
    "\n",
    "We are going to follow the below steps in our analysis:\n",
    "\n",
    "1 Importing Libraries\n",
    "\n",
    "2 Loading Dataset\n",
    "\n",
    "3 Explore Data\n",
    "\n",
    "a. Perform data cleaning, handle missing values, outliers, and inconsistencies.\n",
    "\n",
    "b.Conduct EDA to understand the structure, patterns, and relationships in the data. Visualize the data using plots and graphs to gain insights.\n",
    "\n",
    "\n",
    "4.Preprocess the Data:\n",
    "\n",
    "a.Preprocess the data by handling categorical variables, scaling or normalizing features, and encoding or transforming data as necessary.\n",
    "\n",
    "b. Split the data into training and testing sets.\n",
    "\n",
    "5.Train the Model\n",
    "\n",
    "6.Evaluate the Model"
   ]
  },
  {
   "cell_type": "markdown",
   "id": "c1c74f6a",
   "metadata": {},
   "source": [
    "### Importing libraries for Data Manipulation"
   ]
  },
  {
   "cell_type": "code",
   "execution_count": 1,
   "id": "c0679088",
   "metadata": {},
   "outputs": [],
   "source": [
    "import pandas as pd\n",
    "import numpy as np\n",
    "import seaborn as sns\n",
    "import matplotlib.pyplot as plt\n",
    "import warnings\n",
    "warnings.filterwarnings('ignore')\n"
   ]
  },
  {
   "cell_type": "markdown",
   "id": "a294bfeb",
   "metadata": {},
   "source": [
    "### Importing Dataset into Jupyter"
   ]
  },
  {
   "cell_type": "code",
   "execution_count": 2,
   "id": "1271bad4",
   "metadata": {},
   "outputs": [],
   "source": [
    "df = pd.read_csv(\"D:\\\\Data sets\\\\ikea.csv\")"
   ]
  },
  {
   "cell_type": "code",
   "execution_count": 3,
   "id": "be35f643",
   "metadata": {},
   "outputs": [
    {
     "data": {
      "text/html": [
       "<div>\n",
       "<style scoped>\n",
       "    .dataframe tbody tr th:only-of-type {\n",
       "        vertical-align: middle;\n",
       "    }\n",
       "\n",
       "    .dataframe tbody tr th {\n",
       "        vertical-align: top;\n",
       "    }\n",
       "\n",
       "    .dataframe thead th {\n",
       "        text-align: right;\n",
       "    }\n",
       "</style>\n",
       "<table border=\"1\" class=\"dataframe\">\n",
       "  <thead>\n",
       "    <tr style=\"text-align: right;\">\n",
       "      <th></th>\n",
       "      <th>Unnamed: 0</th>\n",
       "      <th>item_id</th>\n",
       "      <th>name</th>\n",
       "      <th>category</th>\n",
       "      <th>price</th>\n",
       "      <th>old_price</th>\n",
       "      <th>sellable_online</th>\n",
       "      <th>link</th>\n",
       "      <th>other_colors</th>\n",
       "      <th>short_description</th>\n",
       "      <th>designer</th>\n",
       "      <th>depth</th>\n",
       "      <th>height</th>\n",
       "      <th>width</th>\n",
       "    </tr>\n",
       "  </thead>\n",
       "  <tbody>\n",
       "    <tr>\n",
       "      <th>0</th>\n",
       "      <td>0</td>\n",
       "      <td>90420332</td>\n",
       "      <td>FREKVENS</td>\n",
       "      <td>Bar furniture</td>\n",
       "      <td>265.0</td>\n",
       "      <td>No old price</td>\n",
       "      <td>True</td>\n",
       "      <td>https://www.ikea.com/sa/en/p/frekvens-bar-tabl...</td>\n",
       "      <td>No</td>\n",
       "      <td>Bar table, in/outdoor,          51x51 cm</td>\n",
       "      <td>Nicholai Wiig Hansen</td>\n",
       "      <td>NaN</td>\n",
       "      <td>99.0</td>\n",
       "      <td>51.0</td>\n",
       "    </tr>\n",
       "    <tr>\n",
       "      <th>1</th>\n",
       "      <td>1</td>\n",
       "      <td>368814</td>\n",
       "      <td>NORDVIKEN</td>\n",
       "      <td>Bar furniture</td>\n",
       "      <td>995.0</td>\n",
       "      <td>No old price</td>\n",
       "      <td>False</td>\n",
       "      <td>https://www.ikea.com/sa/en/p/nordviken-bar-tab...</td>\n",
       "      <td>No</td>\n",
       "      <td>Bar table,          140x80 cm</td>\n",
       "      <td>Francis Cayouette</td>\n",
       "      <td>NaN</td>\n",
       "      <td>105.0</td>\n",
       "      <td>80.0</td>\n",
       "    </tr>\n",
       "    <tr>\n",
       "      <th>2</th>\n",
       "      <td>2</td>\n",
       "      <td>9333523</td>\n",
       "      <td>NORDVIKEN / NORDVIKEN</td>\n",
       "      <td>Bar furniture</td>\n",
       "      <td>2095.0</td>\n",
       "      <td>No old price</td>\n",
       "      <td>False</td>\n",
       "      <td>https://www.ikea.com/sa/en/p/nordviken-nordvik...</td>\n",
       "      <td>No</td>\n",
       "      <td>Bar table and 4 bar stools</td>\n",
       "      <td>Francis Cayouette</td>\n",
       "      <td>NaN</td>\n",
       "      <td>NaN</td>\n",
       "      <td>NaN</td>\n",
       "    </tr>\n",
       "    <tr>\n",
       "      <th>3</th>\n",
       "      <td>3</td>\n",
       "      <td>80155205</td>\n",
       "      <td>STIG</td>\n",
       "      <td>Bar furniture</td>\n",
       "      <td>69.0</td>\n",
       "      <td>No old price</td>\n",
       "      <td>True</td>\n",
       "      <td>https://www.ikea.com/sa/en/p/stig-bar-stool-wi...</td>\n",
       "      <td>Yes</td>\n",
       "      <td>Bar stool with backrest,          74 cm</td>\n",
       "      <td>Henrik Preutz</td>\n",
       "      <td>50.0</td>\n",
       "      <td>100.0</td>\n",
       "      <td>60.0</td>\n",
       "    </tr>\n",
       "    <tr>\n",
       "      <th>4</th>\n",
       "      <td>4</td>\n",
       "      <td>30180504</td>\n",
       "      <td>NORBERG</td>\n",
       "      <td>Bar furniture</td>\n",
       "      <td>225.0</td>\n",
       "      <td>No old price</td>\n",
       "      <td>True</td>\n",
       "      <td>https://www.ikea.com/sa/en/p/norberg-wall-moun...</td>\n",
       "      <td>No</td>\n",
       "      <td>Wall-mounted drop-leaf table,         ...</td>\n",
       "      <td>Marcus Arvonen</td>\n",
       "      <td>60.0</td>\n",
       "      <td>43.0</td>\n",
       "      <td>74.0</td>\n",
       "    </tr>\n",
       "  </tbody>\n",
       "</table>\n",
       "</div>"
      ],
      "text/plain": [
       "   Unnamed: 0   item_id                   name       category   price  \\\n",
       "0           0  90420332               FREKVENS  Bar furniture   265.0   \n",
       "1           1    368814              NORDVIKEN  Bar furniture   995.0   \n",
       "2           2   9333523  NORDVIKEN / NORDVIKEN  Bar furniture  2095.0   \n",
       "3           3  80155205                   STIG  Bar furniture    69.0   \n",
       "4           4  30180504                NORBERG  Bar furniture   225.0   \n",
       "\n",
       "      old_price  sellable_online  \\\n",
       "0  No old price             True   \n",
       "1  No old price            False   \n",
       "2  No old price            False   \n",
       "3  No old price             True   \n",
       "4  No old price             True   \n",
       "\n",
       "                                                link other_colors  \\\n",
       "0  https://www.ikea.com/sa/en/p/frekvens-bar-tabl...           No   \n",
       "1  https://www.ikea.com/sa/en/p/nordviken-bar-tab...           No   \n",
       "2  https://www.ikea.com/sa/en/p/nordviken-nordvik...           No   \n",
       "3  https://www.ikea.com/sa/en/p/stig-bar-stool-wi...          Yes   \n",
       "4  https://www.ikea.com/sa/en/p/norberg-wall-moun...           No   \n",
       "\n",
       "                                   short_description              designer  \\\n",
       "0           Bar table, in/outdoor,          51x51 cm  Nicholai Wiig Hansen   \n",
       "1                      Bar table,          140x80 cm     Francis Cayouette   \n",
       "2                         Bar table and 4 bar stools     Francis Cayouette   \n",
       "3            Bar stool with backrest,          74 cm         Henrik Preutz   \n",
       "4          Wall-mounted drop-leaf table,         ...        Marcus Arvonen   \n",
       "\n",
       "   depth  height  width  \n",
       "0    NaN    99.0   51.0  \n",
       "1    NaN   105.0   80.0  \n",
       "2    NaN     NaN    NaN  \n",
       "3   50.0   100.0   60.0  \n",
       "4   60.0    43.0   74.0  "
      ]
     },
     "execution_count": 3,
     "metadata": {},
     "output_type": "execute_result"
    }
   ],
   "source": [
    "df.head() # will display the dataframe of 1st 5 rows of the dataset"
   ]
  },
  {
   "cell_type": "code",
   "execution_count": 4,
   "id": "f29e27a8",
   "metadata": {},
   "outputs": [
    {
     "data": {
      "text/html": [
       "<div>\n",
       "<style scoped>\n",
       "    .dataframe tbody tr th:only-of-type {\n",
       "        vertical-align: middle;\n",
       "    }\n",
       "\n",
       "    .dataframe tbody tr th {\n",
       "        vertical-align: top;\n",
       "    }\n",
       "\n",
       "    .dataframe thead th {\n",
       "        text-align: right;\n",
       "    }\n",
       "</style>\n",
       "<table border=\"1\" class=\"dataframe\">\n",
       "  <thead>\n",
       "    <tr style=\"text-align: right;\">\n",
       "      <th></th>\n",
       "      <th>Unnamed: 0</th>\n",
       "      <th>item_id</th>\n",
       "      <th>name</th>\n",
       "      <th>category</th>\n",
       "      <th>price</th>\n",
       "      <th>old_price</th>\n",
       "      <th>sellable_online</th>\n",
       "      <th>link</th>\n",
       "      <th>other_colors</th>\n",
       "      <th>short_description</th>\n",
       "      <th>designer</th>\n",
       "      <th>depth</th>\n",
       "      <th>height</th>\n",
       "      <th>width</th>\n",
       "    </tr>\n",
       "  </thead>\n",
       "  <tbody>\n",
       "    <tr>\n",
       "      <th>3689</th>\n",
       "      <td>3689</td>\n",
       "      <td>99157902</td>\n",
       "      <td>ELVARLI</td>\n",
       "      <td>Wardrobes</td>\n",
       "      <td>750.0</td>\n",
       "      <td>SR 820</td>\n",
       "      <td>True</td>\n",
       "      <td>https://www.ikea.com/sa/en/p/elvarli-1-section...</td>\n",
       "      <td>No</td>\n",
       "      <td>1 section,          92x51x222-350 cm</td>\n",
       "      <td>Ehlén Johansson</td>\n",
       "      <td>50.0</td>\n",
       "      <td>NaN</td>\n",
       "      <td>91.0</td>\n",
       "    </tr>\n",
       "    <tr>\n",
       "      <th>3690</th>\n",
       "      <td>3690</td>\n",
       "      <td>9158152</td>\n",
       "      <td>ELVARLI</td>\n",
       "      <td>Wardrobes</td>\n",
       "      <td>1572.0</td>\n",
       "      <td>SR 1,755</td>\n",
       "      <td>True</td>\n",
       "      <td>https://www.ikea.com/sa/en/p/elvarli-2-section...</td>\n",
       "      <td>No</td>\n",
       "      <td>2 sections,          135x51x222-350 cm</td>\n",
       "      <td>Ehlén Johansson</td>\n",
       "      <td>50.0</td>\n",
       "      <td>NaN</td>\n",
       "      <td>135.0</td>\n",
       "    </tr>\n",
       "    <tr>\n",
       "      <th>3691</th>\n",
       "      <td>3691</td>\n",
       "      <td>59157541</td>\n",
       "      <td>ELVARLI</td>\n",
       "      <td>Wardrobes</td>\n",
       "      <td>924.0</td>\n",
       "      <td>SR 1,050</td>\n",
       "      <td>True</td>\n",
       "      <td>https://www.ikea.com/sa/en/p/elvarli-2-section...</td>\n",
       "      <td>No</td>\n",
       "      <td>2 sections,          175x51x222-350 cm</td>\n",
       "      <td>Ehlén Johansson</td>\n",
       "      <td>50.0</td>\n",
       "      <td>NaN</td>\n",
       "      <td>175.0</td>\n",
       "    </tr>\n",
       "    <tr>\n",
       "      <th>3692</th>\n",
       "      <td>3692</td>\n",
       "      <td>89157573</td>\n",
       "      <td>ELVARLI</td>\n",
       "      <td>Wardrobes</td>\n",
       "      <td>2745.0</td>\n",
       "      <td>SR 3,130</td>\n",
       "      <td>True</td>\n",
       "      <td>https://www.ikea.com/sa/en/p/elvarli-3-section...</td>\n",
       "      <td>No</td>\n",
       "      <td>3 sections,          178x51x222-350 cm</td>\n",
       "      <td>Ehlén Johansson</td>\n",
       "      <td>50.0</td>\n",
       "      <td>NaN</td>\n",
       "      <td>178.0</td>\n",
       "    </tr>\n",
       "    <tr>\n",
       "      <th>3693</th>\n",
       "      <td>3693</td>\n",
       "      <td>69157376</td>\n",
       "      <td>ELVARLI</td>\n",
       "      <td>Wardrobes</td>\n",
       "      <td>1231.0</td>\n",
       "      <td>SR 1,535</td>\n",
       "      <td>True</td>\n",
       "      <td>https://www.ikea.com/sa/en/p/elvarli-2-section...</td>\n",
       "      <td>No</td>\n",
       "      <td>2 sections,          175x51x222-350 cm</td>\n",
       "      <td>Ehlén Johansson</td>\n",
       "      <td>50.0</td>\n",
       "      <td>NaN</td>\n",
       "      <td>175.0</td>\n",
       "    </tr>\n",
       "  </tbody>\n",
       "</table>\n",
       "</div>"
      ],
      "text/plain": [
       "      Unnamed: 0   item_id     name   category   price old_price  \\\n",
       "3689        3689  99157902  ELVARLI  Wardrobes   750.0    SR 820   \n",
       "3690        3690   9158152  ELVARLI  Wardrobes  1572.0  SR 1,755   \n",
       "3691        3691  59157541  ELVARLI  Wardrobes   924.0  SR 1,050   \n",
       "3692        3692  89157573  ELVARLI  Wardrobes  2745.0  SR 3,130   \n",
       "3693        3693  69157376  ELVARLI  Wardrobes  1231.0  SR 1,535   \n",
       "\n",
       "      sellable_online                                               link  \\\n",
       "3689             True  https://www.ikea.com/sa/en/p/elvarli-1-section...   \n",
       "3690             True  https://www.ikea.com/sa/en/p/elvarli-2-section...   \n",
       "3691             True  https://www.ikea.com/sa/en/p/elvarli-2-section...   \n",
       "3692             True  https://www.ikea.com/sa/en/p/elvarli-3-section...   \n",
       "3693             True  https://www.ikea.com/sa/en/p/elvarli-2-section...   \n",
       "\n",
       "     other_colors                               short_description  \\\n",
       "3689           No            1 section,          92x51x222-350 cm   \n",
       "3690           No          2 sections,          135x51x222-350 cm   \n",
       "3691           No          2 sections,          175x51x222-350 cm   \n",
       "3692           No          3 sections,          178x51x222-350 cm   \n",
       "3693           No          2 sections,          175x51x222-350 cm   \n",
       "\n",
       "             designer  depth  height  width  \n",
       "3689  Ehlén Johansson   50.0     NaN   91.0  \n",
       "3690  Ehlén Johansson   50.0     NaN  135.0  \n",
       "3691  Ehlén Johansson   50.0     NaN  175.0  \n",
       "3692  Ehlén Johansson   50.0     NaN  178.0  \n",
       "3693  Ehlén Johansson   50.0     NaN  175.0  "
      ]
     },
     "execution_count": 4,
     "metadata": {},
     "output_type": "execute_result"
    }
   ],
   "source": [
    "df.tail() # will display the dataframe of lastt 5 rows of the dataset"
   ]
  },
  {
   "cell_type": "code",
   "execution_count": 5,
   "id": "5dd6bc69",
   "metadata": {},
   "outputs": [
    {
     "data": {
      "text/plain": [
       "(3694, 14)"
      ]
     },
     "execution_count": 5,
     "metadata": {},
     "output_type": "execute_result"
    }
   ],
   "source": [
    "df.shape  # will display the number of rows and columns"
   ]
  },
  {
   "cell_type": "code",
   "execution_count": 6,
   "id": "a9d83ad6",
   "metadata": {},
   "outputs": [
    {
     "data": {
      "text/plain": [
       "Index(['Unnamed: 0', 'item_id', 'name', 'category', 'price', 'old_price',\n",
       "       'sellable_online', 'link', 'other_colors', 'short_description',\n",
       "       'designer', 'depth', 'height', 'width'],\n",
       "      dtype='object')"
      ]
     },
     "execution_count": 6,
     "metadata": {},
     "output_type": "execute_result"
    }
   ],
   "source": [
    "df.columns # to get to know about the columns name "
   ]
  },
  {
   "cell_type": "code",
   "execution_count": 7,
   "id": "cd555417",
   "metadata": {},
   "outputs": [
    {
     "name": "stdout",
     "output_type": "stream",
     "text": [
      "<class 'pandas.core.frame.DataFrame'>\n",
      "RangeIndex: 3694 entries, 0 to 3693\n",
      "Data columns (total 14 columns):\n",
      " #   Column             Non-Null Count  Dtype  \n",
      "---  ------             --------------  -----  \n",
      " 0   Unnamed: 0         3694 non-null   int64  \n",
      " 1   item_id            3694 non-null   int64  \n",
      " 2   name               3694 non-null   object \n",
      " 3   category           3694 non-null   object \n",
      " 4   price              3694 non-null   float64\n",
      " 5   old_price          3694 non-null   object \n",
      " 6   sellable_online    3694 non-null   bool   \n",
      " 7   link               3694 non-null   object \n",
      " 8   other_colors       3694 non-null   object \n",
      " 9   short_description  3694 non-null   object \n",
      " 10  designer           3694 non-null   object \n",
      " 11  depth              2231 non-null   float64\n",
      " 12  height             2706 non-null   float64\n",
      " 13  width              3105 non-null   float64\n",
      "dtypes: bool(1), float64(4), int64(2), object(7)\n",
      "memory usage: 378.9+ KB\n"
     ]
    }
   ],
   "source": [
    "df.info() #method provides a concise summary of the data, including the number of rows, columns, non-null values, and the data types of each column."
   ]
  },
  {
   "cell_type": "code",
   "execution_count": 8,
   "id": "cfb5b23d",
   "metadata": {},
   "outputs": [
    {
     "data": {
      "text/plain": [
       "Unnamed: 0             int64\n",
       "item_id                int64\n",
       "name                  object\n",
       "category              object\n",
       "price                float64\n",
       "old_price             object\n",
       "sellable_online         bool\n",
       "link                  object\n",
       "other_colors          object\n",
       "short_description     object\n",
       "designer              object\n",
       "depth                float64\n",
       "height               float64\n",
       "width                float64\n",
       "dtype: object"
      ]
     },
     "execution_count": 8,
     "metadata": {},
     "output_type": "execute_result"
    }
   ],
   "source": [
    "df.dtypes "
   ]
  },
  {
   "cell_type": "code",
   "execution_count": 9,
   "id": "b1ee8108",
   "metadata": {},
   "outputs": [
    {
     "data": {
      "text/plain": [
       "Unnamed: 0           3694\n",
       "item_id              3694\n",
       "name                 3694\n",
       "category             3694\n",
       "price                3694\n",
       "old_price            3694\n",
       "sellable_online      3694\n",
       "link                 3694\n",
       "other_colors         3694\n",
       "short_description    3694\n",
       "designer             3694\n",
       "depth                2231\n",
       "height               2706\n",
       "width                3105\n",
       "dtype: int64"
      ]
     },
     "execution_count": 9,
     "metadata": {},
     "output_type": "execute_result"
    }
   ],
   "source": [
    "df.count() #It is used to count the number of non-null values in each column of a DataFrame or dataset."
   ]
  },
  {
   "cell_type": "markdown",
   "id": "675e5b43",
   "metadata": {},
   "source": [
    "### The specific statistical measures included in the summary can vary, but commonly include:\n",
    "\n",
    ".Count: The number of non-null values in each column.\n",
    "\n",
    ".Mean: The average value of each column.\n",
    "\n",
    ".Standard deviation: A measure of the dispersion or variability in each \n",
    "column.\n",
    "\n",
    ".Minimum: The minimum value in each column.\n",
    "\n",
    ".25th percentile: The value below which 25% of the data falls.\n",
    "\n",
    ".50th percentile (median): The value below which 50% of the data falls.\n",
    "\n",
    ".75th percentile: The value below which 75% of the data falls.\n",
    "\n",
    ".Maximum: The maximum value in each column."
   ]
  },
  {
   "cell_type": "code",
   "execution_count": 10,
   "id": "671bef47",
   "metadata": {},
   "outputs": [
    {
     "data": {
      "text/html": [
       "<div>\n",
       "<style scoped>\n",
       "    .dataframe tbody tr th:only-of-type {\n",
       "        vertical-align: middle;\n",
       "    }\n",
       "\n",
       "    .dataframe tbody tr th {\n",
       "        vertical-align: top;\n",
       "    }\n",
       "\n",
       "    .dataframe thead th {\n",
       "        text-align: right;\n",
       "    }\n",
       "</style>\n",
       "<table border=\"1\" class=\"dataframe\">\n",
       "  <thead>\n",
       "    <tr style=\"text-align: right;\">\n",
       "      <th></th>\n",
       "      <th>Unnamed: 0</th>\n",
       "      <th>item_id</th>\n",
       "      <th>name</th>\n",
       "      <th>category</th>\n",
       "      <th>price</th>\n",
       "      <th>old_price</th>\n",
       "      <th>sellable_online</th>\n",
       "      <th>link</th>\n",
       "      <th>other_colors</th>\n",
       "      <th>short_description</th>\n",
       "      <th>designer</th>\n",
       "      <th>depth</th>\n",
       "      <th>height</th>\n",
       "      <th>width</th>\n",
       "    </tr>\n",
       "  </thead>\n",
       "  <tbody>\n",
       "    <tr>\n",
       "      <th>count</th>\n",
       "      <td>3694.000000</td>\n",
       "      <td>3.694000e+03</td>\n",
       "      <td>3694</td>\n",
       "      <td>3694</td>\n",
       "      <td>3694.000000</td>\n",
       "      <td>3694</td>\n",
       "      <td>3694</td>\n",
       "      <td>3694</td>\n",
       "      <td>3694</td>\n",
       "      <td>3694</td>\n",
       "      <td>3694</td>\n",
       "      <td>2231.000000</td>\n",
       "      <td>2706.000000</td>\n",
       "      <td>3105.000000</td>\n",
       "    </tr>\n",
       "    <tr>\n",
       "      <th>unique</th>\n",
       "      <td>NaN</td>\n",
       "      <td>NaN</td>\n",
       "      <td>607</td>\n",
       "      <td>17</td>\n",
       "      <td>NaN</td>\n",
       "      <td>365</td>\n",
       "      <td>2</td>\n",
       "      <td>2962</td>\n",
       "      <td>2</td>\n",
       "      <td>1706</td>\n",
       "      <td>381</td>\n",
       "      <td>NaN</td>\n",
       "      <td>NaN</td>\n",
       "      <td>NaN</td>\n",
       "    </tr>\n",
       "    <tr>\n",
       "      <th>top</th>\n",
       "      <td>NaN</td>\n",
       "      <td>NaN</td>\n",
       "      <td>BESTÅ</td>\n",
       "      <td>Tables &amp; desks</td>\n",
       "      <td>NaN</td>\n",
       "      <td>No old price</td>\n",
       "      <td>True</td>\n",
       "      <td>https://www.ikea.com/sa/en/p/norraker-norraker...</td>\n",
       "      <td>No</td>\n",
       "      <td>Chair</td>\n",
       "      <td>IKEA of Sweden</td>\n",
       "      <td>NaN</td>\n",
       "      <td>NaN</td>\n",
       "      <td>NaN</td>\n",
       "    </tr>\n",
       "    <tr>\n",
       "      <th>freq</th>\n",
       "      <td>NaN</td>\n",
       "      <td>NaN</td>\n",
       "      <td>173</td>\n",
       "      <td>612</td>\n",
       "      <td>NaN</td>\n",
       "      <td>3040</td>\n",
       "      <td>3666</td>\n",
       "      <td>4</td>\n",
       "      <td>2182</td>\n",
       "      <td>59</td>\n",
       "      <td>828</td>\n",
       "      <td>NaN</td>\n",
       "      <td>NaN</td>\n",
       "      <td>NaN</td>\n",
       "    </tr>\n",
       "    <tr>\n",
       "      <th>mean</th>\n",
       "      <td>1846.500000</td>\n",
       "      <td>4.863240e+07</td>\n",
       "      <td>NaN</td>\n",
       "      <td>NaN</td>\n",
       "      <td>1078.208419</td>\n",
       "      <td>NaN</td>\n",
       "      <td>NaN</td>\n",
       "      <td>NaN</td>\n",
       "      <td>NaN</td>\n",
       "      <td>NaN</td>\n",
       "      <td>NaN</td>\n",
       "      <td>54.379202</td>\n",
       "      <td>101.679970</td>\n",
       "      <td>104.470853</td>\n",
       "    </tr>\n",
       "    <tr>\n",
       "      <th>std</th>\n",
       "      <td>1066.510275</td>\n",
       "      <td>2.888709e+07</td>\n",
       "      <td>NaN</td>\n",
       "      <td>NaN</td>\n",
       "      <td>1374.652494</td>\n",
       "      <td>NaN</td>\n",
       "      <td>NaN</td>\n",
       "      <td>NaN</td>\n",
       "      <td>NaN</td>\n",
       "      <td>NaN</td>\n",
       "      <td>NaN</td>\n",
       "      <td>29.958351</td>\n",
       "      <td>61.097585</td>\n",
       "      <td>71.133771</td>\n",
       "    </tr>\n",
       "    <tr>\n",
       "      <th>min</th>\n",
       "      <td>0.000000</td>\n",
       "      <td>5.848700e+04</td>\n",
       "      <td>NaN</td>\n",
       "      <td>NaN</td>\n",
       "      <td>3.000000</td>\n",
       "      <td>NaN</td>\n",
       "      <td>NaN</td>\n",
       "      <td>NaN</td>\n",
       "      <td>NaN</td>\n",
       "      <td>NaN</td>\n",
       "      <td>NaN</td>\n",
       "      <td>1.000000</td>\n",
       "      <td>1.000000</td>\n",
       "      <td>1.000000</td>\n",
       "    </tr>\n",
       "    <tr>\n",
       "      <th>25%</th>\n",
       "      <td>923.250000</td>\n",
       "      <td>2.039057e+07</td>\n",
       "      <td>NaN</td>\n",
       "      <td>NaN</td>\n",
       "      <td>180.900000</td>\n",
       "      <td>NaN</td>\n",
       "      <td>NaN</td>\n",
       "      <td>NaN</td>\n",
       "      <td>NaN</td>\n",
       "      <td>NaN</td>\n",
       "      <td>NaN</td>\n",
       "      <td>38.000000</td>\n",
       "      <td>67.000000</td>\n",
       "      <td>60.000000</td>\n",
       "    </tr>\n",
       "    <tr>\n",
       "      <th>50%</th>\n",
       "      <td>1846.500000</td>\n",
       "      <td>4.928808e+07</td>\n",
       "      <td>NaN</td>\n",
       "      <td>NaN</td>\n",
       "      <td>544.700000</td>\n",
       "      <td>NaN</td>\n",
       "      <td>NaN</td>\n",
       "      <td>NaN</td>\n",
       "      <td>NaN</td>\n",
       "      <td>NaN</td>\n",
       "      <td>NaN</td>\n",
       "      <td>47.000000</td>\n",
       "      <td>83.000000</td>\n",
       "      <td>80.000000</td>\n",
       "    </tr>\n",
       "    <tr>\n",
       "      <th>75%</th>\n",
       "      <td>2769.750000</td>\n",
       "      <td>7.040357e+07</td>\n",
       "      <td>NaN</td>\n",
       "      <td>NaN</td>\n",
       "      <td>1429.500000</td>\n",
       "      <td>NaN</td>\n",
       "      <td>NaN</td>\n",
       "      <td>NaN</td>\n",
       "      <td>NaN</td>\n",
       "      <td>NaN</td>\n",
       "      <td>NaN</td>\n",
       "      <td>60.000000</td>\n",
       "      <td>124.000000</td>\n",
       "      <td>140.000000</td>\n",
       "    </tr>\n",
       "    <tr>\n",
       "      <th>max</th>\n",
       "      <td>3693.000000</td>\n",
       "      <td>9.993262e+07</td>\n",
       "      <td>NaN</td>\n",
       "      <td>NaN</td>\n",
       "      <td>9585.000000</td>\n",
       "      <td>NaN</td>\n",
       "      <td>NaN</td>\n",
       "      <td>NaN</td>\n",
       "      <td>NaN</td>\n",
       "      <td>NaN</td>\n",
       "      <td>NaN</td>\n",
       "      <td>257.000000</td>\n",
       "      <td>700.000000</td>\n",
       "      <td>420.000000</td>\n",
       "    </tr>\n",
       "  </tbody>\n",
       "</table>\n",
       "</div>"
      ],
      "text/plain": [
       "         Unnamed: 0       item_id   name        category        price  \\\n",
       "count   3694.000000  3.694000e+03   3694            3694  3694.000000   \n",
       "unique          NaN           NaN    607              17          NaN   \n",
       "top             NaN           NaN  BESTÅ  Tables & desks          NaN   \n",
       "freq            NaN           NaN    173             612          NaN   \n",
       "mean    1846.500000  4.863240e+07    NaN             NaN  1078.208419   \n",
       "std     1066.510275  2.888709e+07    NaN             NaN  1374.652494   \n",
       "min        0.000000  5.848700e+04    NaN             NaN     3.000000   \n",
       "25%      923.250000  2.039057e+07    NaN             NaN   180.900000   \n",
       "50%     1846.500000  4.928808e+07    NaN             NaN   544.700000   \n",
       "75%     2769.750000  7.040357e+07    NaN             NaN  1429.500000   \n",
       "max     3693.000000  9.993262e+07    NaN             NaN  9585.000000   \n",
       "\n",
       "           old_price sellable_online  \\\n",
       "count           3694            3694   \n",
       "unique           365               2   \n",
       "top     No old price            True   \n",
       "freq            3040            3666   \n",
       "mean             NaN             NaN   \n",
       "std              NaN             NaN   \n",
       "min              NaN             NaN   \n",
       "25%              NaN             NaN   \n",
       "50%              NaN             NaN   \n",
       "75%              NaN             NaN   \n",
       "max              NaN             NaN   \n",
       "\n",
       "                                                     link other_colors  \\\n",
       "count                                                3694         3694   \n",
       "unique                                               2962            2   \n",
       "top     https://www.ikea.com/sa/en/p/norraker-norraker...           No   \n",
       "freq                                                    4         2182   \n",
       "mean                                                  NaN          NaN   \n",
       "std                                                   NaN          NaN   \n",
       "min                                                   NaN          NaN   \n",
       "25%                                                   NaN          NaN   \n",
       "50%                                                   NaN          NaN   \n",
       "75%                                                   NaN          NaN   \n",
       "max                                                   NaN          NaN   \n",
       "\n",
       "       short_description        designer        depth       height  \\\n",
       "count               3694            3694  2231.000000  2706.000000   \n",
       "unique              1706             381          NaN          NaN   \n",
       "top                Chair  IKEA of Sweden          NaN          NaN   \n",
       "freq                  59             828          NaN          NaN   \n",
       "mean                 NaN             NaN    54.379202   101.679970   \n",
       "std                  NaN             NaN    29.958351    61.097585   \n",
       "min                  NaN             NaN     1.000000     1.000000   \n",
       "25%                  NaN             NaN    38.000000    67.000000   \n",
       "50%                  NaN             NaN    47.000000    83.000000   \n",
       "75%                  NaN             NaN    60.000000   124.000000   \n",
       "max                  NaN             NaN   257.000000   700.000000   \n",
       "\n",
       "              width  \n",
       "count   3105.000000  \n",
       "unique          NaN  \n",
       "top             NaN  \n",
       "freq            NaN  \n",
       "mean     104.470853  \n",
       "std       71.133771  \n",
       "min        1.000000  \n",
       "25%       60.000000  \n",
       "50%       80.000000  \n",
       "75%      140.000000  \n",
       "max      420.000000  "
      ]
     },
     "execution_count": 10,
     "metadata": {},
     "output_type": "execute_result"
    }
   ],
   "source": [
    "df.describe(include = 'all')"
   ]
  },
  {
   "cell_type": "code",
   "execution_count": 11,
   "id": "82e89958",
   "metadata": {
    "scrolled": true
   },
   "outputs": [
    {
     "data": {
      "text/html": [
       "<div>\n",
       "<style scoped>\n",
       "    .dataframe tbody tr th:only-of-type {\n",
       "        vertical-align: middle;\n",
       "    }\n",
       "\n",
       "    .dataframe tbody tr th {\n",
       "        vertical-align: top;\n",
       "    }\n",
       "\n",
       "    .dataframe thead th {\n",
       "        text-align: right;\n",
       "    }\n",
       "</style>\n",
       "<table border=\"1\" class=\"dataframe\">\n",
       "  <thead>\n",
       "    <tr style=\"text-align: right;\">\n",
       "      <th></th>\n",
       "      <th>Unnamed: 0</th>\n",
       "      <th>item_id</th>\n",
       "      <th>name</th>\n",
       "      <th>category</th>\n",
       "      <th>price</th>\n",
       "      <th>old_price</th>\n",
       "      <th>sellable_online</th>\n",
       "      <th>link</th>\n",
       "      <th>other_colors</th>\n",
       "      <th>short_description</th>\n",
       "      <th>designer</th>\n",
       "      <th>depth</th>\n",
       "      <th>height</th>\n",
       "      <th>width</th>\n",
       "    </tr>\n",
       "  </thead>\n",
       "  <tbody>\n",
       "  </tbody>\n",
       "</table>\n",
       "</div>"
      ],
      "text/plain": [
       "Empty DataFrame\n",
       "Columns: [Unnamed: 0, item_id, name, category, price, old_price, sellable_online, link, other_colors, short_description, designer, depth, height, width]\n",
       "Index: []"
      ]
     },
     "execution_count": 11,
     "metadata": {},
     "output_type": "execute_result"
    }
   ],
   "source": [
    "## let's identify whether the data contains any duplicated values or not.\n",
    "## if it contains then we have to remove those values (row).\n",
    "\n",
    "df[df.duplicated()] "
   ]
  },
  {
   "cell_type": "markdown",
   "id": "d40c2cbd",
   "metadata": {},
   "source": [
    "There are no duplicates values in the dataset"
   ]
  },
  {
   "cell_type": "markdown",
   "id": "b10e91da",
   "metadata": {},
   "source": [
    "# Exploratory Data Analysis"
   ]
  },
  {
   "cell_type": "code",
   "execution_count": 12,
   "id": "2cd334d6",
   "metadata": {},
   "outputs": [
    {
     "data": {
      "text/plain": [
       "Unnamed: 0              0\n",
       "item_id                 0\n",
       "name                    0\n",
       "category                0\n",
       "price                   0\n",
       "old_price               0\n",
       "sellable_online         0\n",
       "link                    0\n",
       "other_colors            0\n",
       "short_description       0\n",
       "designer                0\n",
       "depth                1463\n",
       "height                988\n",
       "width                 589\n",
       "dtype: int64"
      ]
     },
     "execution_count": 12,
     "metadata": {},
     "output_type": "execute_result"
    }
   ],
   "source": [
    "df.isnull().sum() # calculate the sum of null values for each column"
   ]
  },
  {
   "cell_type": "markdown",
   "id": "d6f667ad",
   "metadata": {},
   "source": [
    "we got total count of null values for the columns as follows:\n",
    "\n",
    "depth - 1463\n",
    "\n",
    "height - 988\n",
    "\n",
    "width - 589"
   ]
  },
  {
   "cell_type": "code",
   "execution_count": 13,
   "id": "fea19030",
   "metadata": {},
   "outputs": [],
   "source": [
    "## Removing the null values\n",
    "df=df.dropna().reset_index(drop=True)"
   ]
  },
  {
   "cell_type": "code",
   "execution_count": 14,
   "id": "7b852edd",
   "metadata": {},
   "outputs": [],
   "source": [
    "df.drop(['Unnamed: 0', 'link'], inplace=True, axis=1)  # there is not impotant freature for analysis\n"
   ]
  },
  {
   "cell_type": "code",
   "execution_count": 15,
   "id": "e7fc3668",
   "metadata": {},
   "outputs": [
    {
     "data": {
      "text/plain": [
       "0"
      ]
     },
     "execution_count": 15,
     "metadata": {},
     "output_type": "execute_result"
    }
   ],
   "source": [
    "## Check Duplicates\n",
    "df.duplicated().sum() "
   ]
  },
  {
   "cell_type": "markdown",
   "id": "64dd694e",
   "metadata": {},
   "source": [
    "There is no duplicate value in dataset"
   ]
  },
  {
   "cell_type": "markdown",
   "id": "4ecd19a3",
   "metadata": {},
   "source": [
    "### Missing values treatment\n",
    "The three common methods for treating missing values:\n",
    "\n",
    "1.Delete the Observation (row): This method involves removing rows that contain missing values using the dropna() method. It can be a straightforward approach, but it may result in a loss of data.\n",
    "\n",
    "2.Remove the Column: Similarly, you can delete the entire column that contains missing values using the dropna() method with the axis=1 parameter. However, this approach should be used with caution, as it may lead to the loss of important information.\n",
    "\n",
    "3.Filling with Mean, Median, or Mode: This method involves filling missing values with summary statistics such as the mean, median, or mode using the fillna() method. It provides a simple way to handle missing values while preserving the general characteristics of the dataset. The choice of statistic depends on the type of data: mean or median for numerical data and mode for categorical data."
   ]
  },
  {
   "cell_type": "markdown",
   "id": "b548cfc9",
   "metadata": {},
   "source": [
    "### 1. Deleting rows containing null values."
   ]
  },
  {
   "cell_type": "code",
   "execution_count": 16,
   "id": "0b113182",
   "metadata": {},
   "outputs": [],
   "source": [
    "df_copy = pd.DataFrame(df) # duplicate copy of original dataset"
   ]
  },
  {
   "cell_type": "code",
   "execution_count": 17,
   "id": "171266ef",
   "metadata": {},
   "outputs": [],
   "source": [
    "# Drop rows of null vaules\n",
    "df_copy.dropna(axis=0,inplace=True) #inplace is used for to apply the changes on the dataframe."
   ]
  },
  {
   "cell_type": "code",
   "execution_count": 18,
   "id": "292a1a7a",
   "metadata": {},
   "outputs": [
    {
     "name": "stdout",
     "output_type": "stream",
     "text": [
      "<class 'pandas.core.frame.DataFrame'>\n",
      "RangeIndex: 1899 entries, 0 to 1898\n",
      "Data columns (total 12 columns):\n",
      " #   Column             Non-Null Count  Dtype  \n",
      "---  ------             --------------  -----  \n",
      " 0   item_id            1899 non-null   int64  \n",
      " 1   name               1899 non-null   object \n",
      " 2   category           1899 non-null   object \n",
      " 3   price              1899 non-null   float64\n",
      " 4   old_price          1899 non-null   object \n",
      " 5   sellable_online    1899 non-null   bool   \n",
      " 6   other_colors       1899 non-null   object \n",
      " 7   short_description  1899 non-null   object \n",
      " 8   designer           1899 non-null   object \n",
      " 9   depth              1899 non-null   float64\n",
      " 10  height             1899 non-null   float64\n",
      " 11  width              1899 non-null   float64\n",
      "dtypes: bool(1), float64(4), int64(1), object(6)\n",
      "memory usage: 165.2+ KB\n"
     ]
    }
   ],
   "source": [
    "# check the number of non-empty rows\n",
    "df_copy.info()"
   ]
  },
  {
   "cell_type": "markdown",
   "id": "191008cd",
   "metadata": {},
   "source": [
    "### 2. To Delete Column for null values"
   ]
  },
  {
   "cell_type": "code",
   "execution_count": 19,
   "id": "ea53290e",
   "metadata": {},
   "outputs": [],
   "source": [
    "df_copy2 = pd.DataFrame(df) # duplicate copy of original dataset"
   ]
  },
  {
   "cell_type": "code",
   "execution_count": 20,
   "id": "51f8fd89",
   "metadata": {},
   "outputs": [],
   "source": [
    "# taking axis=1 for columns.\n",
    "df_copy2.dropna(axis=1, inplace=True)\n"
   ]
  },
  {
   "cell_type": "code",
   "execution_count": 21,
   "id": "8557bec4",
   "metadata": {},
   "outputs": [],
   "source": [
    "# null value of column depth will be replaced with mean value\n",
    "df_copy2['depth'].fillna(df_copy2['depth'].mean(), inplace=True)\n",
    "\n",
    "#null value of column height will be replaced with median value\n",
    "df_copy2['height'].fillna(df_copy2['height'].median(), inplace=True)\n",
    "\n",
    "#null value of column width will be replaced with mode value\n",
    "df_copy2['width'].fillna(df_copy2['width'].mode()[0], inplace=True)"
   ]
  },
  {
   "cell_type": "code",
   "execution_count": 22,
   "id": "bea579cc",
   "metadata": {},
   "outputs": [
    {
     "data": {
      "text/plain": [
       "item_id              0\n",
       "name                 0\n",
       "category             0\n",
       "price                0\n",
       "old_price            0\n",
       "sellable_online      0\n",
       "other_colors         0\n",
       "short_description    0\n",
       "designer             0\n",
       "depth                0\n",
       "height               0\n",
       "width                0\n",
       "dtype: int64"
      ]
     },
     "execution_count": 22,
     "metadata": {},
     "output_type": "execute_result"
    }
   ],
   "source": [
    "# lets check if there exist any null value.\n",
    "df_copy2.isnull().sum()"
   ]
  },
  {
   "cell_type": "code",
   "execution_count": 23,
   "id": "b6ce2f7c",
   "metadata": {},
   "outputs": [],
   "source": [
    "# Converting all the possible variable types into int form\n",
    "df = df.astype({\"depth\":'int', \"width\":'int',\"height\":'int',\"price\":'int'})"
   ]
  },
  {
   "cell_type": "markdown",
   "id": "6801f1ca",
   "metadata": {},
   "source": [
    "### After Dealing with the missing values we proceed further with the df dataframe for our analysis."
   ]
  },
  {
   "cell_type": "markdown",
   "id": "e51b8c0f",
   "metadata": {},
   "source": [
    "#### Univariate Analysis"
   ]
  },
  {
   "cell_type": "code",
   "execution_count": 24,
   "id": "1335da45",
   "metadata": {},
   "outputs": [
    {
     "data": {
      "image/png": "[encoded data removed]",
      "text/plain": [
       "<Figure size 1200x600 with 1 Axes>"
      ]
     },
     "metadata": {},
     "output_type": "display_data"
    }
   ],
   "source": [
    "plt.figure(figsize=(12,6))\n",
    "\n",
    "ax = sns.histplot(df['category'],color = 'blue')\n",
    "for i in ax.containers:\n",
    "    ax.bar_label(i)\n",
    "\n",
    "plt.xlabel('Category')\n",
    "plt.ylabel('Frequency')\n",
    "plt.title('Histogram of Category')\n",
    "plt.xticks(rotation=90)\n",
    "plt.show()"
   ]
  },
  {
   "cell_type": "markdown",
   "id": "78b05832",
   "metadata": {},
   "source": [
    "From the above graph, we observe that the category with the highest frequency is \"Bookcases & Shelving Units,\" which has a frequency of 375"
   ]
  },
  {
   "cell_type": "code",
   "execution_count": 25,
   "id": "cc03d9d8",
   "metadata": {},
   "outputs": [
    {
     "data": {
      "text/plain": [
       "category\n",
       "Sofas & armchairs                       671132\n",
       "Wardrobes                               427079\n",
       "Bookcases & shelving units              257190\n",
       "Cabinets & cupboards                    221550\n",
       "Beds                                    201299\n",
       "Chairs                                  116385\n",
       "TV & media furniture                    103142\n",
       "Outdoor furniture                        90735\n",
       "Chests of drawers & drawer units         76193\n",
       "Tables & desks                           53812\n",
       "Children's furniture                     25467\n",
       "Nursery furniture                        25084\n",
       "Sideboards, buffets & console tables     23131\n",
       "Trolleys                                  8408\n",
       "Bar furniture                             8122\n",
       "Name: price, dtype: int32"
      ]
     },
     "execution_count": 25,
     "metadata": {},
     "output_type": "execute_result"
    }
   ],
   "source": [
    "df1 = df.groupby('category')['price'].sum().sort_values(ascending = False).head(15)\n",
    "df1"
   ]
  },
  {
   "cell_type": "code",
   "execution_count": 26,
   "id": "e799f9e1",
   "metadata": {},
   "outputs": [
    {
     "data": {
      "image/png": "[encoded data removed]",
      "text/plain": [
       "<Figure size 1200x600 with 1 Axes>"
      ]
     },
     "metadata": {},
     "output_type": "display_data"
    }
   ],
   "source": [
    "plt.figure(figsize=(12, 6))\n",
    "\n",
    "ax=df1.head(15).plot(kind='bar',color='green')\n",
    "\n",
    "for i in ax.containers:\n",
    "    ax.bar_label(i)\n",
    "    \n",
    "plt.xlabel('Category')\n",
    "plt.ylabel('Total Price')\n",
    "plt.title('Top 15 Categories by Total Price')\n",
    "plt.xticks(rotation=90)\n",
    "plt.show()"
   ]
  },
  {
   "cell_type": "markdown",
   "id": "d73d085f",
   "metadata": {},
   "source": [
    "From the above graph, we observe that the category with the highest frequency or most sold items is \"Sofas & Armchairs.\""
   ]
  },
  {
   "cell_type": "code",
   "execution_count": 27,
   "id": "0e34b9e4",
   "metadata": {},
   "outputs": [
    {
     "data": {
      "image/png": "[encoded data removed]",
      "text/plain": [
       "<Figure size 1200x600 with 1 Axes>"
      ]
     },
     "metadata": {},
     "output_type": "display_data"
    }
   ],
   "source": [
    "plt.figure(figsize=(12, 6))\n",
    "\n",
    "df0 = df.groupby('short_description')['price'].sum().sort_values(ascending = False).head(15)\n",
    "\n",
    "\n",
    "ax=df0.head(15).plot(kind='bar',color='green')\n",
    "\n",
    "for i in ax.containers:\n",
    "    ax.bar_label(i)\n",
    "    \n",
    "plt.xlabel('Short Description')\n",
    "plt.ylabel('Price')\n",
    "plt.title('Price based on Short Description')\n",
    "plt.xticks(rotation=90)\n",
    "plt.show()\n"
   ]
  },
  {
   "cell_type": "markdown",
   "id": "c19548a8",
   "metadata": {},
   "source": [
    "From the above graph, we observe that the category with the highest frequency or most sold items is \"3-seat sofa-bed\""
   ]
  },
  {
   "cell_type": "markdown",
   "id": "cd95d47f",
   "metadata": {},
   "source": [
    "### Bivariate Analysis"
   ]
  },
  {
   "cell_type": "code",
   "execution_count": 28,
   "id": "03ee9c2c",
   "metadata": {},
   "outputs": [
    {
     "data": {
      "image/png": "[encoded data removed]",
      "text/plain": [
       "<Figure size 640x480 with 1 Axes>"
      ]
     },
     "metadata": {},
     "output_type": "display_data"
    }
   ],
   "source": [
    "# barplot of 2 variables namely \"sellable_online\" and price\n",
    "\n",
    "ax = sns.barplot(x=\"sellable_online\",y=\"price\",data=df)\n",
    "\n",
    "for i in ax.containers:\n",
    "    ax.bar_label(i)\n",
    "    \n",
    "plt.xlabel(\"Sellable Online\")\n",
    "plt.ylabel(\"Price\")\n",
    "plt.title(\"Bar Plot of Price by Sellable Online\")\n",
    "plt.show()"
   ]
  },
  {
   "cell_type": "markdown",
   "id": "0526dbf6",
   "metadata": {},
   "source": [
    "From the above graph, we observe that the category with the highest frequency or most sold items is \"Available for Online.\""
   ]
  },
  {
   "cell_type": "code",
   "execution_count": 29,
   "id": "88957e9e",
   "metadata": {},
   "outputs": [
    {
     "data": {
      "image/png": "[encoded data removed]",
      "text/plain": [
       "<Figure size 1000x600 with 1 Axes>"
      ]
     },
     "metadata": {},
     "output_type": "display_data"
    }
   ],
   "source": [
    "# Box plot to find out outliers.\n",
    "\n",
    "plt.figure(figsize=(10, 6))\n",
    "ax = sns.boxplot(x=\"category\", y=\"price\", data=df)\n",
    "\n",
    "for i in ax.containers:\n",
    "    ax.bar_label(i)\n",
    "\n",
    "plt.xlabel(\"Category\")\n",
    "plt.ylabel(\"Price\")\n",
    "plt.title(\"Bar Plot of Price by Category\")\n",
    "plt.xticks(rotation=90)\n",
    "plt.show()"
   ]
  },
  {
   "cell_type": "markdown",
   "id": "ea4ff8ad",
   "metadata": {},
   "source": [
    "### Multivariate Analysis"
   ]
  },
  {
   "cell_type": "code",
   "execution_count": 30,
   "id": "d630495e",
   "metadata": {},
   "outputs": [
    {
     "data": {
      "text/plain": [
       "<AxesSubplot:>"
      ]
     },
     "execution_count": 30,
     "metadata": {},
     "output_type": "execute_result"
    },
    {
     "data": {
      "image/png": "[encoded data removed]",
      "text/plain": [
       "<Figure size 640x480 with 2 Axes>"
      ]
     },
     "metadata": {},
     "output_type": "display_data"
    }
   ],
   "source": [
    "sns.heatmap(df.corr(),annot=True,cmap='coolwarm')"
   ]
  },
  {
   "cell_type": "code",
   "execution_count": 31,
   "id": "d16c23b8",
   "metadata": {},
   "outputs": [
    {
     "data": {
      "image/png": "[encoded data removed]",
      "text/plain": [
       "<Figure size 800x600 with 1 Axes>"
      ]
     },
     "metadata": {},
     "output_type": "display_data"
    }
   ],
   "source": [
    "# Distribution of the target variable (price)\n",
    "plt.figure(figsize=(8, 6))\n",
    "sns.histplot(df['price'], kde=True,color='b')\n",
    "plt.title('Distribution of Price')\n",
    "plt.show()"
   ]
  },
  {
   "cell_type": "markdown",
   "id": "8fc3b959",
   "metadata": {},
   "source": [
    "### which is the most expensive furniture?"
   ]
  },
  {
   "cell_type": "code",
   "execution_count": 32,
   "id": "76469d8b",
   "metadata": {},
   "outputs": [
    {
     "data": {
      "text/plain": [
       "category    Wardrobes\n",
       "price            9585\n",
       "dtype: object"
      ]
     },
     "execution_count": 32,
     "metadata": {},
     "output_type": "execute_result"
    }
   ],
   "source": [
    "#this example shows how to aggregate without groupby()\n",
    "\n",
    "max_price = df[['category','price']].max()\n",
    "max_price"
   ]
  },
  {
   "cell_type": "markdown",
   "id": "a0ff9c23",
   "metadata": {},
   "source": [
    "### Which is the least expensive furniture"
   ]
  },
  {
   "cell_type": "code",
   "execution_count": 33,
   "id": "15702925",
   "metadata": {},
   "outputs": [
    {
     "data": {
      "text/plain": [
       "category    Bar furniture\n",
       "price                   6\n",
       "dtype: object"
      ]
     },
     "execution_count": 33,
     "metadata": {},
     "output_type": "execute_result"
    }
   ],
   "source": [
    "#this example shows how to aggregate without groupby()\n",
    "\n",
    "min_price = df[['category','price']].min()\n",
    "min_price"
   ]
  },
  {
   "cell_type": "markdown",
   "id": "e069a51d",
   "metadata": {},
   "source": [
    "### Data Preprocessing\n",
    "\n",
    "1.Data preprocessing is a crucial step in machine learning that involves transforming raw data into a suitable format for model training. It aims to improve data quality, remove inconsistencies, handle missing values, and prepare the data to be effectively used by machine learning algorithms. Here are some key aspects of data preprocessing:\n",
    "\n",
    "2.Data Cleaning: This involves handling missing values, dealing with outliers, and removing irrelevant or duplicated data. Missing values can be imputed or removed, outliers can be treated using various techniques, and duplicate records can be eliminated.\n",
    "\n",
    "3.Feature Scaling: Feature scaling ensures that all features or variables are on a similar scale, preventing one feature from dominating the learning algorithm. Common scaling techniques include standardization (scaling features to have zero mean and unit variance) and normalization (scaling features to a specific range, such as 0 to 1).\n",
    "\n",
    "4.Encoding Categorical Variables: Categorical variables need to be transformed into numerical representations for machine learning algorithms to process them. Techniques like one-hot encoding, label encoding, or ordinal encoding are applied to convert categorical variables into numeric form.\n",
    "\n",
    "5.Feature Engineering: Feature engineering involves creating new features or transforming existing features to enhance the predictive power of the model. This can include operations such as creating interaction terms, polynomial features, or deriving domain-specific features.\n",
    "\n",
    "6.Dimensionality Reduction: In cases where the dataset has a large number of features, dimensionality reduction techniques like principal component analysis (PCA) or feature selection methods can be used to reduce the number of features while retaining the most important information.\n",
    "\n",
    "7.Train-Test Split: It is common practice to split the dataset into training and testing subsets. The training set is used to train the model, while the testing set is used to evaluate the model's performance on unseen data. This helps assess the model's ability to generalize to new data.\n",
    "\n",
    "8.Data preprocessing plays a vital role in improving the accuracy, efficiency, and reliability of machine learning models. It helps address data quality issues, handle complexities, and ensure the data is in a suitable form for effective model training and evaluation. A well-preprocessed dataset can significantly impact the performance and interpretability of machine learning models."
   ]
  },
  {
   "cell_type": "code",
   "execution_count": 34,
   "id": "fb028e27",
   "metadata": {},
   "outputs": [
    {
     "data": {
      "text/plain": [
       "item_id              1602\n",
       "name                  289\n",
       "category               17\n",
       "price                 720\n",
       "old_price             248\n",
       "sellable_online         2\n",
       "other_colors            2\n",
       "short_description     992\n",
       "designer              191\n",
       "depth                 108\n",
       "height                178\n",
       "width                 241\n",
       "dtype: int64"
      ]
     },
     "execution_count": 34,
     "metadata": {},
     "output_type": "execute_result"
    }
   ],
   "source": [
    "df.nunique()"
   ]
  },
  {
   "cell_type": "code",
   "execution_count": 35,
   "id": "4c1493c6",
   "metadata": {},
   "outputs": [
    {
     "data": {
      "text/html": [
       "<div>\n",
       "<style scoped>\n",
       "    .dataframe tbody tr th:only-of-type {\n",
       "        vertical-align: middle;\n",
       "    }\n",
       "\n",
       "    .dataframe tbody tr th {\n",
       "        vertical-align: top;\n",
       "    }\n",
       "\n",
       "    .dataframe thead th {\n",
       "        text-align: right;\n",
       "    }\n",
       "</style>\n",
       "<table border=\"1\" class=\"dataframe\">\n",
       "  <thead>\n",
       "    <tr style=\"text-align: right;\">\n",
       "      <th></th>\n",
       "      <th>category</th>\n",
       "      <th>short_description</th>\n",
       "      <th>depth</th>\n",
       "      <th>height</th>\n",
       "      <th>width</th>\n",
       "      <th>price</th>\n",
       "    </tr>\n",
       "  </thead>\n",
       "  <tbody>\n",
       "    <tr>\n",
       "      <th>69</th>\n",
       "      <td>Beds</td>\n",
       "      <td>Corner sofa-bed, 6-seat</td>\n",
       "      <td>164</td>\n",
       "      <td>102</td>\n",
       "      <td>387</td>\n",
       "      <td>9585</td>\n",
       "    </tr>\n",
       "    <tr>\n",
       "      <th>1359</th>\n",
       "      <td>Sofas &amp; armchairs</td>\n",
       "      <td>Corner sofa-bed, 6-seat</td>\n",
       "      <td>164</td>\n",
       "      <td>102</td>\n",
       "      <td>387</td>\n",
       "      <td>9585</td>\n",
       "    </tr>\n",
       "    <tr>\n",
       "      <th>1460</th>\n",
       "      <td>Sofas &amp; armchairs</td>\n",
       "      <td>U-shaped sofa, 6 seat</td>\n",
       "      <td>252</td>\n",
       "      <td>104</td>\n",
       "      <td>327</td>\n",
       "      <td>8900</td>\n",
       "    </tr>\n",
       "    <tr>\n",
       "      <th>1383</th>\n",
       "      <td>Sofas &amp; armchairs</td>\n",
       "      <td>U-shaped sofa, 6 seat</td>\n",
       "      <td>249</td>\n",
       "      <td>83</td>\n",
       "      <td>327</td>\n",
       "      <td>8395</td>\n",
       "    </tr>\n",
       "    <tr>\n",
       "      <th>1334</th>\n",
       "      <td>Sofas &amp; armchairs</td>\n",
       "      <td>U-shaped sofa, 7-seat</td>\n",
       "      <td>257</td>\n",
       "      <td>83</td>\n",
       "      <td>368</td>\n",
       "      <td>8295</td>\n",
       "    </tr>\n",
       "    <tr>\n",
       "      <th>...</th>\n",
       "      <td>...</td>\n",
       "      <td>...</td>\n",
       "      <td>...</td>\n",
       "      <td>...</td>\n",
       "      <td>...</td>\n",
       "      <td>...</td>\n",
       "    </tr>\n",
       "    <tr>\n",
       "      <th>1100</th>\n",
       "      <td>Children's furniture</td>\n",
       "      <td>Storage box,          42x30x23 cm</td>\n",
       "      <td>30</td>\n",
       "      <td>23</td>\n",
       "      <td>42</td>\n",
       "      <td>15</td>\n",
       "    </tr>\n",
       "    <tr>\n",
       "      <th>1520</th>\n",
       "      <td>Tables &amp; desks</td>\n",
       "      <td>Tablet stand,          25x25 cm</td>\n",
       "      <td>25</td>\n",
       "      <td>9</td>\n",
       "      <td>25</td>\n",
       "      <td>10</td>\n",
       "    </tr>\n",
       "    <tr>\n",
       "      <th>1161</th>\n",
       "      <td>Nursery furniture</td>\n",
       "      <td>Storage box,          42x30x10 cm</td>\n",
       "      <td>30</td>\n",
       "      <td>10</td>\n",
       "      <td>42</td>\n",
       "      <td>10</td>\n",
       "    </tr>\n",
       "    <tr>\n",
       "      <th>1091</th>\n",
       "      <td>Children's furniture</td>\n",
       "      <td>Storage box,          42x30x10 cm</td>\n",
       "      <td>30</td>\n",
       "      <td>10</td>\n",
       "      <td>42</td>\n",
       "      <td>10</td>\n",
       "    </tr>\n",
       "    <tr>\n",
       "      <th>258</th>\n",
       "      <td>Bookcases &amp; shelving units</td>\n",
       "      <td>Connector for ALGOT</td>\n",
       "      <td>2</td>\n",
       "      <td>4</td>\n",
       "      <td>5</td>\n",
       "      <td>6</td>\n",
       "    </tr>\n",
       "  </tbody>\n",
       "</table>\n",
       "<p>1899 rows × 6 columns</p>\n",
       "</div>"
      ],
      "text/plain": [
       "                        category                          short_description  \\\n",
       "69                          Beds                    Corner sofa-bed, 6-seat   \n",
       "1359           Sofas & armchairs                    Corner sofa-bed, 6-seat   \n",
       "1460           Sofas & armchairs                      U-shaped sofa, 6 seat   \n",
       "1383           Sofas & armchairs                      U-shaped sofa, 6 seat   \n",
       "1334           Sofas & armchairs                      U-shaped sofa, 7-seat   \n",
       "...                          ...                                        ...   \n",
       "1100        Children's furniture          Storage box,          42x30x23 cm   \n",
       "1520              Tables & desks            Tablet stand,          25x25 cm   \n",
       "1161           Nursery furniture          Storage box,          42x30x10 cm   \n",
       "1091        Children's furniture          Storage box,          42x30x10 cm   \n",
       "258   Bookcases & shelving units                        Connector for ALGOT   \n",
       "\n",
       "      depth  height  width  price  \n",
       "69      164     102    387   9585  \n",
       "1359    164     102    387   9585  \n",
       "1460    252     104    327   8900  \n",
       "1383    249      83    327   8395  \n",
       "1334    257      83    368   8295  \n",
       "...     ...     ...    ...    ...  \n",
       "1100     30      23     42     15  \n",
       "1520     25       9     25     10  \n",
       "1161     30      10     42     10  \n",
       "1091     30      10     42     10  \n",
       "258       2       4      5      6  \n",
       "\n",
       "[1899 rows x 6 columns]"
      ]
     },
     "execution_count": 35,
     "metadata": {},
     "output_type": "execute_result"
    }
   ],
   "source": [
    "df[['category','short_description','depth','height','width','price']].sort_values('price',ascending=False)"
   ]
  },
  {
   "cell_type": "code",
   "execution_count": 36,
   "id": "0996f057",
   "metadata": {},
   "outputs": [],
   "source": [
    "# to find out unique descriptions\n",
    "unique_descriptions =df['short_description'].unique()\n",
    "unique_df = pd.DataFrame(unique_descriptions, columns=['unique_short_description'])"
   ]
  },
  {
   "cell_type": "code",
   "execution_count": 37,
   "id": "30b896d3",
   "metadata": {},
   "outputs": [
    {
     "data": {
      "text/html": [
       "<div>\n",
       "<style scoped>\n",
       "    .dataframe tbody tr th:only-of-type {\n",
       "        vertical-align: middle;\n",
       "    }\n",
       "\n",
       "    .dataframe tbody tr th {\n",
       "        vertical-align: top;\n",
       "    }\n",
       "\n",
       "    .dataframe thead th {\n",
       "        text-align: right;\n",
       "    }\n",
       "</style>\n",
       "<table border=\"1\" class=\"dataframe\">\n",
       "  <thead>\n",
       "    <tr style=\"text-align: right;\">\n",
       "      <th></th>\n",
       "      <th>unique_short_description</th>\n",
       "    </tr>\n",
       "  </thead>\n",
       "  <tbody>\n",
       "    <tr>\n",
       "      <th>0</th>\n",
       "      <td>Bar stool with backrest,          74 cm</td>\n",
       "    </tr>\n",
       "    <tr>\n",
       "      <th>1</th>\n",
       "      <td>Wall-mounted drop-leaf table,         ...</td>\n",
       "    </tr>\n",
       "    <tr>\n",
       "      <th>2</th>\n",
       "      <td>Bar stool with backrest,          63 cm</td>\n",
       "    </tr>\n",
       "    <tr>\n",
       "      <th>3</th>\n",
       "      <td>Bar stool with backrest, foldable,    ...</td>\n",
       "    </tr>\n",
       "    <tr>\n",
       "      <th>4</th>\n",
       "      <td>Bar stool with backrest, foldable,    ...</td>\n",
       "    </tr>\n",
       "    <tr>\n",
       "      <th>...</th>\n",
       "      <td>...</td>\n",
       "    </tr>\n",
       "    <tr>\n",
       "      <th>987</th>\n",
       "      <td>Wardrobe with 7 doors+6 drawers,      ...</td>\n",
       "    </tr>\n",
       "    <tr>\n",
       "      <th>988</th>\n",
       "      <td>Wardrobe combination,          150x58x...</td>\n",
       "    </tr>\n",
       "    <tr>\n",
       "      <th>989</th>\n",
       "      <td>Wardrobe with 6 drawers,          140x...</td>\n",
       "    </tr>\n",
       "    <tr>\n",
       "      <th>990</th>\n",
       "      <td>Wardrobe combination,          75x60x2...</td>\n",
       "    </tr>\n",
       "    <tr>\n",
       "      <th>991</th>\n",
       "      <td>Wardrobe combination,          200x66x...</td>\n",
       "    </tr>\n",
       "  </tbody>\n",
       "</table>\n",
       "<p>992 rows × 1 columns</p>\n",
       "</div>"
      ],
      "text/plain": [
       "                              unique_short_description\n",
       "0              Bar stool with backrest,          74 cm\n",
       "1            Wall-mounted drop-leaf table,         ...\n",
       "2              Bar stool with backrest,          63 cm\n",
       "3            Bar stool with backrest, foldable,    ...\n",
       "4            Bar stool with backrest, foldable,    ...\n",
       "..                                                 ...\n",
       "987          Wardrobe with 7 doors+6 drawers,      ...\n",
       "988          Wardrobe combination,          150x58x...\n",
       "989          Wardrobe with 6 drawers,          140x...\n",
       "990          Wardrobe combination,          75x60x2...\n",
       "991          Wardrobe combination,          200x66x...\n",
       "\n",
       "[992 rows x 1 columns]"
      ]
     },
     "execution_count": 37,
     "metadata": {},
     "output_type": "execute_result"
    }
   ],
   "source": [
    "unique_df"
   ]
  },
  {
   "cell_type": "raw",
   "id": "02c420b4",
   "metadata": {},
   "source": [
    "To split the data in the 'short_description' column by commas (',') and create a new column called 'short_desc' that contains the primary description without the size, you can use the following code:"
   ]
  },
  {
   "cell_type": "code",
   "execution_count": 38,
   "id": "84b6527e",
   "metadata": {},
   "outputs": [],
   "source": [
    "df['short_desc'] = df['short_description'].str.split(',').str[0]"
   ]
  },
  {
   "cell_type": "code",
   "execution_count": 39,
   "id": "22ec0b56",
   "metadata": {},
   "outputs": [
    {
     "data": {
      "text/plain": [
       "363"
      ]
     },
     "execution_count": 39,
     "metadata": {},
     "output_type": "execute_result"
    }
   ],
   "source": [
    "#Total unique values\n",
    "len(df['short_desc'].value_counts())"
   ]
  },
  {
   "cell_type": "code",
   "execution_count": 40,
   "id": "2a4971d9",
   "metadata": {},
   "outputs": [
    {
     "data": {
      "text/plain": [
       "short_desc\n",
       "Wardrobe               141\n",
       "Chair                   64\n",
       "Storage combination     60\n",
       "Shelving unit           50\n",
       "TV bench                43\n",
       "Name: short_desc, dtype: int64"
      ]
     },
     "execution_count": 40,
     "metadata": {},
     "output_type": "execute_result"
    }
   ],
   "source": [
    "# This will give us all the count and sum of the occurrence of all the unique data vale(object)\n",
    "df.short_desc = df.short_desc.apply(lambda x: x.strip())\n",
    "\n",
    "description_stats = df.groupby('short_desc')['short_desc'].agg('count').sort_values(ascending=False)\n",
    "\n",
    "description_stats.head()"
   ]
  },
  {
   "cell_type": "code",
   "execution_count": 41,
   "id": "1a3e863a",
   "metadata": {},
   "outputs": [
    {
     "data": {
      "text/plain": [
       "short_desc\n",
       "Leg                                   10\n",
       "Children's chair                      10\n",
       "Corner section                        10\n",
       "Stool                                 10\n",
       "Shelving unit with 4 inserts           9\n",
       "                                      ..\n",
       "Standing desk                          1\n",
       "Chest of 10 drawers                    1\n",
       "Chest of drawers                       1\n",
       "Chest of drawers with clothes rail     1\n",
       "Wire basket                            1\n",
       "Name: short_desc, Length: 328, dtype: int64"
      ]
     },
     "execution_count": 41,
     "metadata": {},
     "output_type": "execute_result"
    }
   ],
   "source": [
    "#To find out which data has occurred less than 10 times.\n",
    "short_desc_less_than_10 = description_stats[description_stats<=10]\n",
    "short_desc_less_than_10"
   ]
  },
  {
   "cell_type": "code",
   "execution_count": 42,
   "id": "0be40974",
   "metadata": {},
   "outputs": [
    {
     "data": {
      "text/plain": [
       "36"
      ]
     },
     "execution_count": 42,
     "metadata": {},
     "output_type": "execute_result"
    }
   ],
   "source": [
    "# we will name as \"other\" to all those category of short description whose accurance is less than 10\n",
    "# since it will make count of dummies less which is going to make the task easy in prediction.\n",
    "df.short_desc = df.short_desc.apply(lambda x: 'other' if x in short_desc_less_than_10 else x)\n",
    "len(df.short_desc.unique())"
   ]
  },
  {
   "cell_type": "code",
   "execution_count": 43,
   "id": "1dae8451",
   "metadata": {},
   "outputs": [
    {
     "data": {
      "text/html": [
       "<div>\n",
       "<style scoped>\n",
       "    .dataframe tbody tr th:only-of-type {\n",
       "        vertical-align: middle;\n",
       "    }\n",
       "\n",
       "    .dataframe tbody tr th {\n",
       "        vertical-align: top;\n",
       "    }\n",
       "\n",
       "    .dataframe thead th {\n",
       "        text-align: right;\n",
       "    }\n",
       "</style>\n",
       "<table border=\"1\" class=\"dataframe\">\n",
       "  <thead>\n",
       "    <tr style=\"text-align: right;\">\n",
       "      <th></th>\n",
       "      <th>item_id</th>\n",
       "      <th>name</th>\n",
       "      <th>category</th>\n",
       "      <th>price</th>\n",
       "      <th>old_price</th>\n",
       "      <th>sellable_online</th>\n",
       "      <th>other_colors</th>\n",
       "      <th>short_description</th>\n",
       "      <th>designer</th>\n",
       "      <th>depth</th>\n",
       "      <th>height</th>\n",
       "      <th>width</th>\n",
       "      <th>short_desc</th>\n",
       "    </tr>\n",
       "  </thead>\n",
       "  <tbody>\n",
       "    <tr>\n",
       "      <th>158</th>\n",
       "      <td>60419962</td>\n",
       "      <td>JONAXEL</td>\n",
       "      <td>Bookcases &amp; shelving units</td>\n",
       "      <td>15</td>\n",
       "      <td>No old price</td>\n",
       "      <td>True</td>\n",
       "      <td>Yes</td>\n",
       "      <td>Wire basket,          25x51x15 cm</td>\n",
       "      <td>IKEA of Sweden</td>\n",
       "      <td>51</td>\n",
       "      <td>15</td>\n",
       "      <td>25</td>\n",
       "      <td>other</td>\n",
       "    </tr>\n",
       "    <tr>\n",
       "      <th>204</th>\n",
       "      <td>50343147</td>\n",
       "      <td>BROR</td>\n",
       "      <td>Bookcases &amp; shelving units</td>\n",
       "      <td>15</td>\n",
       "      <td>No old price</td>\n",
       "      <td>True</td>\n",
       "      <td>No</td>\n",
       "      <td>Hook for post,          7x5x3 cm 2 pack</td>\n",
       "      <td>IKEA of Sweden</td>\n",
       "      <td>5</td>\n",
       "      <td>7</td>\n",
       "      <td>3</td>\n",
       "      <td>other</td>\n",
       "    </tr>\n",
       "    <tr>\n",
       "      <th>258</th>\n",
       "      <td>335885</td>\n",
       "      <td>SKÅDIS</td>\n",
       "      <td>Bookcases &amp; shelving units</td>\n",
       "      <td>6</td>\n",
       "      <td>SR 10/4 pack</td>\n",
       "      <td>True</td>\n",
       "      <td>No</td>\n",
       "      <td>Connector for ALGOT</td>\n",
       "      <td>Eva Lilja Löwenhielm</td>\n",
       "      <td>2</td>\n",
       "      <td>4</td>\n",
       "      <td>5</td>\n",
       "      <td>other</td>\n",
       "    </tr>\n",
       "    <tr>\n",
       "      <th>364</th>\n",
       "      <td>340047</td>\n",
       "      <td>EKET</td>\n",
       "      <td>Bookcases &amp; shelving units</td>\n",
       "      <td>15</td>\n",
       "      <td>No old price</td>\n",
       "      <td>True</td>\n",
       "      <td>No</td>\n",
       "      <td>Suspension rail,          35 cm</td>\n",
       "      <td>IKEA of Sweden</td>\n",
       "      <td>1</td>\n",
       "      <td>4</td>\n",
       "      <td>29</td>\n",
       "      <td>other</td>\n",
       "    </tr>\n",
       "    <tr>\n",
       "      <th>744</th>\n",
       "      <td>60248418</td>\n",
       "      <td>FÖRSIKTIG</td>\n",
       "      <td>Chairs</td>\n",
       "      <td>15</td>\n",
       "      <td>No old price</td>\n",
       "      <td>True</td>\n",
       "      <td>No</td>\n",
       "      <td>Children's stool</td>\n",
       "      <td>K Hagberg/M Hagberg</td>\n",
       "      <td>24</td>\n",
       "      <td>13</td>\n",
       "      <td>37</td>\n",
       "      <td>other</td>\n",
       "    </tr>\n",
       "    <tr>\n",
       "      <th>1031</th>\n",
       "      <td>60248418</td>\n",
       "      <td>FÖRSIKTIG</td>\n",
       "      <td>Children's furniture</td>\n",
       "      <td>15</td>\n",
       "      <td>No old price</td>\n",
       "      <td>True</td>\n",
       "      <td>No</td>\n",
       "      <td>Children's stool</td>\n",
       "      <td>K Hagberg/M Hagberg</td>\n",
       "      <td>24</td>\n",
       "      <td>13</td>\n",
       "      <td>37</td>\n",
       "      <td>other</td>\n",
       "    </tr>\n",
       "    <tr>\n",
       "      <th>1091</th>\n",
       "      <td>40466285</td>\n",
       "      <td>TROFAST</td>\n",
       "      <td>Children's furniture</td>\n",
       "      <td>10</td>\n",
       "      <td>No old price</td>\n",
       "      <td>False</td>\n",
       "      <td>No</td>\n",
       "      <td>Storage box,          42x30x10 cm</td>\n",
       "      <td>404.662.85 Fits in TROFAST frames.Can be stack...</td>\n",
       "      <td>30</td>\n",
       "      <td>10</td>\n",
       "      <td>42</td>\n",
       "      <td>other</td>\n",
       "    </tr>\n",
       "    <tr>\n",
       "      <th>1099</th>\n",
       "      <td>30466281</td>\n",
       "      <td>TROFAST</td>\n",
       "      <td>Children's furniture</td>\n",
       "      <td>15</td>\n",
       "      <td>No old price</td>\n",
       "      <td>False</td>\n",
       "      <td>No</td>\n",
       "      <td>Storage box,          42x30x23 cm</td>\n",
       "      <td>304.662.81 Fits in TROFAST frames.Can be stack...</td>\n",
       "      <td>30</td>\n",
       "      <td>23</td>\n",
       "      <td>42</td>\n",
       "      <td>other</td>\n",
       "    </tr>\n",
       "    <tr>\n",
       "      <th>1100</th>\n",
       "      <td>50466275</td>\n",
       "      <td>TROFAST</td>\n",
       "      <td>Children's furniture</td>\n",
       "      <td>15</td>\n",
       "      <td>No old price</td>\n",
       "      <td>False</td>\n",
       "      <td>No</td>\n",
       "      <td>Storage box,          42x30x23 cm</td>\n",
       "      <td>504.662.75 Fits in TROFAST frames.Can be stack...</td>\n",
       "      <td>30</td>\n",
       "      <td>23</td>\n",
       "      <td>42</td>\n",
       "      <td>other</td>\n",
       "    </tr>\n",
       "    <tr>\n",
       "      <th>1160</th>\n",
       "      <td>30466281</td>\n",
       "      <td>TROFAST</td>\n",
       "      <td>Nursery furniture</td>\n",
       "      <td>15</td>\n",
       "      <td>No old price</td>\n",
       "      <td>False</td>\n",
       "      <td>No</td>\n",
       "      <td>Storage box,          42x30x23 cm</td>\n",
       "      <td>304.662.81 Fits in TROFAST frames.Can be stack...</td>\n",
       "      <td>30</td>\n",
       "      <td>23</td>\n",
       "      <td>42</td>\n",
       "      <td>other</td>\n",
       "    </tr>\n",
       "    <tr>\n",
       "      <th>1161</th>\n",
       "      <td>40466285</td>\n",
       "      <td>TROFAST</td>\n",
       "      <td>Nursery furniture</td>\n",
       "      <td>10</td>\n",
       "      <td>No old price</td>\n",
       "      <td>False</td>\n",
       "      <td>No</td>\n",
       "      <td>Storage box,          42x30x10 cm</td>\n",
       "      <td>404.662.85 Fits in TROFAST frames.Can be stack...</td>\n",
       "      <td>30</td>\n",
       "      <td>10</td>\n",
       "      <td>42</td>\n",
       "      <td>other</td>\n",
       "    </tr>\n",
       "    <tr>\n",
       "      <th>1162</th>\n",
       "      <td>50466275</td>\n",
       "      <td>TROFAST</td>\n",
       "      <td>Nursery furniture</td>\n",
       "      <td>15</td>\n",
       "      <td>No old price</td>\n",
       "      <td>False</td>\n",
       "      <td>No</td>\n",
       "      <td>Storage box,          42x30x23 cm</td>\n",
       "      <td>504.662.75 Fits in TROFAST frames.Can be stack...</td>\n",
       "      <td>30</td>\n",
       "      <td>23</td>\n",
       "      <td>42</td>\n",
       "      <td>other</td>\n",
       "    </tr>\n",
       "    <tr>\n",
       "      <th>1520</th>\n",
       "      <td>20302596</td>\n",
       "      <td>ISBERGET</td>\n",
       "      <td>Tables &amp; desks</td>\n",
       "      <td>10</td>\n",
       "      <td>No old price</td>\n",
       "      <td>True</td>\n",
       "      <td>Yes</td>\n",
       "      <td>Tablet stand,          25x25 cm</td>\n",
       "      <td>Sarah Fager</td>\n",
       "      <td>25</td>\n",
       "      <td>9</td>\n",
       "      <td>25</td>\n",
       "      <td>other</td>\n",
       "    </tr>\n",
       "    <tr>\n",
       "      <th>1530</th>\n",
       "      <td>60150176</td>\n",
       "      <td>BRÄDA</td>\n",
       "      <td>Tables &amp; desks</td>\n",
       "      <td>15</td>\n",
       "      <td>No old price</td>\n",
       "      <td>True</td>\n",
       "      <td>Yes</td>\n",
       "      <td>Laptop support,          42x31 cm</td>\n",
       "      <td>Sarah Fager</td>\n",
       "      <td>31</td>\n",
       "      <td>9</td>\n",
       "      <td>42</td>\n",
       "      <td>other</td>\n",
       "    </tr>\n",
       "  </tbody>\n",
       "</table>\n",
       "</div>"
      ],
      "text/plain": [
       "       item_id       name                    category  price     old_price  \\\n",
       "158   60419962    JONAXEL  Bookcases & shelving units     15  No old price   \n",
       "204   50343147       BROR  Bookcases & shelving units     15  No old price   \n",
       "258     335885     SKÅDIS  Bookcases & shelving units      6  SR 10/4 pack   \n",
       "364     340047       EKET  Bookcases & shelving units     15  No old price   \n",
       "744   60248418  FÖRSIKTIG                      Chairs     15  No old price   \n",
       "1031  60248418  FÖRSIKTIG        Children's furniture     15  No old price   \n",
       "1091  40466285    TROFAST        Children's furniture     10  No old price   \n",
       "1099  30466281    TROFAST        Children's furniture     15  No old price   \n",
       "1100  50466275    TROFAST        Children's furniture     15  No old price   \n",
       "1160  30466281    TROFAST           Nursery furniture     15  No old price   \n",
       "1161  40466285    TROFAST           Nursery furniture     10  No old price   \n",
       "1162  50466275    TROFAST           Nursery furniture     15  No old price   \n",
       "1520  20302596   ISBERGET              Tables & desks     10  No old price   \n",
       "1530  60150176      BRÄDA              Tables & desks     15  No old price   \n",
       "\n",
       "      sellable_online other_colors  \\\n",
       "158              True          Yes   \n",
       "204              True           No   \n",
       "258              True           No   \n",
       "364              True           No   \n",
       "744              True           No   \n",
       "1031             True           No   \n",
       "1091            False           No   \n",
       "1099            False           No   \n",
       "1100            False           No   \n",
       "1160            False           No   \n",
       "1161            False           No   \n",
       "1162            False           No   \n",
       "1520             True          Yes   \n",
       "1530             True          Yes   \n",
       "\n",
       "                                    short_description  \\\n",
       "158                 Wire basket,          25x51x15 cm   \n",
       "204           Hook for post,          7x5x3 cm 2 pack   \n",
       "258                               Connector for ALGOT   \n",
       "364                   Suspension rail,          35 cm   \n",
       "744                                  Children's stool   \n",
       "1031                                 Children's stool   \n",
       "1091                Storage box,          42x30x10 cm   \n",
       "1099                Storage box,          42x30x23 cm   \n",
       "1100                Storage box,          42x30x23 cm   \n",
       "1160                Storage box,          42x30x23 cm   \n",
       "1161                Storage box,          42x30x10 cm   \n",
       "1162                Storage box,          42x30x23 cm   \n",
       "1520                  Tablet stand,          25x25 cm   \n",
       "1530                Laptop support,          42x31 cm   \n",
       "\n",
       "                                               designer  depth  height  width  \\\n",
       "158                                      IKEA of Sweden     51      15     25   \n",
       "204                                      IKEA of Sweden      5       7      3   \n",
       "258                                Eva Lilja Löwenhielm      2       4      5   \n",
       "364                                      IKEA of Sweden      1       4     29   \n",
       "744                                 K Hagberg/M Hagberg     24      13     37   \n",
       "1031                                K Hagberg/M Hagberg     24      13     37   \n",
       "1091  404.662.85 Fits in TROFAST frames.Can be stack...     30      10     42   \n",
       "1099  304.662.81 Fits in TROFAST frames.Can be stack...     30      23     42   \n",
       "1100  504.662.75 Fits in TROFAST frames.Can be stack...     30      23     42   \n",
       "1160  304.662.81 Fits in TROFAST frames.Can be stack...     30      23     42   \n",
       "1161  404.662.85 Fits in TROFAST frames.Can be stack...     30      10     42   \n",
       "1162  504.662.75 Fits in TROFAST frames.Can be stack...     30      23     42   \n",
       "1520                                        Sarah Fager     25       9     25   \n",
       "1530                                        Sarah Fager     31       9     42   \n",
       "\n",
       "     short_desc  \n",
       "158       other  \n",
       "204       other  \n",
       "258       other  \n",
       "364       other  \n",
       "744       other  \n",
       "1031      other  \n",
       "1091      other  \n",
       "1099      other  \n",
       "1100      other  \n",
       "1160      other  \n",
       "1161      other  \n",
       "1162      other  \n",
       "1520      other  \n",
       "1530      other  "
      ]
     },
     "execution_count": 43,
     "metadata": {},
     "output_type": "execute_result"
    }
   ],
   "source": [
    "# Find the rows whose price is less than 15\n",
    "df.loc[(df['price'] <=15)]"
   ]
  },
  {
   "cell_type": "code",
   "execution_count": 44,
   "id": "2de7931a",
   "metadata": {},
   "outputs": [],
   "source": [
    "# Drop those rows\n",
    "df.drop(df[df['price']<=15].index, axis=0 ,inplace=True)"
   ]
  },
  {
   "cell_type": "code",
   "execution_count": 45,
   "id": "96aa8341",
   "metadata": {},
   "outputs": [
    {
     "data": {
      "text/plain": [
       "(1885, 13)"
      ]
     },
     "execution_count": 45,
     "metadata": {},
     "output_type": "execute_result"
    }
   ],
   "source": [
    "# final shape of dataframe\n",
    "df.shape"
   ]
  },
  {
   "cell_type": "raw",
   "id": "e5a41128",
   "metadata": {},
   "source": [
    "Since now we know the dependent and independent variables and their contributions to the price prediction, we will remove the one which are not important or can misguide the model."
   ]
  },
  {
   "cell_type": "code",
   "execution_count": 46,
   "id": "911da858",
   "metadata": {},
   "outputs": [
    {
     "data": {
      "text/html": [
       "<div>\n",
       "<style scoped>\n",
       "    .dataframe tbody tr th:only-of-type {\n",
       "        vertical-align: middle;\n",
       "    }\n",
       "\n",
       "    .dataframe tbody tr th {\n",
       "        vertical-align: top;\n",
       "    }\n",
       "\n",
       "    .dataframe thead th {\n",
       "        text-align: right;\n",
       "    }\n",
       "</style>\n",
       "<table border=\"1\" class=\"dataframe\">\n",
       "  <thead>\n",
       "    <tr style=\"text-align: right;\">\n",
       "      <th></th>\n",
       "      <th>item_id</th>\n",
       "      <th>name</th>\n",
       "      <th>category</th>\n",
       "      <th>price</th>\n",
       "      <th>old_price</th>\n",
       "      <th>sellable_online</th>\n",
       "      <th>other_colors</th>\n",
       "      <th>short_description</th>\n",
       "      <th>designer</th>\n",
       "      <th>depth</th>\n",
       "      <th>height</th>\n",
       "      <th>width</th>\n",
       "      <th>short_desc</th>\n",
       "    </tr>\n",
       "  </thead>\n",
       "  <tbody>\n",
       "    <tr>\n",
       "      <th>0</th>\n",
       "      <td>80155205</td>\n",
       "      <td>STIG</td>\n",
       "      <td>Bar furniture</td>\n",
       "      <td>69</td>\n",
       "      <td>No old price</td>\n",
       "      <td>True</td>\n",
       "      <td>Yes</td>\n",
       "      <td>Bar stool with backrest,          74 cm</td>\n",
       "      <td>Henrik Preutz</td>\n",
       "      <td>50</td>\n",
       "      <td>100</td>\n",
       "      <td>60</td>\n",
       "      <td>Bar stool with backrest</td>\n",
       "    </tr>\n",
       "    <tr>\n",
       "      <th>1</th>\n",
       "      <td>30180504</td>\n",
       "      <td>NORBERG</td>\n",
       "      <td>Bar furniture</td>\n",
       "      <td>225</td>\n",
       "      <td>No old price</td>\n",
       "      <td>True</td>\n",
       "      <td>No</td>\n",
       "      <td>Wall-mounted drop-leaf table,         ...</td>\n",
       "      <td>Marcus Arvonen</td>\n",
       "      <td>60</td>\n",
       "      <td>43</td>\n",
       "      <td>74</td>\n",
       "      <td>other</td>\n",
       "    </tr>\n",
       "  </tbody>\n",
       "</table>\n",
       "</div>"
      ],
      "text/plain": [
       "    item_id     name       category  price     old_price  sellable_online  \\\n",
       "0  80155205     STIG  Bar furniture     69  No old price             True   \n",
       "1  30180504  NORBERG  Bar furniture    225  No old price             True   \n",
       "\n",
       "  other_colors                                  short_description  \\\n",
       "0          Yes            Bar stool with backrest,          74 cm   \n",
       "1           No          Wall-mounted drop-leaf table,         ...   \n",
       "\n",
       "         designer  depth  height  width               short_desc  \n",
       "0   Henrik Preutz     50     100     60  Bar stool with backrest  \n",
       "1  Marcus Arvonen     60      43     74                    other  "
      ]
     },
     "execution_count": 46,
     "metadata": {},
     "output_type": "execute_result"
    }
   ],
   "source": [
    "df2=pd.DataFrame(df)\n",
    "df2.head(2)"
   ]
  },
  {
   "cell_type": "code",
   "execution_count": 47,
   "id": "e9ea2de7",
   "metadata": {},
   "outputs": [],
   "source": [
    "df2 = df.drop(['item_id','name','old_price','short_description','designer'],axis=1)"
   ]
  },
  {
   "cell_type": "raw",
   "id": "388467bb",
   "metadata": {},
   "source": [
    "Note: we cannot convert object datatypes to integer.\n",
    "\n",
    "So how can we deal with this problem?\n",
    "\n",
    "\n",
    "1.Find the total number of unique values in each categorical variable. This can be done using the appropriate method provided by your programming language or data analysis library.\n",
    "\n",
    "2.Use the get_dummies function (provided by pandas in Python) to create a DataFrame where each unique value in the categorical variables becomes a separate column. This function will assign a value of 1 or 0 to indicate the occurrence or absence of each value in the original dataset.\n",
    "\n",
    "3.After obtaining the dummy variable DataFrame, use the concat function to join this DataFrame with your original dataset. This will create a final DataFrame that includes the dummy variables along with the rest of the data.\n",
    "\n",
    "4.You can then apply machine learning algorithms on this final DataFrame, which now includes the transformed categorical variables represented as integers (0 or 1), allowing you to predict prices or perform other tasks."
   ]
  },
  {
   "cell_type": "code",
   "execution_count": 48,
   "id": "101c4d9e",
   "metadata": {},
   "outputs": [
    {
     "data": {
      "text/html": [
       "<div>\n",
       "<style scoped>\n",
       "    .dataframe tbody tr th:only-of-type {\n",
       "        vertical-align: middle;\n",
       "    }\n",
       "\n",
       "    .dataframe tbody tr th {\n",
       "        vertical-align: top;\n",
       "    }\n",
       "\n",
       "    .dataframe thead th {\n",
       "        text-align: right;\n",
       "    }\n",
       "</style>\n",
       "<table border=\"1\" class=\"dataframe\">\n",
       "  <thead>\n",
       "    <tr style=\"text-align: right;\">\n",
       "      <th></th>\n",
       "      <th>No</th>\n",
       "      <th>Yes</th>\n",
       "    </tr>\n",
       "  </thead>\n",
       "  <tbody>\n",
       "    <tr>\n",
       "      <th>0</th>\n",
       "      <td>0</td>\n",
       "      <td>1</td>\n",
       "    </tr>\n",
       "    <tr>\n",
       "      <th>1</th>\n",
       "      <td>1</td>\n",
       "      <td>0</td>\n",
       "    </tr>\n",
       "    <tr>\n",
       "      <th>2</th>\n",
       "      <td>1</td>\n",
       "      <td>0</td>\n",
       "    </tr>\n",
       "    <tr>\n",
       "      <th>3</th>\n",
       "      <td>1</td>\n",
       "      <td>0</td>\n",
       "    </tr>\n",
       "    <tr>\n",
       "      <th>4</th>\n",
       "      <td>1</td>\n",
       "      <td>0</td>\n",
       "    </tr>\n",
       "  </tbody>\n",
       "</table>\n",
       "</div>"
      ],
      "text/plain": [
       "   No  Yes\n",
       "0   0    1\n",
       "1   1    0\n",
       "2   1    0\n",
       "3   1    0\n",
       "4   1    0"
      ]
     },
     "execution_count": 48,
     "metadata": {},
     "output_type": "execute_result"
    }
   ],
   "source": [
    "# creating Dataframe of other_colors data\n",
    "color=pd.get_dummies(df2.other_colors)\n",
    "color.head()"
   ]
  },
  {
   "cell_type": "code",
   "execution_count": 49,
   "id": "5d988b27",
   "metadata": {},
   "outputs": [
    {
     "data": {
      "text/html": [
       "<div>\n",
       "<style scoped>\n",
       "    .dataframe tbody tr th:only-of-type {\n",
       "        vertical-align: middle;\n",
       "    }\n",
       "\n",
       "    .dataframe tbody tr th {\n",
       "        vertical-align: top;\n",
       "    }\n",
       "\n",
       "    .dataframe thead th {\n",
       "        text-align: right;\n",
       "    }\n",
       "</style>\n",
       "<table border=\"1\" class=\"dataframe\">\n",
       "  <thead>\n",
       "    <tr style=\"text-align: right;\">\n",
       "      <th></th>\n",
       "      <th>category</th>\n",
       "      <th>price</th>\n",
       "      <th>sellable_online</th>\n",
       "      <th>other_colors</th>\n",
       "      <th>depth</th>\n",
       "      <th>height</th>\n",
       "      <th>width</th>\n",
       "      <th>short_desc</th>\n",
       "      <th>Yes</th>\n",
       "    </tr>\n",
       "  </thead>\n",
       "  <tbody>\n",
       "    <tr>\n",
       "      <th>0</th>\n",
       "      <td>Bar furniture</td>\n",
       "      <td>69</td>\n",
       "      <td>True</td>\n",
       "      <td>Yes</td>\n",
       "      <td>50</td>\n",
       "      <td>100</td>\n",
       "      <td>60</td>\n",
       "      <td>Bar stool with backrest</td>\n",
       "      <td>1</td>\n",
       "    </tr>\n",
       "    <tr>\n",
       "      <th>1</th>\n",
       "      <td>Bar furniture</td>\n",
       "      <td>225</td>\n",
       "      <td>True</td>\n",
       "      <td>No</td>\n",
       "      <td>60</td>\n",
       "      <td>43</td>\n",
       "      <td>74</td>\n",
       "      <td>other</td>\n",
       "      <td>0</td>\n",
       "    </tr>\n",
       "    <tr>\n",
       "      <th>2</th>\n",
       "      <td>Bar furniture</td>\n",
       "      <td>345</td>\n",
       "      <td>True</td>\n",
       "      <td>No</td>\n",
       "      <td>45</td>\n",
       "      <td>91</td>\n",
       "      <td>40</td>\n",
       "      <td>Bar stool with backrest</td>\n",
       "      <td>0</td>\n",
       "    </tr>\n",
       "    <tr>\n",
       "      <th>3</th>\n",
       "      <td>Bar furniture</td>\n",
       "      <td>129</td>\n",
       "      <td>True</td>\n",
       "      <td>No</td>\n",
       "      <td>44</td>\n",
       "      <td>95</td>\n",
       "      <td>50</td>\n",
       "      <td>Bar stool with backrest</td>\n",
       "      <td>0</td>\n",
       "    </tr>\n",
       "    <tr>\n",
       "      <th>4</th>\n",
       "      <td>Bar furniture</td>\n",
       "      <td>129</td>\n",
       "      <td>True</td>\n",
       "      <td>No</td>\n",
       "      <td>44</td>\n",
       "      <td>95</td>\n",
       "      <td>50</td>\n",
       "      <td>Bar stool with backrest</td>\n",
       "      <td>0</td>\n",
       "    </tr>\n",
       "  </tbody>\n",
       "</table>\n",
       "</div>"
      ],
      "text/plain": [
       "        category  price  sellable_online other_colors  depth  height  width  \\\n",
       "0  Bar furniture     69             True          Yes     50     100     60   \n",
       "1  Bar furniture    225             True           No     60      43     74   \n",
       "2  Bar furniture    345             True           No     45      91     40   \n",
       "3  Bar furniture    129             True           No     44      95     50   \n",
       "4  Bar furniture    129             True           No     44      95     50   \n",
       "\n",
       "                short_desc  Yes  \n",
       "0  Bar stool with backrest    1  \n",
       "1                    other    0  \n",
       "2  Bar stool with backrest    0  \n",
       "3  Bar stool with backrest    0  \n",
       "4  Bar stool with backrest    0  "
      ]
     },
     "execution_count": 49,
     "metadata": {},
     "output_type": "execute_result"
    }
   ],
   "source": [
    "# join two frames\n",
    "df3 = pd.concat([df2,color.drop('No',axis='columns')],axis='columns')\n",
    "df3.head()"
   ]
  },
  {
   "cell_type": "code",
   "execution_count": 50,
   "id": "fc18faa3",
   "metadata": {},
   "outputs": [
    {
     "data": {
      "text/html": [
       "<div>\n",
       "<style scoped>\n",
       "    .dataframe tbody tr th:only-of-type {\n",
       "        vertical-align: middle;\n",
       "    }\n",
       "\n",
       "    .dataframe tbody tr th {\n",
       "        vertical-align: top;\n",
       "    }\n",
       "\n",
       "    .dataframe thead th {\n",
       "        text-align: right;\n",
       "    }\n",
       "</style>\n",
       "<table border=\"1\" class=\"dataframe\">\n",
       "  <thead>\n",
       "    <tr style=\"text-align: right;\">\n",
       "      <th></th>\n",
       "      <th>Bar furniture</th>\n",
       "      <th>Beds</th>\n",
       "      <th>Bookcases &amp; shelving units</th>\n",
       "      <th>Cabinets &amp; cupboards</th>\n",
       "      <th>Café furniture</th>\n",
       "      <th>Chairs</th>\n",
       "      <th>Chests of drawers &amp; drawer units</th>\n",
       "      <th>Children's furniture</th>\n",
       "      <th>Nursery furniture</th>\n",
       "      <th>Outdoor furniture</th>\n",
       "      <th>Room dividers</th>\n",
       "      <th>Sideboards, buffets &amp; console tables</th>\n",
       "      <th>Sofas &amp; armchairs</th>\n",
       "      <th>TV &amp; media furniture</th>\n",
       "      <th>Tables &amp; desks</th>\n",
       "      <th>Trolleys</th>\n",
       "      <th>Wardrobes</th>\n",
       "    </tr>\n",
       "  </thead>\n",
       "  <tbody>\n",
       "    <tr>\n",
       "      <th>0</th>\n",
       "      <td>1</td>\n",
       "      <td>0</td>\n",
       "      <td>0</td>\n",
       "      <td>0</td>\n",
       "      <td>0</td>\n",
       "      <td>0</td>\n",
       "      <td>0</td>\n",
       "      <td>0</td>\n",
       "      <td>0</td>\n",
       "      <td>0</td>\n",
       "      <td>0</td>\n",
       "      <td>0</td>\n",
       "      <td>0</td>\n",
       "      <td>0</td>\n",
       "      <td>0</td>\n",
       "      <td>0</td>\n",
       "      <td>0</td>\n",
       "    </tr>\n",
       "    <tr>\n",
       "      <th>1</th>\n",
       "      <td>1</td>\n",
       "      <td>0</td>\n",
       "      <td>0</td>\n",
       "      <td>0</td>\n",
       "      <td>0</td>\n",
       "      <td>0</td>\n",
       "      <td>0</td>\n",
       "      <td>0</td>\n",
       "      <td>0</td>\n",
       "      <td>0</td>\n",
       "      <td>0</td>\n",
       "      <td>0</td>\n",
       "      <td>0</td>\n",
       "      <td>0</td>\n",
       "      <td>0</td>\n",
       "      <td>0</td>\n",
       "      <td>0</td>\n",
       "    </tr>\n",
       "    <tr>\n",
       "      <th>2</th>\n",
       "      <td>1</td>\n",
       "      <td>0</td>\n",
       "      <td>0</td>\n",
       "      <td>0</td>\n",
       "      <td>0</td>\n",
       "      <td>0</td>\n",
       "      <td>0</td>\n",
       "      <td>0</td>\n",
       "      <td>0</td>\n",
       "      <td>0</td>\n",
       "      <td>0</td>\n",
       "      <td>0</td>\n",
       "      <td>0</td>\n",
       "      <td>0</td>\n",
       "      <td>0</td>\n",
       "      <td>0</td>\n",
       "      <td>0</td>\n",
       "    </tr>\n",
       "    <tr>\n",
       "      <th>3</th>\n",
       "      <td>1</td>\n",
       "      <td>0</td>\n",
       "      <td>0</td>\n",
       "      <td>0</td>\n",
       "      <td>0</td>\n",
       "      <td>0</td>\n",
       "      <td>0</td>\n",
       "      <td>0</td>\n",
       "      <td>0</td>\n",
       "      <td>0</td>\n",
       "      <td>0</td>\n",
       "      <td>0</td>\n",
       "      <td>0</td>\n",
       "      <td>0</td>\n",
       "      <td>0</td>\n",
       "      <td>0</td>\n",
       "      <td>0</td>\n",
       "    </tr>\n",
       "    <tr>\n",
       "      <th>4</th>\n",
       "      <td>1</td>\n",
       "      <td>0</td>\n",
       "      <td>0</td>\n",
       "      <td>0</td>\n",
       "      <td>0</td>\n",
       "      <td>0</td>\n",
       "      <td>0</td>\n",
       "      <td>0</td>\n",
       "      <td>0</td>\n",
       "      <td>0</td>\n",
       "      <td>0</td>\n",
       "      <td>0</td>\n",
       "      <td>0</td>\n",
       "      <td>0</td>\n",
       "      <td>0</td>\n",
       "      <td>0</td>\n",
       "      <td>0</td>\n",
       "    </tr>\n",
       "  </tbody>\n",
       "</table>\n",
       "</div>"
      ],
      "text/plain": [
       "   Bar furniture  Beds  Bookcases & shelving units  Cabinets & cupboards  \\\n",
       "0              1     0                           0                     0   \n",
       "1              1     0                           0                     0   \n",
       "2              1     0                           0                     0   \n",
       "3              1     0                           0                     0   \n",
       "4              1     0                           0                     0   \n",
       "\n",
       "   Café furniture  Chairs  Chests of drawers & drawer units  \\\n",
       "0               0       0                                 0   \n",
       "1               0       0                                 0   \n",
       "2               0       0                                 0   \n",
       "3               0       0                                 0   \n",
       "4               0       0                                 0   \n",
       "\n",
       "   Children's furniture  Nursery furniture  Outdoor furniture  Room dividers  \\\n",
       "0                     0                  0                  0              0   \n",
       "1                     0                  0                  0              0   \n",
       "2                     0                  0                  0              0   \n",
       "3                     0                  0                  0              0   \n",
       "4                     0                  0                  0              0   \n",
       "\n",
       "   Sideboards, buffets & console tables  Sofas & armchairs  \\\n",
       "0                                     0                  0   \n",
       "1                                     0                  0   \n",
       "2                                     0                  0   \n",
       "3                                     0                  0   \n",
       "4                                     0                  0   \n",
       "\n",
       "   TV & media furniture  Tables & desks  Trolleys  Wardrobes  \n",
       "0                     0               0         0          0  \n",
       "1                     0               0         0          0  \n",
       "2                     0               0         0          0  \n",
       "3                     0               0         0          0  \n",
       "4                     0               0         0          0  "
      ]
     },
     "execution_count": 50,
     "metadata": {},
     "output_type": "execute_result"
    }
   ],
   "source": [
    "# for column category\n",
    "category = pd.get_dummies(df2.category)\n",
    "category.head()"
   ]
  },
  {
   "cell_type": "code",
   "execution_count": 51,
   "id": "3158a435",
   "metadata": {},
   "outputs": [
    {
     "data": {
      "text/html": [
       "<div>\n",
       "<style scoped>\n",
       "    .dataframe tbody tr th:only-of-type {\n",
       "        vertical-align: middle;\n",
       "    }\n",
       "\n",
       "    .dataframe tbody tr th {\n",
       "        vertical-align: top;\n",
       "    }\n",
       "\n",
       "    .dataframe thead th {\n",
       "        text-align: right;\n",
       "    }\n",
       "</style>\n",
       "<table border=\"1\" class=\"dataframe\">\n",
       "  <thead>\n",
       "    <tr style=\"text-align: right;\">\n",
       "      <th></th>\n",
       "      <th>2-seat sofa</th>\n",
       "      <th>3-seat sofa</th>\n",
       "      <th>3-seat sofa-bed</th>\n",
       "      <th>4-seat sofa</th>\n",
       "      <th>Armchair</th>\n",
       "      <th>Bar stool</th>\n",
       "      <th>Bar stool with backrest</th>\n",
       "      <th>Bedside table</th>\n",
       "      <th>Bookcase</th>\n",
       "      <th>Cabinet</th>\n",
       "      <th>...</th>\n",
       "      <th>Storage combination w glass doors</th>\n",
       "      <th>Storage combination with doors</th>\n",
       "      <th>Storage unit with smart lock</th>\n",
       "      <th>TV bench</th>\n",
       "      <th>TV storage combination</th>\n",
       "      <th>TV storage combination/glass doors</th>\n",
       "      <th>Wall-mounted cabinet combination</th>\n",
       "      <th>Wardrobe</th>\n",
       "      <th>Wardrobe combination</th>\n",
       "      <th>other</th>\n",
       "    </tr>\n",
       "  </thead>\n",
       "  <tbody>\n",
       "    <tr>\n",
       "      <th>0</th>\n",
       "      <td>0</td>\n",
       "      <td>0</td>\n",
       "      <td>0</td>\n",
       "      <td>0</td>\n",
       "      <td>0</td>\n",
       "      <td>0</td>\n",
       "      <td>1</td>\n",
       "      <td>0</td>\n",
       "      <td>0</td>\n",
       "      <td>0</td>\n",
       "      <td>...</td>\n",
       "      <td>0</td>\n",
       "      <td>0</td>\n",
       "      <td>0</td>\n",
       "      <td>0</td>\n",
       "      <td>0</td>\n",
       "      <td>0</td>\n",
       "      <td>0</td>\n",
       "      <td>0</td>\n",
       "      <td>0</td>\n",
       "      <td>0</td>\n",
       "    </tr>\n",
       "    <tr>\n",
       "      <th>1</th>\n",
       "      <td>0</td>\n",
       "      <td>0</td>\n",
       "      <td>0</td>\n",
       "      <td>0</td>\n",
       "      <td>0</td>\n",
       "      <td>0</td>\n",
       "      <td>0</td>\n",
       "      <td>0</td>\n",
       "      <td>0</td>\n",
       "      <td>0</td>\n",
       "      <td>...</td>\n",
       "      <td>0</td>\n",
       "      <td>0</td>\n",
       "      <td>0</td>\n",
       "      <td>0</td>\n",
       "      <td>0</td>\n",
       "      <td>0</td>\n",
       "      <td>0</td>\n",
       "      <td>0</td>\n",
       "      <td>0</td>\n",
       "      <td>1</td>\n",
       "    </tr>\n",
       "    <tr>\n",
       "      <th>2</th>\n",
       "      <td>0</td>\n",
       "      <td>0</td>\n",
       "      <td>0</td>\n",
       "      <td>0</td>\n",
       "      <td>0</td>\n",
       "      <td>0</td>\n",
       "      <td>1</td>\n",
       "      <td>0</td>\n",
       "      <td>0</td>\n",
       "      <td>0</td>\n",
       "      <td>...</td>\n",
       "      <td>0</td>\n",
       "      <td>0</td>\n",
       "      <td>0</td>\n",
       "      <td>0</td>\n",
       "      <td>0</td>\n",
       "      <td>0</td>\n",
       "      <td>0</td>\n",
       "      <td>0</td>\n",
       "      <td>0</td>\n",
       "      <td>0</td>\n",
       "    </tr>\n",
       "  </tbody>\n",
       "</table>\n",
       "<p>3 rows × 36 columns</p>\n",
       "</div>"
      ],
      "text/plain": [
       "   2-seat sofa  3-seat sofa  3-seat sofa-bed  4-seat sofa  Armchair  \\\n",
       "0            0            0                0            0         0   \n",
       "1            0            0                0            0         0   \n",
       "2            0            0                0            0         0   \n",
       "\n",
       "   Bar stool  Bar stool with backrest  Bedside table  Bookcase  Cabinet  ...  \\\n",
       "0          0                        1              0         0        0  ...   \n",
       "1          0                        0              0         0        0  ...   \n",
       "2          0                        1              0         0        0  ...   \n",
       "\n",
       "   Storage combination w glass doors  Storage combination with doors  \\\n",
       "0                                  0                               0   \n",
       "1                                  0                               0   \n",
       "2                                  0                               0   \n",
       "\n",
       "   Storage unit with smart lock  TV bench  TV storage combination  \\\n",
       "0                             0         0                       0   \n",
       "1                             0         0                       0   \n",
       "2                             0         0                       0   \n",
       "\n",
       "   TV storage combination/glass doors  Wall-mounted cabinet combination  \\\n",
       "0                                   0                                 0   \n",
       "1                                   0                                 0   \n",
       "2                                   0                                 0   \n",
       "\n",
       "   Wardrobe  Wardrobe combination  other  \n",
       "0         0                     0      0  \n",
       "1         0                     0      1  \n",
       "2         0                     0      0  \n",
       "\n",
       "[3 rows x 36 columns]"
      ]
     },
     "execution_count": 51,
     "metadata": {},
     "output_type": "execute_result"
    }
   ],
   "source": [
    "# for column short_desc\n",
    "short = pd.get_dummies(df2.short_desc)\n",
    "short.head(3)"
   ]
  },
  {
   "cell_type": "code",
   "execution_count": 52,
   "id": "7d4d40e1",
   "metadata": {},
   "outputs": [
    {
     "data": {
      "text/html": [
       "<div>\n",
       "<style scoped>\n",
       "    .dataframe tbody tr th:only-of-type {\n",
       "        vertical-align: middle;\n",
       "    }\n",
       "\n",
       "    .dataframe tbody tr th {\n",
       "        vertical-align: top;\n",
       "    }\n",
       "\n",
       "    .dataframe thead th {\n",
       "        text-align: right;\n",
       "    }\n",
       "</style>\n",
       "<table border=\"1\" class=\"dataframe\">\n",
       "  <thead>\n",
       "    <tr style=\"text-align: right;\">\n",
       "      <th></th>\n",
       "      <th>category</th>\n",
       "      <th>price</th>\n",
       "      <th>sellable_online</th>\n",
       "      <th>other_colors</th>\n",
       "      <th>depth</th>\n",
       "      <th>height</th>\n",
       "      <th>width</th>\n",
       "      <th>short_desc</th>\n",
       "      <th>Bar furniture</th>\n",
       "      <th>Beds</th>\n",
       "      <th>...</th>\n",
       "      <th>Children's furniture</th>\n",
       "      <th>Nursery furniture</th>\n",
       "      <th>Outdoor furniture</th>\n",
       "      <th>Room dividers</th>\n",
       "      <th>Sideboards, buffets &amp; console tables</th>\n",
       "      <th>Sofas &amp; armchairs</th>\n",
       "      <th>TV &amp; media furniture</th>\n",
       "      <th>Tables &amp; desks</th>\n",
       "      <th>Trolleys</th>\n",
       "      <th>Wardrobes</th>\n",
       "    </tr>\n",
       "  </thead>\n",
       "  <tbody>\n",
       "    <tr>\n",
       "      <th>0</th>\n",
       "      <td>Bar furniture</td>\n",
       "      <td>69</td>\n",
       "      <td>True</td>\n",
       "      <td>Yes</td>\n",
       "      <td>50</td>\n",
       "      <td>100</td>\n",
       "      <td>60</td>\n",
       "      <td>Bar stool with backrest</td>\n",
       "      <td>1</td>\n",
       "      <td>0</td>\n",
       "      <td>...</td>\n",
       "      <td>0</td>\n",
       "      <td>0</td>\n",
       "      <td>0</td>\n",
       "      <td>0</td>\n",
       "      <td>0</td>\n",
       "      <td>0</td>\n",
       "      <td>0</td>\n",
       "      <td>0</td>\n",
       "      <td>0</td>\n",
       "      <td>0</td>\n",
       "    </tr>\n",
       "    <tr>\n",
       "      <th>1</th>\n",
       "      <td>Bar furniture</td>\n",
       "      <td>225</td>\n",
       "      <td>True</td>\n",
       "      <td>No</td>\n",
       "      <td>60</td>\n",
       "      <td>43</td>\n",
       "      <td>74</td>\n",
       "      <td>other</td>\n",
       "      <td>1</td>\n",
       "      <td>0</td>\n",
       "      <td>...</td>\n",
       "      <td>0</td>\n",
       "      <td>0</td>\n",
       "      <td>0</td>\n",
       "      <td>0</td>\n",
       "      <td>0</td>\n",
       "      <td>0</td>\n",
       "      <td>0</td>\n",
       "      <td>0</td>\n",
       "      <td>0</td>\n",
       "      <td>0</td>\n",
       "    </tr>\n",
       "    <tr>\n",
       "      <th>2</th>\n",
       "      <td>Bar furniture</td>\n",
       "      <td>345</td>\n",
       "      <td>True</td>\n",
       "      <td>No</td>\n",
       "      <td>45</td>\n",
       "      <td>91</td>\n",
       "      <td>40</td>\n",
       "      <td>Bar stool with backrest</td>\n",
       "      <td>1</td>\n",
       "      <td>0</td>\n",
       "      <td>...</td>\n",
       "      <td>0</td>\n",
       "      <td>0</td>\n",
       "      <td>0</td>\n",
       "      <td>0</td>\n",
       "      <td>0</td>\n",
       "      <td>0</td>\n",
       "      <td>0</td>\n",
       "      <td>0</td>\n",
       "      <td>0</td>\n",
       "      <td>0</td>\n",
       "    </tr>\n",
       "    <tr>\n",
       "      <th>3</th>\n",
       "      <td>Bar furniture</td>\n",
       "      <td>129</td>\n",
       "      <td>True</td>\n",
       "      <td>No</td>\n",
       "      <td>44</td>\n",
       "      <td>95</td>\n",
       "      <td>50</td>\n",
       "      <td>Bar stool with backrest</td>\n",
       "      <td>1</td>\n",
       "      <td>0</td>\n",
       "      <td>...</td>\n",
       "      <td>0</td>\n",
       "      <td>0</td>\n",
       "      <td>0</td>\n",
       "      <td>0</td>\n",
       "      <td>0</td>\n",
       "      <td>0</td>\n",
       "      <td>0</td>\n",
       "      <td>0</td>\n",
       "      <td>0</td>\n",
       "      <td>0</td>\n",
       "    </tr>\n",
       "    <tr>\n",
       "      <th>4</th>\n",
       "      <td>Bar furniture</td>\n",
       "      <td>129</td>\n",
       "      <td>True</td>\n",
       "      <td>No</td>\n",
       "      <td>44</td>\n",
       "      <td>95</td>\n",
       "      <td>50</td>\n",
       "      <td>Bar stool with backrest</td>\n",
       "      <td>1</td>\n",
       "      <td>0</td>\n",
       "      <td>...</td>\n",
       "      <td>0</td>\n",
       "      <td>0</td>\n",
       "      <td>0</td>\n",
       "      <td>0</td>\n",
       "      <td>0</td>\n",
       "      <td>0</td>\n",
       "      <td>0</td>\n",
       "      <td>0</td>\n",
       "      <td>0</td>\n",
       "      <td>0</td>\n",
       "    </tr>\n",
       "  </tbody>\n",
       "</table>\n",
       "<p>5 rows × 25 columns</p>\n",
       "</div>"
      ],
      "text/plain": [
       "        category  price  sellable_online other_colors  depth  height  width  \\\n",
       "0  Bar furniture     69             True          Yes     50     100     60   \n",
       "1  Bar furniture    225             True           No     60      43     74   \n",
       "2  Bar furniture    345             True           No     45      91     40   \n",
       "3  Bar furniture    129             True           No     44      95     50   \n",
       "4  Bar furniture    129             True           No     44      95     50   \n",
       "\n",
       "                short_desc  Bar furniture  Beds  ...  Children's furniture  \\\n",
       "0  Bar stool with backrest              1     0  ...                     0   \n",
       "1                    other              1     0  ...                     0   \n",
       "2  Bar stool with backrest              1     0  ...                     0   \n",
       "3  Bar stool with backrest              1     0  ...                     0   \n",
       "4  Bar stool with backrest              1     0  ...                     0   \n",
       "\n",
       "   Nursery furniture  Outdoor furniture  Room dividers  \\\n",
       "0                  0                  0              0   \n",
       "1                  0                  0              0   \n",
       "2                  0                  0              0   \n",
       "3                  0                  0              0   \n",
       "4                  0                  0              0   \n",
       "\n",
       "   Sideboards, buffets & console tables  Sofas & armchairs  \\\n",
       "0                                     0                  0   \n",
       "1                                     0                  0   \n",
       "2                                     0                  0   \n",
       "3                                     0                  0   \n",
       "4                                     0                  0   \n",
       "\n",
       "   TV & media furniture  Tables & desks  Trolleys  Wardrobes  \n",
       "0                     0               0         0          0  \n",
       "1                     0               0         0          0  \n",
       "2                     0               0         0          0  \n",
       "3                     0               0         0          0  \n",
       "4                     0               0         0          0  \n",
       "\n",
       "[5 rows x 25 columns]"
      ]
     },
     "execution_count": 52,
     "metadata": {},
     "output_type": "execute_result"
    }
   ],
   "source": [
    "# joining the dataframes\n",
    "df3=pd.concat([df2,category],axis='columns')\n",
    "df3.head(5)"
   ]
  },
  {
   "cell_type": "code",
   "execution_count": 53,
   "id": "70d3a5c5",
   "metadata": {},
   "outputs": [
    {
     "data": {
      "text/html": [
       "<div>\n",
       "<style scoped>\n",
       "    .dataframe tbody tr th:only-of-type {\n",
       "        vertical-align: middle;\n",
       "    }\n",
       "\n",
       "    .dataframe tbody tr th {\n",
       "        vertical-align: top;\n",
       "    }\n",
       "\n",
       "    .dataframe thead th {\n",
       "        text-align: right;\n",
       "    }\n",
       "</style>\n",
       "<table border=\"1\" class=\"dataframe\">\n",
       "  <thead>\n",
       "    <tr style=\"text-align: right;\">\n",
       "      <th></th>\n",
       "      <th>category</th>\n",
       "      <th>price</th>\n",
       "      <th>sellable_online</th>\n",
       "      <th>other_colors</th>\n",
       "      <th>depth</th>\n",
       "      <th>height</th>\n",
       "      <th>width</th>\n",
       "      <th>short_desc</th>\n",
       "      <th>Bar furniture</th>\n",
       "      <th>Beds</th>\n",
       "      <th>...</th>\n",
       "      <th>Storage combination</th>\n",
       "      <th>Storage combination w glass doors</th>\n",
       "      <th>Storage combination with doors</th>\n",
       "      <th>Storage unit with smart lock</th>\n",
       "      <th>TV bench</th>\n",
       "      <th>TV storage combination</th>\n",
       "      <th>TV storage combination/glass doors</th>\n",
       "      <th>Wall-mounted cabinet combination</th>\n",
       "      <th>Wardrobe</th>\n",
       "      <th>Wardrobe combination</th>\n",
       "    </tr>\n",
       "  </thead>\n",
       "  <tbody>\n",
       "    <tr>\n",
       "      <th>0</th>\n",
       "      <td>Bar furniture</td>\n",
       "      <td>69</td>\n",
       "      <td>True</td>\n",
       "      <td>Yes</td>\n",
       "      <td>50</td>\n",
       "      <td>100</td>\n",
       "      <td>60</td>\n",
       "      <td>Bar stool with backrest</td>\n",
       "      <td>1</td>\n",
       "      <td>0</td>\n",
       "      <td>...</td>\n",
       "      <td>0</td>\n",
       "      <td>0</td>\n",
       "      <td>0</td>\n",
       "      <td>0</td>\n",
       "      <td>0</td>\n",
       "      <td>0</td>\n",
       "      <td>0</td>\n",
       "      <td>0</td>\n",
       "      <td>0</td>\n",
       "      <td>0</td>\n",
       "    </tr>\n",
       "    <tr>\n",
       "      <th>1</th>\n",
       "      <td>Bar furniture</td>\n",
       "      <td>225</td>\n",
       "      <td>True</td>\n",
       "      <td>No</td>\n",
       "      <td>60</td>\n",
       "      <td>43</td>\n",
       "      <td>74</td>\n",
       "      <td>other</td>\n",
       "      <td>1</td>\n",
       "      <td>0</td>\n",
       "      <td>...</td>\n",
       "      <td>0</td>\n",
       "      <td>0</td>\n",
       "      <td>0</td>\n",
       "      <td>0</td>\n",
       "      <td>0</td>\n",
       "      <td>0</td>\n",
       "      <td>0</td>\n",
       "      <td>0</td>\n",
       "      <td>0</td>\n",
       "      <td>0</td>\n",
       "    </tr>\n",
       "    <tr>\n",
       "      <th>2</th>\n",
       "      <td>Bar furniture</td>\n",
       "      <td>345</td>\n",
       "      <td>True</td>\n",
       "      <td>No</td>\n",
       "      <td>45</td>\n",
       "      <td>91</td>\n",
       "      <td>40</td>\n",
       "      <td>Bar stool with backrest</td>\n",
       "      <td>1</td>\n",
       "      <td>0</td>\n",
       "      <td>...</td>\n",
       "      <td>0</td>\n",
       "      <td>0</td>\n",
       "      <td>0</td>\n",
       "      <td>0</td>\n",
       "      <td>0</td>\n",
       "      <td>0</td>\n",
       "      <td>0</td>\n",
       "      <td>0</td>\n",
       "      <td>0</td>\n",
       "      <td>0</td>\n",
       "    </tr>\n",
       "    <tr>\n",
       "      <th>3</th>\n",
       "      <td>Bar furniture</td>\n",
       "      <td>129</td>\n",
       "      <td>True</td>\n",
       "      <td>No</td>\n",
       "      <td>44</td>\n",
       "      <td>95</td>\n",
       "      <td>50</td>\n",
       "      <td>Bar stool with backrest</td>\n",
       "      <td>1</td>\n",
       "      <td>0</td>\n",
       "      <td>...</td>\n",
       "      <td>0</td>\n",
       "      <td>0</td>\n",
       "      <td>0</td>\n",
       "      <td>0</td>\n",
       "      <td>0</td>\n",
       "      <td>0</td>\n",
       "      <td>0</td>\n",
       "      <td>0</td>\n",
       "      <td>0</td>\n",
       "      <td>0</td>\n",
       "    </tr>\n",
       "    <tr>\n",
       "      <th>4</th>\n",
       "      <td>Bar furniture</td>\n",
       "      <td>129</td>\n",
       "      <td>True</td>\n",
       "      <td>No</td>\n",
       "      <td>44</td>\n",
       "      <td>95</td>\n",
       "      <td>50</td>\n",
       "      <td>Bar stool with backrest</td>\n",
       "      <td>1</td>\n",
       "      <td>0</td>\n",
       "      <td>...</td>\n",
       "      <td>0</td>\n",
       "      <td>0</td>\n",
       "      <td>0</td>\n",
       "      <td>0</td>\n",
       "      <td>0</td>\n",
       "      <td>0</td>\n",
       "      <td>0</td>\n",
       "      <td>0</td>\n",
       "      <td>0</td>\n",
       "      <td>0</td>\n",
       "    </tr>\n",
       "  </tbody>\n",
       "</table>\n",
       "<p>5 rows × 60 columns</p>\n",
       "</div>"
      ],
      "text/plain": [
       "        category  price  sellable_online other_colors  depth  height  width  \\\n",
       "0  Bar furniture     69             True          Yes     50     100     60   \n",
       "1  Bar furniture    225             True           No     60      43     74   \n",
       "2  Bar furniture    345             True           No     45      91     40   \n",
       "3  Bar furniture    129             True           No     44      95     50   \n",
       "4  Bar furniture    129             True           No     44      95     50   \n",
       "\n",
       "                short_desc  Bar furniture  Beds  ...  Storage combination  \\\n",
       "0  Bar stool with backrest              1     0  ...                    0   \n",
       "1                    other              1     0  ...                    0   \n",
       "2  Bar stool with backrest              1     0  ...                    0   \n",
       "3  Bar stool with backrest              1     0  ...                    0   \n",
       "4  Bar stool with backrest              1     0  ...                    0   \n",
       "\n",
       "   Storage combination w glass doors  Storage combination with doors  \\\n",
       "0                                  0                               0   \n",
       "1                                  0                               0   \n",
       "2                                  0                               0   \n",
       "3                                  0                               0   \n",
       "4                                  0                               0   \n",
       "\n",
       "   Storage unit with smart lock  TV bench  TV storage combination  \\\n",
       "0                             0         0                       0   \n",
       "1                             0         0                       0   \n",
       "2                             0         0                       0   \n",
       "3                             0         0                       0   \n",
       "4                             0         0                       0   \n",
       "\n",
       "   TV storage combination/glass doors  Wall-mounted cabinet combination  \\\n",
       "0                                   0                                 0   \n",
       "1                                   0                                 0   \n",
       "2                                   0                                 0   \n",
       "3                                   0                                 0   \n",
       "4                                   0                                 0   \n",
       "\n",
       "   Wardrobe  Wardrobe combination  \n",
       "0         0                     0  \n",
       "1         0                     0  \n",
       "2         0                     0  \n",
       "3         0                     0  \n",
       "4         0                     0  \n",
       "\n",
       "[5 rows x 60 columns]"
      ]
     },
     "execution_count": 53,
     "metadata": {},
     "output_type": "execute_result"
    }
   ],
   "source": [
    "df3=pd.concat([df3,short.drop('other',axis='columns')],axis='columns')\n",
    "df3.head()"
   ]
  },
  {
   "cell_type": "code",
   "execution_count": 54,
   "id": "9528fd01",
   "metadata": {},
   "outputs": [],
   "source": [
    "df3.drop(['category',\"sellable_online\",'short_desc','other_colors'],axis=1, inplace=True)"
   ]
  },
  {
   "cell_type": "markdown",
   "id": "6e3d93a9",
   "metadata": {},
   "source": [
    "###  Regression Model"
   ]
  },
  {
   "cell_type": "code",
   "execution_count": 55,
   "id": "322968ff",
   "metadata": {},
   "outputs": [],
   "source": [
    "x = df3.drop('price',axis=1) # independent features\n",
    "y = df['price']  # dependent feature"
   ]
  },
  {
   "cell_type": "code",
   "execution_count": 56,
   "id": "bc10160c",
   "metadata": {},
   "outputs": [
    {
     "data": {
      "text/html": [
       "<div>\n",
       "<style scoped>\n",
       "    .dataframe tbody tr th:only-of-type {\n",
       "        vertical-align: middle;\n",
       "    }\n",
       "\n",
       "    .dataframe tbody tr th {\n",
       "        vertical-align: top;\n",
       "    }\n",
       "\n",
       "    .dataframe thead th {\n",
       "        text-align: right;\n",
       "    }\n",
       "</style>\n",
       "<table border=\"1\" class=\"dataframe\">\n",
       "  <thead>\n",
       "    <tr style=\"text-align: right;\">\n",
       "      <th></th>\n",
       "      <th>depth</th>\n",
       "      <th>height</th>\n",
       "      <th>width</th>\n",
       "      <th>Bar furniture</th>\n",
       "      <th>Beds</th>\n",
       "      <th>Bookcases &amp; shelving units</th>\n",
       "      <th>Cabinets &amp; cupboards</th>\n",
       "      <th>Café furniture</th>\n",
       "      <th>Chairs</th>\n",
       "      <th>Chests of drawers &amp; drawer units</th>\n",
       "      <th>...</th>\n",
       "      <th>Storage combination</th>\n",
       "      <th>Storage combination w glass doors</th>\n",
       "      <th>Storage combination with doors</th>\n",
       "      <th>Storage unit with smart lock</th>\n",
       "      <th>TV bench</th>\n",
       "      <th>TV storage combination</th>\n",
       "      <th>TV storage combination/glass doors</th>\n",
       "      <th>Wall-mounted cabinet combination</th>\n",
       "      <th>Wardrobe</th>\n",
       "      <th>Wardrobe combination</th>\n",
       "    </tr>\n",
       "  </thead>\n",
       "  <tbody>\n",
       "    <tr>\n",
       "      <th>0</th>\n",
       "      <td>50</td>\n",
       "      <td>100</td>\n",
       "      <td>60</td>\n",
       "      <td>1</td>\n",
       "      <td>0</td>\n",
       "      <td>0</td>\n",
       "      <td>0</td>\n",
       "      <td>0</td>\n",
       "      <td>0</td>\n",
       "      <td>0</td>\n",
       "      <td>...</td>\n",
       "      <td>0</td>\n",
       "      <td>0</td>\n",
       "      <td>0</td>\n",
       "      <td>0</td>\n",
       "      <td>0</td>\n",
       "      <td>0</td>\n",
       "      <td>0</td>\n",
       "      <td>0</td>\n",
       "      <td>0</td>\n",
       "      <td>0</td>\n",
       "    </tr>\n",
       "    <tr>\n",
       "      <th>1</th>\n",
       "      <td>60</td>\n",
       "      <td>43</td>\n",
       "      <td>74</td>\n",
       "      <td>1</td>\n",
       "      <td>0</td>\n",
       "      <td>0</td>\n",
       "      <td>0</td>\n",
       "      <td>0</td>\n",
       "      <td>0</td>\n",
       "      <td>0</td>\n",
       "      <td>...</td>\n",
       "      <td>0</td>\n",
       "      <td>0</td>\n",
       "      <td>0</td>\n",
       "      <td>0</td>\n",
       "      <td>0</td>\n",
       "      <td>0</td>\n",
       "      <td>0</td>\n",
       "      <td>0</td>\n",
       "      <td>0</td>\n",
       "      <td>0</td>\n",
       "    </tr>\n",
       "    <tr>\n",
       "      <th>2</th>\n",
       "      <td>45</td>\n",
       "      <td>91</td>\n",
       "      <td>40</td>\n",
       "      <td>1</td>\n",
       "      <td>0</td>\n",
       "      <td>0</td>\n",
       "      <td>0</td>\n",
       "      <td>0</td>\n",
       "      <td>0</td>\n",
       "      <td>0</td>\n",
       "      <td>...</td>\n",
       "      <td>0</td>\n",
       "      <td>0</td>\n",
       "      <td>0</td>\n",
       "      <td>0</td>\n",
       "      <td>0</td>\n",
       "      <td>0</td>\n",
       "      <td>0</td>\n",
       "      <td>0</td>\n",
       "      <td>0</td>\n",
       "      <td>0</td>\n",
       "    </tr>\n",
       "    <tr>\n",
       "      <th>3</th>\n",
       "      <td>44</td>\n",
       "      <td>95</td>\n",
       "      <td>50</td>\n",
       "      <td>1</td>\n",
       "      <td>0</td>\n",
       "      <td>0</td>\n",
       "      <td>0</td>\n",
       "      <td>0</td>\n",
       "      <td>0</td>\n",
       "      <td>0</td>\n",
       "      <td>...</td>\n",
       "      <td>0</td>\n",
       "      <td>0</td>\n",
       "      <td>0</td>\n",
       "      <td>0</td>\n",
       "      <td>0</td>\n",
       "      <td>0</td>\n",
       "      <td>0</td>\n",
       "      <td>0</td>\n",
       "      <td>0</td>\n",
       "      <td>0</td>\n",
       "    </tr>\n",
       "    <tr>\n",
       "      <th>4</th>\n",
       "      <td>44</td>\n",
       "      <td>95</td>\n",
       "      <td>50</td>\n",
       "      <td>1</td>\n",
       "      <td>0</td>\n",
       "      <td>0</td>\n",
       "      <td>0</td>\n",
       "      <td>0</td>\n",
       "      <td>0</td>\n",
       "      <td>0</td>\n",
       "      <td>...</td>\n",
       "      <td>0</td>\n",
       "      <td>0</td>\n",
       "      <td>0</td>\n",
       "      <td>0</td>\n",
       "      <td>0</td>\n",
       "      <td>0</td>\n",
       "      <td>0</td>\n",
       "      <td>0</td>\n",
       "      <td>0</td>\n",
       "      <td>0</td>\n",
       "    </tr>\n",
       "  </tbody>\n",
       "</table>\n",
       "<p>5 rows × 55 columns</p>\n",
       "</div>"
      ],
      "text/plain": [
       "   depth  height  width  Bar furniture  Beds  Bookcases & shelving units  \\\n",
       "0     50     100     60              1     0                           0   \n",
       "1     60      43     74              1     0                           0   \n",
       "2     45      91     40              1     0                           0   \n",
       "3     44      95     50              1     0                           0   \n",
       "4     44      95     50              1     0                           0   \n",
       "\n",
       "   Cabinets & cupboards  Café furniture  Chairs  \\\n",
       "0                     0               0       0   \n",
       "1                     0               0       0   \n",
       "2                     0               0       0   \n",
       "3                     0               0       0   \n",
       "4                     0               0       0   \n",
       "\n",
       "   Chests of drawers & drawer units  ...  Storage combination  \\\n",
       "0                                 0  ...                    0   \n",
       "1                                 0  ...                    0   \n",
       "2                                 0  ...                    0   \n",
       "3                                 0  ...                    0   \n",
       "4                                 0  ...                    0   \n",
       "\n",
       "   Storage combination w glass doors  Storage combination with doors  \\\n",
       "0                                  0                               0   \n",
       "1                                  0                               0   \n",
       "2                                  0                               0   \n",
       "3                                  0                               0   \n",
       "4                                  0                               0   \n",
       "\n",
       "   Storage unit with smart lock  TV bench  TV storage combination  \\\n",
       "0                             0         0                       0   \n",
       "1                             0         0                       0   \n",
       "2                             0         0                       0   \n",
       "3                             0         0                       0   \n",
       "4                             0         0                       0   \n",
       "\n",
       "   TV storage combination/glass doors  Wall-mounted cabinet combination  \\\n",
       "0                                   0                                 0   \n",
       "1                                   0                                 0   \n",
       "2                                   0                                 0   \n",
       "3                                   0                                 0   \n",
       "4                                   0                                 0   \n",
       "\n",
       "   Wardrobe  Wardrobe combination  \n",
       "0         0                     0  \n",
       "1         0                     0  \n",
       "2         0                     0  \n",
       "3         0                     0  \n",
       "4         0                     0  \n",
       "\n",
       "[5 rows x 55 columns]"
      ]
     },
     "execution_count": 56,
     "metadata": {},
     "output_type": "execute_result"
    }
   ],
   "source": [
    "x.head()"
   ]
  },
  {
   "cell_type": "code",
   "execution_count": 57,
   "id": "cfed46f0",
   "metadata": {},
   "outputs": [
    {
     "data": {
      "text/plain": [
       "0     69\n",
       "1    225\n",
       "2    345\n",
       "3    129\n",
       "4    129\n",
       "Name: price, dtype: int32"
      ]
     },
     "execution_count": 57,
     "metadata": {},
     "output_type": "execute_result"
    }
   ],
   "source": [
    "y.head()"
   ]
  },
  {
   "cell_type": "code",
   "execution_count": 58,
   "id": "8115abea",
   "metadata": {},
   "outputs": [],
   "source": [
    "from sklearn.model_selection import train_test_split\n",
    "\n",
    "X_train,X_test,y_train,y_test=train_test_split(x,y,test_size=0.33,random_state=10)"
   ]
  },
  {
   "cell_type": "code",
   "execution_count": 59,
   "id": "8b035c51",
   "metadata": {},
   "outputs": [
    {
     "data": {
      "text/plain": [
       "((1262, 55), (1262,), (623, 55), (623,))"
      ]
     },
     "execution_count": 59,
     "metadata": {},
     "output_type": "execute_result"
    }
   ],
   "source": [
    "X_train.shape,y_train.shape,X_test.shape,y_test.shape"
   ]
  },
  {
   "cell_type": "code",
   "execution_count": 60,
   "id": "6039ae09",
   "metadata": {},
   "outputs": [],
   "source": [
    "from sklearn.linear_model import LinearRegression"
   ]
  },
  {
   "cell_type": "code",
   "execution_count": 61,
   "id": "95fdec89",
   "metadata": {},
   "outputs": [],
   "source": [
    "regression=LinearRegression()"
   ]
  },
  {
   "cell_type": "code",
   "execution_count": 62,
   "id": "0ada64e6",
   "metadata": {},
   "outputs": [
    {
     "data": {
      "text/plain": [
       "LinearRegression()"
      ]
     },
     "execution_count": 62,
     "metadata": {},
     "output_type": "execute_result"
    }
   ],
   "source": [
    "regression.fit(X_train,y_train)"
   ]
  },
  {
   "cell_type": "code",
   "execution_count": 63,
   "id": "9f885ca9",
   "metadata": {},
   "outputs": [
    {
     "data": {
      "text/plain": [
       "(array([ 1.29975840e+01,  2.26640558e+00,  9.22768245e+00, -8.43925779e+12,\n",
       "        -8.43925779e+12, -8.43925779e+12, -8.43925779e+12, -8.43925779e+12,\n",
       "        -8.43925779e+12, -8.43925779e+12, -8.43925779e+12, -8.43925779e+12,\n",
       "        -8.43925779e+12, -8.43925779e+12, -8.43925779e+12, -8.43925779e+12,\n",
       "        -8.43925779e+12, -8.43925779e+12, -8.43925779e+12, -8.43925779e+12,\n",
       "        -1.88261963e+02,  6.13437500e+01,  7.41631226e+02,  4.06789551e+02,\n",
       "        -5.35351562e+00,  2.32808228e+02,  4.60498047e+00,  2.41691406e+02,\n",
       "         1.58462402e+02,  1.06766724e+02, -7.32340088e+01, -4.66406250e+01,\n",
       "        -1.78247192e+02, -3.65154053e+02,  1.47854004e+01, -2.05339417e+02,\n",
       "        -4.72893921e+02, -1.77609375e+02,  1.80123291e+03,  2.81837146e+03,\n",
       "        -2.07093628e+02, -8.77482300e+01,  8.91684570e+01,  6.94453125e+01,\n",
       "        -1.00178467e+02, -3.80732422e+01,  6.41343628e+02,  3.59021759e+02,\n",
       "         8.23053467e+02, -1.86397461e+02, -4.94165161e+02,  2.97993652e+02,\n",
       "        -3.41469727e+01,  5.67933105e+02,  8.36468140e+02]),\n",
       " 8439257787787.506)"
      ]
     },
     "execution_count": 63,
     "metadata": {},
     "output_type": "execute_result"
    }
   ],
   "source": [
    "regression.coef_ ,  regression.intercept_"
   ]
  },
  {
   "cell_type": "code",
   "execution_count": 64,
   "id": "d76b31e2",
   "metadata": {},
   "outputs": [],
   "source": [
    "y_pred_test=regression.predict(X_test)"
   ]
  },
  {
   "cell_type": "code",
   "execution_count": 65,
   "id": "e03b928d",
   "metadata": {},
   "outputs": [
    {
     "name": "stdout",
     "output_type": "stream",
     "text": [
      "0.801994234850496\n"
     ]
    }
   ],
   "source": [
    "## R square and Adjusted R square\n",
    "from sklearn.metrics import r2_score\n",
    "score=r2_score(y_test,y_pred_test)\n",
    "print(score)"
   ]
  },
  {
   "cell_type": "code",
   "execution_count": 66,
   "id": "c8098b8a",
   "metadata": {
    "scrolled": true
   },
   "outputs": [
    {
     "data": {
      "text/plain": [
       "array([0.7722186 , 0.79697707, 0.76814164, 0.78157141, 0.79225607])"
      ]
     },
     "execution_count": 66,
     "metadata": {},
     "output_type": "execute_result"
    }
   ],
   "source": [
    "# Using shufflesplit we can check our model with different combinations of data\n",
    "from sklearn.model_selection import ShuffleSplit\n",
    "from sklearn.model_selection import cross_val_score\n",
    "\n",
    "cv = ShuffleSplit(n_splits=5, test_size=0.2, random_state=0)\n",
    "\n",
    "cross_val_score(LinearRegression(),x ,y, cv=cv)"
   ]
  },
  {
   "cell_type": "raw",
   "id": "43f87516",
   "metadata": {},
   "source": [
    "Ridge(L2 regularization) and Lasso's(L1 regularization) regression are a powerful technique for regularizing linear regression models and preventing overfitting. They both add a penalty term to the cost function, but with different approaches. Ridge regression shrinks the coefficients towards zero, while Lasso regression encourages some of them to be exactly zero."
   ]
  },
  {
   "cell_type": "markdown",
   "id": "7c15e47c",
   "metadata": {},
   "source": [
    "### Lasso Regression Model "
   ]
  },
  {
   "cell_type": "code",
   "execution_count": 67,
   "id": "6b7adf6a",
   "metadata": {},
   "outputs": [
    {
     "name": "stdout",
     "output_type": "stream",
     "text": [
      "Mean absolute error 435.08166230104814\n",
      "R2 Score 0.8029488583727389\n"
     ]
    }
   ],
   "source": [
    "from sklearn.linear_model import Lasso\n",
    "from sklearn.metrics import mean_absolute_error\n",
    "\n",
    "lasso=Lasso()\n",
    "lasso.fit(X_train,y_train)\n",
    "y_pred=lasso.predict(X_test)\n",
    "mae=mean_absolute_error(y_test,y_pred)\n",
    "score=r2_score(y_test,y_pred)\n",
    "print(\"Mean absolute error\", mae)\n",
    "print(\"R2 Score\", score)"
   ]
  },
  {
   "cell_type": "markdown",
   "id": "e32c08d9",
   "metadata": {},
   "source": [
    "### Ridge Regression Model"
   ]
  },
  {
   "cell_type": "code",
   "execution_count": 68,
   "id": "9192711b",
   "metadata": {},
   "outputs": [
    {
     "name": "stdout",
     "output_type": "stream",
     "text": [
      "Mean absolute error 438.0425603590976\n",
      "R2 Score 0.8033471426501126\n"
     ]
    }
   ],
   "source": [
    "from sklearn.linear_model import Ridge\n",
    "\n",
    "ridge=Ridge()\n",
    "ridge.fit(X_train,y_train)\n",
    "y_pred=ridge.predict(X_test)\n",
    "mae=mean_absolute_error(y_test,y_pred)\n",
    "score=r2_score(y_test,y_pred)\n",
    "print(\"Mean absolute error\", mae)\n",
    "print(\"R2 Score\", score)"
   ]
  },
  {
   "cell_type": "markdown",
   "id": "580f52d4",
   "metadata": {},
   "source": [
    "### ElasticNet Regression"
   ]
  },
  {
   "cell_type": "code",
   "execution_count": 69,
   "id": "80992c7f",
   "metadata": {},
   "outputs": [
    {
     "name": "stdout",
     "output_type": "stream",
     "text": [
      "Mean absolute error 503.3520316822397\n",
      "R2 Score 0.7513032440368295\n"
     ]
    }
   ],
   "source": [
    "from sklearn.linear_model import ElasticNet\n",
    "\n",
    "elastic=ElasticNet()\n",
    "elastic.fit(X_train,y_train)\n",
    "y_pred=elastic.predict(X_test)\n",
    "mae=mean_absolute_error(y_test,y_pred)\n",
    "score=r2_score(y_test,y_pred)\n",
    "print(\"Mean absolute error\", mae)\n",
    "print(\"R2 Score\", score)"
   ]
  },
  {
   "cell_type": "raw",
   "id": "96577ad2",
   "metadata": {},
   "source": [
    "From above methods we can conclude that Linear Regression provides predicted prices with an accuracy of 80%"
   ]
  },
  {
   "cell_type": "markdown",
   "id": "b3259d7b",
   "metadata": {},
   "source": [
    "### Let's check how other models can perform"
   ]
  },
  {
   "cell_type": "markdown",
   "id": "f534f6c8",
   "metadata": {},
   "source": [
    "##### Support Vector Regression(SVR)"
   ]
  },
  {
   "cell_type": "raw",
   "id": "89806e6f",
   "metadata": {},
   "source": [
    "Support Vector Regression (SVR) is a regression algorithm that extends Support Vector Machines (SVM) to predict continuous values. It finds a hyperplane that fits the training data, aiming to minimize margin violations. SVR maps the data to a higher-dimensional space using kernel functions. Key components include support vectors, epsilon (tube width), and the C parameter (trade-off between margin and error). SVR can handle nonlinear relationships between features and the target variable. Proper hyperparameter tuning is important for optimal performance."
   ]
  },
  {
   "cell_type": "code",
   "execution_count": 70,
   "id": "1d7f9bb7",
   "metadata": {},
   "outputs": [],
   "source": [
    "from sklearn.svm import SVR"
   ]
  },
  {
   "cell_type": "code",
   "execution_count": 71,
   "id": "26a47372",
   "metadata": {},
   "outputs": [],
   "source": [
    "svr=SVR(kernel='linear')"
   ]
  },
  {
   "cell_type": "code",
   "execution_count": 72,
   "id": "ee6e8e85",
   "metadata": {},
   "outputs": [
    {
     "data": {
      "text/plain": [
       "SVR(kernel='linear')"
      ]
     },
     "execution_count": 72,
     "metadata": {},
     "output_type": "execute_result"
    }
   ],
   "source": [
    "svr.fit(X_train,y_train)"
   ]
  },
  {
   "cell_type": "code",
   "execution_count": 73,
   "id": "3c8f120b",
   "metadata": {},
   "outputs": [
    {
     "data": {
      "text/plain": [
       "array([[ 13.62028091,   2.66888538,   8.31266611,   3.        ,\n",
       "         12.        , -50.84908553,  39.        ,   3.        ,\n",
       "        -13.27825695,  18.20271808, -12.        ,  -9.        ,\n",
       "        -17.        ,  -5.        ,   6.        ,  28.46432281,\n",
       "        -18.53969841,   8.        ,   0.        ,   8.        ,\n",
       "          0.        ,   8.        ,   5.        ,   6.        ,\n",
       "         -1.        ,   9.        ,   2.        ,   8.        ,\n",
       "          0.12359677,   5.        ,   2.        ,  -9.        ,\n",
       "        -11.        ,  -5.        ,   4.20271808,  -2.        ,\n",
       "         -5.        ,  -2.        ,  18.        ,   6.        ,\n",
       "         -6.        ,  -9.        ,   7.        ,   2.        ,\n",
       "        -17.        ,  -1.        ,   9.        ,  17.        ,\n",
       "          9.        , -18.53969841,  -6.        ,   2.        ,\n",
       "         -4.8656354 ,  12.        ,  12.        ]])"
      ]
     },
     "execution_count": 73,
     "metadata": {},
     "output_type": "execute_result"
    }
   ],
   "source": [
    "svr.coef_"
   ]
  },
  {
   "cell_type": "code",
   "execution_count": 74,
   "id": "0c58789a",
   "metadata": {},
   "outputs": [],
   "source": [
    "## Prediction\n",
    "y_pred=svr.predict(X_test)"
   ]
  },
  {
   "cell_type": "code",
   "execution_count": 75,
   "id": "80cafdd4",
   "metadata": {},
   "outputs": [
    {
     "data": {
      "text/plain": [
       "array([ 1.67181423e+03,  3.46509173e+02,  1.54640301e+03,  1.20099011e+03,\n",
       "        2.63399508e+02,  2.48427100e+02,  6.78748528e+02,  3.04019591e+03,\n",
       "        2.63137209e+03,  5.91352909e+02,  9.18913524e+02,  1.62998832e+03,\n",
       "        1.64092763e+03,  1.31368334e+03,  3.44485913e+02,  1.07300462e+03,\n",
       "       -9.27002860e+02,  1.02010150e+03,  2.08319524e+02,  3.30419158e+02,\n",
       "        2.16765962e+03,  2.34973294e+03,  9.41889978e+02,  7.38546981e+02,\n",
       "       -2.28042923e+02, -2.70806472e+02,  1.28593922e+03, -5.10251161e+02,\n",
       "        2.30528325e+02,  1.72339931e+03,  2.13205794e+02,  1.66598897e+01,\n",
       "        5.19197005e+02,  2.27030155e+03,  3.02918780e+01, -1.42350046e+01,\n",
       "        1.14538813e+03,  7.79176791e+02,  1.80512099e+03,  4.58752558e+02,\n",
       "        1.20232587e+03,  8.44772147e+02,  2.56488676e+03,  2.22075430e+03,\n",
       "        9.64910378e+02,  3.11792864e+02,  2.67815165e+02,  2.16392319e+01,\n",
       "        2.22075430e+03,  6.97881475e+02,  2.41733399e+03,  1.46780811e+03,\n",
       "        1.34520258e+03,  2.52923446e+03,  2.55466592e+03,  2.94888692e+03,\n",
       "        1.80512099e+03,  1.05345988e+03,  1.20230411e+03,  3.01084937e+03,\n",
       "        2.40714959e+02,  1.98026809e+03,  2.79677765e+02,  2.86865357e+02,\n",
       "        1.72339931e+03,  4.00955246e+03,  1.50547481e+03,  1.19552928e+03,\n",
       "        7.73668548e+02,  1.53307095e+02, -1.02203550e+02, -6.68554543e+01,\n",
       "        5.30700673e+02,  6.25634699e+02,  1.13692789e+03,  3.68099510e+02,\n",
       "        5.84742693e+02,  1.11485497e+03,  2.30014031e+03,  2.79812025e+03,\n",
       "        2.97514607e+02,  2.15660260e+03,  1.72339931e+03,  1.21416515e+03,\n",
       "        2.38019410e+03,  6.61826235e+02,  9.44160195e+02,  7.00052577e+02,\n",
       "        3.18346919e+02,  1.72339931e+03,  1.22440571e+03,  9.45653457e+01,\n",
       "        2.62764646e+03,  6.62845048e+02,  1.06383661e+03,  1.77900955e+03,\n",
       "        1.29917147e+03,  2.22184710e+03,  1.63512702e+03,  2.26604769e+03,\n",
       "        1.92110812e+03, -1.75081909e+02,  2.80588427e+03,  1.38336775e+02,\n",
       "        2.24546408e+03,  1.37302339e+03,  2.11332705e+02,  7.37885380e+02,\n",
       "        9.80628270e+02,  1.45106913e+03,  2.03994934e+02,  3.03165695e+03,\n",
       "        7.62712468e+02,  2.26679006e+03,  2.87552128e+03,  5.10890598e+02,\n",
       "        6.11977128e+02,  1.19484450e+03,  1.42959543e+02,  1.31425480e+03,\n",
       "        1.20405466e+03,  6.74825744e+02,  5.37883082e+02,  1.58052338e+02,\n",
       "        5.64541802e+02,  1.42375313e+03,  1.82271941e+01,  1.33125480e+03,\n",
       "        1.10405552e+03,  4.41821949e+02,  1.44162262e+02,  5.46600659e+03,\n",
       "        2.55666107e+02,  7.01356950e+02,  9.85999738e+01,  1.60528826e+03,\n",
       "        2.97029922e+03,  2.19520619e+03,  3.37406879e+02,  2.53795960e+03,\n",
       "        4.61721608e+03,  4.09381955e+02,  2.58464082e+02,  2.22075430e+03,\n",
       "        3.24717910e+02,  5.32659051e+02,  3.93986710e+03,  2.46666107e+02,\n",
       "       -1.74065795e+01,  1.02394771e+03,  7.00323553e+02,  5.71436658e+02,\n",
       "        1.38270461e+03,  2.76303338e+03,  1.80512099e+03,  1.23644995e+03,\n",
       "        9.44708443e+02, -8.79911870e+01,  2.12158342e+03,  2.06814256e+03,\n",
       "        5.47019643e+02,  1.75547507e+03,  2.11427124e+03,  9.85656752e+02,\n",
       "        1.36758919e+02,  3.31062571e+02,  6.83174398e+02, -1.97066871e+01,\n",
       "        2.93479833e+02,  2.40421406e+03,  1.50935472e+03,  1.57383453e+02,\n",
       "        4.85572563e+02,  1.34520258e+03,  5.14236350e+02,  2.53966480e+03,\n",
       "        1.73959543e+02,  6.73634699e+02,  9.86002624e+02,  1.69127266e+03,\n",
       "        1.56372493e+03,  1.63956366e+02,  1.17638756e+03,  3.16479335e+02,\n",
       "        7.40587034e+01,  1.05311598e+03,  6.90845960e+02,  1.66403210e+03,\n",
       "        1.01261821e+03,  2.13903261e+03,  3.27432515e+03,  5.71313062e+02,\n",
       "        1.04957422e+03,  2.12805451e+02,  1.23121829e+03,  3.54479230e+02,\n",
       "        4.75037975e+03,  1.34282336e+03,  1.71171000e+03,  3.59592532e+03,\n",
       "        5.01660673e+02,  1.09994935e+03,  1.24907914e+02,  9.76801465e+02,\n",
       "        6.82765714e+02,  4.81117322e+02,  5.95017981e+02,  2.12158342e+03,\n",
       "        4.37968281e+02,  6.80374312e+02,  1.80512099e+03,  1.16850853e+03,\n",
       "        1.43378108e+03,  1.13992789e+03,  1.51647029e+02,  8.69419502e+02,\n",
       "        5.00183356e+02,  5.56391835e+02,  5.33630082e+02,  6.72547115e+02,\n",
       "        8.48041794e+02, -9.05102822e+01,  9.35153677e+02,  9.44160195e+02,\n",
       "        2.25032574e+03,  5.95422780e+02,  1.26565853e+03,  7.70023794e+01,\n",
       "        5.90235201e+02,  3.45511354e+02,  9.77716078e+02,  5.57230727e+02,\n",
       "        1.80512099e+03,  8.12968378e+01,  8.44772147e+02,  6.53176634e+02,\n",
       "        1.16856681e+03,  8.48514091e+02,  1.29488192e+03,  8.44772147e+02,\n",
       "        1.92110812e+03,  1.22516061e+03,  1.54181243e+03,  1.45544363e+03,\n",
       "        1.80512099e+03,  6.10332227e+02,  9.39103986e+02,  3.74823919e+03,\n",
       "        3.11698303e+02,  5.63830170e+02,  1.47964514e+03,  5.26926548e+02,\n",
       "        9.97354291e+02,  1.43076915e+03,  5.59541802e+02,  4.78494541e+01,\n",
       "        2.66617104e+02, -8.69483793e+01,  3.46008260e+02,  4.02601679e+03,\n",
       "        2.12333354e+03,  6.88698357e+01,  1.09525914e+03,  1.58661710e+02,\n",
       "        8.12468251e+02,  4.28173454e+03,  1.50547481e+03,  9.04356790e+02,\n",
       "        2.87472337e+03,  1.10405552e+03,  3.11843819e+02,  1.70629752e+03,\n",
       "        1.09525914e+03, -1.21510282e+02,  1.34850218e+02,  5.58561102e+01,\n",
       "        5.57230727e+02,  1.47140983e+03,  3.26867853e+03,  1.24191223e+03,\n",
       "        3.24717910e+02,  8.54211591e+02,  1.45751015e+02,  9.31942185e+02,\n",
       "        2.38019410e+03,  2.25032574e+03,  9.91855519e+02,  1.35665590e+03,\n",
       "        2.47765678e+02,  6.37567671e+02,  1.18595969e+03,  7.03849208e+02,\n",
       "       -3.75474950e+02,  1.54171603e+03,  2.03994934e+02,  7.62832032e+02,\n",
       "        1.66598897e+01,  6.77921254e+01,  2.09915736e+03,  6.19977128e+02,\n",
       "        2.34058449e+03,  1.92110812e+03,  5.18233808e+01,  2.18091055e+03,\n",
       "        8.57148311e+02, -1.68774905e+02,  4.46968281e+02,  1.49433800e+03,\n",
       "        2.57728557e+02,  3.32246716e+02,  2.81657570e+02,  2.25108066e+03,\n",
       "        2.26249113e+03,  1.14538813e+03,  1.90070618e+00,  2.01588125e+02,\n",
       "        6.10938316e+02,  3.87107613e+03,  7.37652316e+02, -6.02595255e+01,\n",
       "        4.35393836e+02,  9.37881941e+02,  3.04593519e+02, -9.53759176e+01,\n",
       "        9.83371622e+02,  2.21599764e+03,  1.60394271e+03,  1.29311124e+03,\n",
       "        5.69845536e+02,  2.13903261e+03,  1.96265753e+02,  1.81056441e+03,\n",
       "        1.04128423e+03,  5.62017981e+02,  2.58715701e+02,  1.80512099e+03,\n",
       "        4.76684407e+03,  5.51182123e+02,  1.80512099e+03,  2.09805451e+02,\n",
       "        1.89138232e+03,  2.01123438e+02,  2.15995897e+03,  1.83938643e+03,\n",
       "        1.80512099e+03,  6.85486021e+02,  5.16717333e+02,  1.81772355e+02,\n",
       "        7.50783307e+02,  1.37302339e+03,  7.55583866e+02,  9.65380328e+02,\n",
       "        1.75380194e+03,  4.68951473e+02,  4.25161077e+02,  4.11619231e+02,\n",
       "        2.22075430e+03,  8.51524997e+02,  1.10265256e+03,  5.46600659e+03,\n",
       "        1.66405033e+02,  1.06233477e+03,  1.92110812e+03,  1.22365853e+03,\n",
       "        2.85825904e+03,  2.29519852e+02,  1.64960543e+03,  3.31062571e+02,\n",
       "        3.84377767e+02,  1.29131931e+03,  2.12894520e+02,  2.46125493e+03,\n",
       "        2.27436035e+03,  3.25186217e+02,  1.19152629e+02,  1.24044081e+03,\n",
       "        1.74405033e+02,  5.83787334e+02,  5.95014446e+02,  3.68908624e+02,\n",
       "        1.38479646e+03,  5.13342366e+02,  4.00367534e+02,  4.93825523e+02,\n",
       "        1.41838646e+03,  2.15995897e+03,  6.00977743e+02, -1.61461628e+02,\n",
       "        1.31128475e+02,  2.91210226e+02,  1.16104949e+03,  1.92616352e+03,\n",
       "        4.25928295e+02,  2.22075430e+03,  4.95604907e+02,  8.92965484e+02,\n",
       "        1.87620892e+03,  8.57148311e+02,  1.24178569e+03,  2.49714959e+02,\n",
       "        3.59763132e+02,  1.23265853e+03,  8.31832318e+02,  3.58098732e+03,\n",
       "        1.73959543e+02,  2.76303338e+03,  2.91210226e+02,  3.74522249e+02,\n",
       "        2.58976650e+03,  2.00788315e+03,  2.10489315e+03,  6.62648774e+02,\n",
       "        2.32148843e+02,  1.22038556e+03,  1.46609783e+03,  5.92486514e+02,\n",
       "        1.80512099e+03,  7.89658678e+02,  1.42635109e+03,  9.17952380e+02,\n",
       "        7.98721706e+02,  1.56998682e+02,  5.56391835e+02,  2.64656119e+03,\n",
       "        1.80512099e+03,  2.55666107e+02,  1.42635109e+03, -9.89392420e+01,\n",
       "        6.37607085e+02,  1.92422150e+03,  8.44314340e+02,  1.32629903e+03,\n",
       "        1.12092007e+03,  4.93221134e+02,  1.81728003e+02,  3.94946578e+02,\n",
       "       -7.21640932e+02,  2.95514607e+02,  1.23632635e+03,  1.48840983e+03,\n",
       "        4.42859637e+02,  8.30738580e+02,  1.59412011e+03,  4.45875449e+02,\n",
       "        8.92965484e+02,  1.50547481e+03,  2.58226684e+02,  3.55451238e+01,\n",
       "        6.21818660e+02,  1.01587549e+03,  7.22583866e+02,  1.57749477e+03,\n",
       "        6.69748563e+02,  1.58052338e+02,  2.73993159e+03,  2.16582119e+03,\n",
       "        1.69127266e+03,  3.11856622e+02,  1.30909361e+02,  1.43776554e+03,\n",
       "        1.77405033e+02,  1.32973734e+03,  2.43923382e+02,  2.61904917e+03,\n",
       "        8.75303445e+02,  2.22075430e+03,  1.12653656e+03,  5.68129470e+02,\n",
       "        6.78748528e+02,  4.82025511e+02,  4.21809818e+01,  5.25352620e+02,\n",
       "        2.26179006e+03,  6.15931994e+02,  1.67560804e+03,  2.55466592e+03,\n",
       "       -5.48581735e+01,  9.64125698e+01,  2.85192744e+03,  1.58912011e+03,\n",
       "        2.01093031e+02,  8.15494833e+02,  1.14538813e+03,  1.51725891e+03,\n",
       "       -1.18417643e+01,  2.56567146e+03,  9.26708443e+02,  8.74300579e+02,\n",
       "        1.20064337e+03,  7.42645748e+02,  2.65080899e+03,  2.59507802e+02,\n",
       "       -1.77840273e+02,  4.78494541e+01,  2.24935930e+02,  1.07887883e+03,\n",
       "        2.09717359e+02,  2.05471012e+03,  4.04949150e+02,  2.47071169e+03,\n",
       "        5.08259324e+02,  1.39645201e+03,  3.66197191e+03,  1.79767602e+03,\n",
       "        8.50853407e+02,  3.18369030e+02,  8.53915809e+02,  6.98044168e+02,\n",
       "        9.58812668e+02,  4.65173908e+02,  5.65988967e+00,  1.56897469e+03,\n",
       "       -6.44238797e+01,  2.47501941e+03,  1.44929713e+03,  5.24686793e+02,\n",
       "        1.34021470e+03,  3.28096759e+02,  3.25221420e+03,  2.71714959e+02,\n",
       "        1.26202773e+03,  7.44903690e+01,  3.04593519e+02, -1.42350046e+01,\n",
       "        1.16266265e+03,  1.81250961e+03,  1.45162935e+03,  4.06968281e+02,\n",
       "       -3.16562177e+02,  3.22886083e+03,  7.43025719e+02,  2.54569878e+03,\n",
       "        1.89202145e+03,  1.21435501e+03, -9.23500463e+00,  4.80552471e+03,\n",
       "        3.26393541e+03,  5.49019643e+02,  1.41971002e+03,  1.99752065e+02,\n",
       "        2.13903261e+03,  8.07421248e+02,  5.80023848e+02,  2.70288029e+03,\n",
       "        3.48008260e+02,  1.82271941e+01, -1.45530885e+02,  2.83546312e+03,\n",
       "        6.86652521e+02,  2.24532574e+03,  2.32148843e+02,  1.25301870e+03,\n",
       "        4.37317387e+03,  1.94152937e+03,  6.82756531e+02,  2.68222486e+03,\n",
       "        2.13903261e+03,  2.16227355e+03,  1.18294118e+03,  1.75221667e+03,\n",
       "        1.92110812e+03,  8.39732437e+02,  5.03541746e+02,  2.11689452e+02,\n",
       "        1.33959543e+02,  1.39595992e+02,  1.80512099e+03,  8.02730344e+02,\n",
       "        1.32611602e+03,  4.83696634e+02,  1.01064453e+03,  1.21817493e+03,\n",
       "        1.80512099e+03,  7.17052577e+02,  7.53668548e+02,  1.51409363e+03,\n",
       "       -1.15586239e+02,  1.10712411e+03,  3.32340828e+02,  4.41821949e+02,\n",
       "       -1.80359368e+02,  1.83938643e+03,  5.68129470e+02,  7.62712468e+02,\n",
       "        6.84160712e+02,  5.33799254e+02,  3.31974732e+02,  2.49245967e+02,\n",
       "        1.50547481e+03,  1.94262784e+03,  1.35864617e+03,  2.95715147e+02,\n",
       "        1.21435501e+03, -1.75081909e+02,  1.48568754e+03,  9.93927512e+02,\n",
       "        5.28965050e+02,  2.41338224e+02,  1.77405033e+02,  4.45096276e+03,\n",
       "        2.22075430e+03,  2.26179006e+03,  1.80512099e+03,  7.24425060e+01,\n",
       "        1.16901258e+02,  1.58765490e+02,  2.82991016e+03,  5.80494132e+02,\n",
       "        2.03994934e+02,  3.74823919e+03,  8.11832318e+02, -1.65538063e+02,\n",
       "        3.69117965e+03,  3.40181332e+02, -9.23500463e+00,  6.91285022e+02,\n",
       "        1.62142949e+03,  8.68136727e+02,  1.26874733e+02,  5.99435540e+02,\n",
       "        5.81266645e+02,  2.62171805e+03,  7.46103813e+02])"
      ]
     },
     "execution_count": 75,
     "metadata": {},
     "output_type": "execute_result"
    }
   ],
   "source": [
    "y_pred"
   ]
  },
  {
   "cell_type": "code",
   "execution_count": 76,
   "id": "0d2c0314",
   "metadata": {},
   "outputs": [
    {
     "name": "stdout",
     "output_type": "stream",
     "text": [
      "0.6961275528780972\n"
     ]
    }
   ],
   "source": [
    "score=r2_score(y_test,y_pred)\n",
    "print(score)"
   ]
  },
  {
   "cell_type": "markdown",
   "id": "233cc0f3",
   "metadata": {},
   "source": [
    "### Hyperparametere Tuning With SVR"
   ]
  },
  {
   "cell_type": "code",
   "execution_count": 77,
   "id": "ce7a4078",
   "metadata": {},
   "outputs": [],
   "source": [
    "from sklearn.model_selection import GridSearchCV\n",
    " \n",
    "# defining parameter range\n",
    "param_grid = {'C': [0.1, 1, 10, 100],\n",
    "              'gamma': [1, 0.1, 0.01, 0.001, 0.0001],\n",
    "              'kernel':['linear'],\n",
    "              'epsilon':[0.1,0.2,0.3]\n",
    "              }"
   ]
  },
  {
   "cell_type": "code",
   "execution_count": 78,
   "id": "07c2e4c8",
   "metadata": {},
   "outputs": [],
   "source": [
    "grid=GridSearchCV(SVR(),param_grid=param_grid,refit=True,cv=5,verbose=3)"
   ]
  },
  {
   "cell_type": "code",
   "execution_count": 79,
   "id": "afadea69",
   "metadata": {},
   "outputs": [
    {
     "name": "stdout",
     "output_type": "stream",
     "text": [
      "Fitting 5 folds for each of 60 candidates, totalling 300 fits\n",
      "[CV 1/5] END C=0.1, epsilon=0.1, gamma=1, kernel=linear;, score=0.702 total time=   0.0s\n",
      "[CV 2/5] END C=0.1, epsilon=0.1, gamma=1, kernel=linear;, score=0.661 total time=   0.0s\n",
      "[CV 3/5] END C=0.1, epsilon=0.1, gamma=1, kernel=linear;, score=0.633 total time=   0.0s\n",
      "[CV 4/5] END C=0.1, epsilon=0.1, gamma=1, kernel=linear;, score=0.671 total time=   0.0s\n",
      "[CV 5/5] END C=0.1, epsilon=0.1, gamma=1, kernel=linear;, score=0.625 total time=   0.0s\n",
      "[CV 1/5] END C=0.1, epsilon=0.1, gamma=0.1, kernel=linear;, score=0.702 total time=   0.0s\n",
      "[CV 2/5] END C=0.1, epsilon=0.1, gamma=0.1, kernel=linear;, score=0.661 total time=   0.0s\n",
      "[CV 3/5] END C=0.1, epsilon=0.1, gamma=0.1, kernel=linear;, score=0.633 total time=   0.0s\n",
      "[CV 4/5] END C=0.1, epsilon=0.1, gamma=0.1, kernel=linear;, score=0.671 total time=   0.0s\n",
      "[CV 5/5] END C=0.1, epsilon=0.1, gamma=0.1, kernel=linear;, score=0.625 total time=   0.0s\n",
      "[CV 1/5] END C=0.1, epsilon=0.1, gamma=0.01, kernel=linear;, score=0.702 total time=   0.0s\n",
      "[CV 2/5] END C=0.1, epsilon=0.1, gamma=0.01, kernel=linear;, score=0.661 total time=   0.0s\n",
      "[CV 3/5] END C=0.1, epsilon=0.1, gamma=0.01, kernel=linear;, score=0.633 total time=   0.0s\n",
      "[CV 4/5] END C=0.1, epsilon=0.1, gamma=0.01, kernel=linear;, score=0.671 total time=   0.0s\n",
      "[CV 5/5] END C=0.1, epsilon=0.1, gamma=0.01, kernel=linear;, score=0.625 total time=   0.0s\n",
      "[CV 1/5] END C=0.1, epsilon=0.1, gamma=0.001, kernel=linear;, score=0.702 total time=   0.0s\n",
      "[CV 2/5] END C=0.1, epsilon=0.1, gamma=0.001, kernel=linear;, score=0.661 total time=   0.0s\n",
      "[CV 3/5] END C=0.1, epsilon=0.1, gamma=0.001, kernel=linear;, score=0.633 total time=   0.0s\n",
      "[CV 4/5] END C=0.1, epsilon=0.1, gamma=0.001, kernel=linear;, score=0.671 total time=   0.0s\n",
      "[CV 5/5] END C=0.1, epsilon=0.1, gamma=0.001, kernel=linear;, score=0.625 total time=   0.0s\n",
      "[CV 1/5] END C=0.1, epsilon=0.1, gamma=0.0001, kernel=linear;, score=0.702 total time=   0.0s\n",
      "[CV 2/5] END C=0.1, epsilon=0.1, gamma=0.0001, kernel=linear;, score=0.661 total time=   0.0s\n",
      "[CV 3/5] END C=0.1, epsilon=0.1, gamma=0.0001, kernel=linear;, score=0.633 total time=   0.0s\n",
      "[CV 4/5] END C=0.1, epsilon=0.1, gamma=0.0001, kernel=linear;, score=0.671 total time=   0.0s\n",
      "[CV 5/5] END C=0.1, epsilon=0.1, gamma=0.0001, kernel=linear;, score=0.625 total time=   0.0s\n",
      "[CV 1/5] END C=0.1, epsilon=0.2, gamma=1, kernel=linear;, score=0.702 total time=   0.0s\n",
      "[CV 2/5] END C=0.1, epsilon=0.2, gamma=1, kernel=linear;, score=0.661 total time=   0.0s\n",
      "[CV 3/5] END C=0.1, epsilon=0.2, gamma=1, kernel=linear;, score=0.633 total time=   0.0s\n",
      "[CV 4/5] END C=0.1, epsilon=0.2, gamma=1, kernel=linear;, score=0.671 total time=   0.0s\n",
      "[CV 5/5] END C=0.1, epsilon=0.2, gamma=1, kernel=linear;, score=0.625 total time=   0.0s\n",
      "[CV 1/5] END C=0.1, epsilon=0.2, gamma=0.1, kernel=linear;, score=0.702 total time=   0.0s\n",
      "[CV 2/5] END C=0.1, epsilon=0.2, gamma=0.1, kernel=linear;, score=0.661 total time=   0.0s\n",
      "[CV 3/5] END C=0.1, epsilon=0.2, gamma=0.1, kernel=linear;, score=0.633 total time=   0.0s\n",
      "[CV 4/5] END C=0.1, epsilon=0.2, gamma=0.1, kernel=linear;, score=0.671 total time=   0.0s\n",
      "[CV 5/5] END C=0.1, epsilon=0.2, gamma=0.1, kernel=linear;, score=0.625 total time=   0.0s\n",
      "[CV 1/5] END C=0.1, epsilon=0.2, gamma=0.01, kernel=linear;, score=0.702 total time=   0.0s\n",
      "[CV 2/5] END C=0.1, epsilon=0.2, gamma=0.01, kernel=linear;, score=0.661 total time=   0.0s\n",
      "[CV 3/5] END C=0.1, epsilon=0.2, gamma=0.01, kernel=linear;, score=0.633 total time=   0.0s\n",
      "[CV 4/5] END C=0.1, epsilon=0.2, gamma=0.01, kernel=linear;, score=0.671 total time=   0.0s\n",
      "[CV 5/5] END C=0.1, epsilon=0.2, gamma=0.01, kernel=linear;, score=0.625 total time=   0.0s\n",
      "[CV 1/5] END C=0.1, epsilon=0.2, gamma=0.001, kernel=linear;, score=0.702 total time=   0.0s\n",
      "[CV 2/5] END C=0.1, epsilon=0.2, gamma=0.001, kernel=linear;, score=0.661 total time=   0.0s\n",
      "[CV 3/5] END C=0.1, epsilon=0.2, gamma=0.001, kernel=linear;, score=0.633 total time=   0.0s\n",
      "[CV 4/5] END C=0.1, epsilon=0.2, gamma=0.001, kernel=linear;, score=0.671 total time=   0.0s\n",
      "[CV 5/5] END C=0.1, epsilon=0.2, gamma=0.001, kernel=linear;, score=0.625 total time=   0.0s\n",
      "[CV 1/5] END C=0.1, epsilon=0.2, gamma=0.0001, kernel=linear;, score=0.702 total time=   0.0s\n",
      "[CV 2/5] END C=0.1, epsilon=0.2, gamma=0.0001, kernel=linear;, score=0.661 total time=   0.0s\n",
      "[CV 3/5] END C=0.1, epsilon=0.2, gamma=0.0001, kernel=linear;, score=0.633 total time=   0.0s\n",
      "[CV 4/5] END C=0.1, epsilon=0.2, gamma=0.0001, kernel=linear;, score=0.671 total time=   0.0s\n",
      "[CV 5/5] END C=0.1, epsilon=0.2, gamma=0.0001, kernel=linear;, score=0.625 total time=   0.0s\n",
      "[CV 1/5] END C=0.1, epsilon=0.3, gamma=1, kernel=linear;, score=0.702 total time=   0.0s\n",
      "[CV 2/5] END C=0.1, epsilon=0.3, gamma=1, kernel=linear;, score=0.661 total time=   0.0s\n",
      "[CV 3/5] END C=0.1, epsilon=0.3, gamma=1, kernel=linear;, score=0.633 total time=   0.0s\n",
      "[CV 4/5] END C=0.1, epsilon=0.3, gamma=1, kernel=linear;, score=0.671 total time=   0.0s\n",
      "[CV 5/5] END C=0.1, epsilon=0.3, gamma=1, kernel=linear;, score=0.625 total time=   0.0s\n",
      "[CV 1/5] END C=0.1, epsilon=0.3, gamma=0.1, kernel=linear;, score=0.702 total time=   0.0s\n",
      "[CV 2/5] END C=0.1, epsilon=0.3, gamma=0.1, kernel=linear;, score=0.661 total time=   0.0s\n",
      "[CV 3/5] END C=0.1, epsilon=0.3, gamma=0.1, kernel=linear;, score=0.633 total time=   0.0s\n",
      "[CV 4/5] END C=0.1, epsilon=0.3, gamma=0.1, kernel=linear;, score=0.671 total time=   0.0s\n",
      "[CV 5/5] END C=0.1, epsilon=0.3, gamma=0.1, kernel=linear;, score=0.625 total time=   0.0s\n",
      "[CV 1/5] END C=0.1, epsilon=0.3, gamma=0.01, kernel=linear;, score=0.702 total time=   0.0s\n",
      "[CV 2/5] END C=0.1, epsilon=0.3, gamma=0.01, kernel=linear;, score=0.661 total time=   0.0s\n",
      "[CV 3/5] END C=0.1, epsilon=0.3, gamma=0.01, kernel=linear;, score=0.633 total time=   0.0s\n",
      "[CV 4/5] END C=0.1, epsilon=0.3, gamma=0.01, kernel=linear;, score=0.671 total time=   0.0s\n",
      "[CV 5/5] END C=0.1, epsilon=0.3, gamma=0.01, kernel=linear;, score=0.625 total time=   0.0s\n",
      "[CV 1/5] END C=0.1, epsilon=0.3, gamma=0.001, kernel=linear;, score=0.702 total time=   0.0s\n",
      "[CV 2/5] END C=0.1, epsilon=0.3, gamma=0.001, kernel=linear;, score=0.661 total time=   0.0s\n",
      "[CV 3/5] END C=0.1, epsilon=0.3, gamma=0.001, kernel=linear;, score=0.633 total time=   0.0s\n",
      "[CV 4/5] END C=0.1, epsilon=0.3, gamma=0.001, kernel=linear;, score=0.671 total time=   0.0s\n",
      "[CV 5/5] END C=0.1, epsilon=0.3, gamma=0.001, kernel=linear;, score=0.625 total time=   0.0s\n",
      "[CV 1/5] END C=0.1, epsilon=0.3, gamma=0.0001, kernel=linear;, score=0.702 total time=   0.0s\n",
      "[CV 2/5] END C=0.1, epsilon=0.3, gamma=0.0001, kernel=linear;, score=0.661 total time=   0.0s\n",
      "[CV 3/5] END C=0.1, epsilon=0.3, gamma=0.0001, kernel=linear;, score=0.633 total time=   0.0s\n",
      "[CV 4/5] END C=0.1, epsilon=0.3, gamma=0.0001, kernel=linear;, score=0.671 total time=   0.0s\n",
      "[CV 5/5] END C=0.1, epsilon=0.3, gamma=0.0001, kernel=linear;, score=0.625 total time=   0.0s\n",
      "[CV 1/5] END C=1, epsilon=0.1, gamma=1, kernel=linear;, score=0.706 total time=   0.1s\n",
      "[CV 2/5] END C=1, epsilon=0.1, gamma=1, kernel=linear;, score=0.662 total time=   0.0s\n",
      "[CV 3/5] END C=1, epsilon=0.1, gamma=1, kernel=linear;, score=0.637 total time=   0.0s\n",
      "[CV 4/5] END C=1, epsilon=0.1, gamma=1, kernel=linear;, score=0.676 total time=   0.0s\n",
      "[CV 5/5] END C=1, epsilon=0.1, gamma=1, kernel=linear;, score=0.631 total time=   0.1s\n",
      "[CV 1/5] END C=1, epsilon=0.1, gamma=0.1, kernel=linear;, score=0.706 total time=   0.0s\n",
      "[CV 2/5] END C=1, epsilon=0.1, gamma=0.1, kernel=linear;, score=0.662 total time=   0.0s\n",
      "[CV 3/5] END C=1, epsilon=0.1, gamma=0.1, kernel=linear;, score=0.637 total time=   0.0s\n",
      "[CV 4/5] END C=1, epsilon=0.1, gamma=0.1, kernel=linear;, score=0.676 total time=   0.1s\n",
      "[CV 5/5] END C=1, epsilon=0.1, gamma=0.1, kernel=linear;, score=0.631 total time=   0.1s\n",
      "[CV 1/5] END C=1, epsilon=0.1, gamma=0.01, kernel=linear;, score=0.706 total time=   0.0s\n",
      "[CV 2/5] END C=1, epsilon=0.1, gamma=0.01, kernel=linear;, score=0.662 total time=   0.0s\n",
      "[CV 3/5] END C=1, epsilon=0.1, gamma=0.01, kernel=linear;, score=0.637 total time=   0.0s\n",
      "[CV 4/5] END C=1, epsilon=0.1, gamma=0.01, kernel=linear;, score=0.676 total time=   0.0s\n",
      "[CV 5/5] END C=1, epsilon=0.1, gamma=0.01, kernel=linear;, score=0.631 total time=   0.1s\n",
      "[CV 1/5] END C=1, epsilon=0.1, gamma=0.001, kernel=linear;, score=0.706 total time=   0.0s\n"
     ]
    },
    {
     "name": "stdout",
     "output_type": "stream",
     "text": [
      "[CV 2/5] END C=1, epsilon=0.1, gamma=0.001, kernel=linear;, score=0.662 total time=   0.0s\n",
      "[CV 3/5] END C=1, epsilon=0.1, gamma=0.001, kernel=linear;, score=0.637 total time=   0.0s\n",
      "[CV 4/5] END C=1, epsilon=0.1, gamma=0.001, kernel=linear;, score=0.676 total time=   0.0s\n",
      "[CV 5/5] END C=1, epsilon=0.1, gamma=0.001, kernel=linear;, score=0.631 total time=   0.1s\n",
      "[CV 1/5] END C=1, epsilon=0.1, gamma=0.0001, kernel=linear;, score=0.706 total time=   0.0s\n",
      "[CV 2/5] END C=1, epsilon=0.1, gamma=0.0001, kernel=linear;, score=0.662 total time=   0.1s\n",
      "[CV 3/5] END C=1, epsilon=0.1, gamma=0.0001, kernel=linear;, score=0.637 total time=   0.0s\n",
      "[CV 4/5] END C=1, epsilon=0.1, gamma=0.0001, kernel=linear;, score=0.676 total time=   0.0s\n",
      "[CV 5/5] END C=1, epsilon=0.1, gamma=0.0001, kernel=linear;, score=0.631 total time=   0.1s\n",
      "[CV 1/5] END C=1, epsilon=0.2, gamma=1, kernel=linear;, score=0.706 total time=   0.0s\n",
      "[CV 2/5] END C=1, epsilon=0.2, gamma=1, kernel=linear;, score=0.662 total time=   0.0s\n",
      "[CV 3/5] END C=1, epsilon=0.2, gamma=1, kernel=linear;, score=0.637 total time=   0.0s\n",
      "[CV 4/5] END C=1, epsilon=0.2, gamma=1, kernel=linear;, score=0.676 total time=   0.0s\n",
      "[CV 5/5] END C=1, epsilon=0.2, gamma=1, kernel=linear;, score=0.631 total time=   0.1s\n",
      "[CV 1/5] END C=1, epsilon=0.2, gamma=0.1, kernel=linear;, score=0.706 total time=   0.0s\n",
      "[CV 2/5] END C=1, epsilon=0.2, gamma=0.1, kernel=linear;, score=0.662 total time=   0.0s\n",
      "[CV 3/5] END C=1, epsilon=0.2, gamma=0.1, kernel=linear;, score=0.637 total time=   0.0s\n",
      "[CV 4/5] END C=1, epsilon=0.2, gamma=0.1, kernel=linear;, score=0.676 total time=   0.0s\n",
      "[CV 5/5] END C=1, epsilon=0.2, gamma=0.1, kernel=linear;, score=0.631 total time=   0.0s\n",
      "[CV 1/5] END C=1, epsilon=0.2, gamma=0.01, kernel=linear;, score=0.706 total time=   0.1s\n",
      "[CV 2/5] END C=1, epsilon=0.2, gamma=0.01, kernel=linear;, score=0.662 total time=   0.0s\n",
      "[CV 3/5] END C=1, epsilon=0.2, gamma=0.01, kernel=linear;, score=0.637 total time=   0.1s\n",
      "[CV 4/5] END C=1, epsilon=0.2, gamma=0.01, kernel=linear;, score=0.676 total time=   0.1s\n",
      "[CV 5/5] END C=1, epsilon=0.2, gamma=0.01, kernel=linear;, score=0.631 total time=   0.0s\n",
      "[CV 1/5] END C=1, epsilon=0.2, gamma=0.001, kernel=linear;, score=0.706 total time=   0.0s\n",
      "[CV 2/5] END C=1, epsilon=0.2, gamma=0.001, kernel=linear;, score=0.662 total time=   0.0s\n",
      "[CV 3/5] END C=1, epsilon=0.2, gamma=0.001, kernel=linear;, score=0.637 total time=   0.0s\n",
      "[CV 4/5] END C=1, epsilon=0.2, gamma=0.001, kernel=linear;, score=0.676 total time=   0.0s\n",
      "[CV 5/5] END C=1, epsilon=0.2, gamma=0.001, kernel=linear;, score=0.631 total time=   0.0s\n",
      "[CV 1/5] END C=1, epsilon=0.2, gamma=0.0001, kernel=linear;, score=0.706 total time=   0.0s\n",
      "[CV 2/5] END C=1, epsilon=0.2, gamma=0.0001, kernel=linear;, score=0.662 total time=   0.0s\n",
      "[CV 3/5] END C=1, epsilon=0.2, gamma=0.0001, kernel=linear;, score=0.637 total time=   0.0s\n",
      "[CV 4/5] END C=1, epsilon=0.2, gamma=0.0001, kernel=linear;, score=0.676 total time=   0.0s\n",
      "[CV 5/5] END C=1, epsilon=0.2, gamma=0.0001, kernel=linear;, score=0.631 total time=   0.0s\n",
      "[CV 1/5] END C=1, epsilon=0.3, gamma=1, kernel=linear;, score=0.706 total time=   0.0s\n",
      "[CV 2/5] END C=1, epsilon=0.3, gamma=1, kernel=linear;, score=0.662 total time=   0.1s\n",
      "[CV 3/5] END C=1, epsilon=0.3, gamma=1, kernel=linear;, score=0.637 total time=   0.0s\n",
      "[CV 4/5] END C=1, epsilon=0.3, gamma=1, kernel=linear;, score=0.676 total time=   0.1s\n",
      "[CV 5/5] END C=1, epsilon=0.3, gamma=1, kernel=linear;, score=0.631 total time=   0.1s\n",
      "[CV 1/5] END C=1, epsilon=0.3, gamma=0.1, kernel=linear;, score=0.706 total time=   0.0s\n",
      "[CV 2/5] END C=1, epsilon=0.3, gamma=0.1, kernel=linear;, score=0.662 total time=   0.1s\n",
      "[CV 3/5] END C=1, epsilon=0.3, gamma=0.1, kernel=linear;, score=0.637 total time=   0.0s\n",
      "[CV 4/5] END C=1, epsilon=0.3, gamma=0.1, kernel=linear;, score=0.676 total time=   0.0s\n",
      "[CV 5/5] END C=1, epsilon=0.3, gamma=0.1, kernel=linear;, score=0.631 total time=   0.0s\n",
      "[CV 1/5] END C=1, epsilon=0.3, gamma=0.01, kernel=linear;, score=0.706 total time=   0.0s\n",
      "[CV 2/5] END C=1, epsilon=0.3, gamma=0.01, kernel=linear;, score=0.662 total time=   0.0s\n",
      "[CV 3/5] END C=1, epsilon=0.3, gamma=0.01, kernel=linear;, score=0.637 total time=   0.0s\n",
      "[CV 4/5] END C=1, epsilon=0.3, gamma=0.01, kernel=linear;, score=0.676 total time=   0.0s\n",
      "[CV 5/5] END C=1, epsilon=0.3, gamma=0.01, kernel=linear;, score=0.631 total time=   0.0s\n",
      "[CV 1/5] END C=1, epsilon=0.3, gamma=0.001, kernel=linear;, score=0.706 total time=   0.0s\n",
      "[CV 2/5] END C=1, epsilon=0.3, gamma=0.001, kernel=linear;, score=0.662 total time=   0.0s\n",
      "[CV 3/5] END C=1, epsilon=0.3, gamma=0.001, kernel=linear;, score=0.637 total time=   0.0s\n",
      "[CV 4/5] END C=1, epsilon=0.3, gamma=0.001, kernel=linear;, score=0.676 total time=   0.1s\n",
      "[CV 5/5] END C=1, epsilon=0.3, gamma=0.001, kernel=linear;, score=0.631 total time=   0.0s\n",
      "[CV 1/5] END C=1, epsilon=0.3, gamma=0.0001, kernel=linear;, score=0.706 total time=   0.1s\n",
      "[CV 2/5] END C=1, epsilon=0.3, gamma=0.0001, kernel=linear;, score=0.662 total time=   0.0s\n",
      "[CV 3/5] END C=1, epsilon=0.3, gamma=0.0001, kernel=linear;, score=0.637 total time=   0.0s\n",
      "[CV 4/5] END C=1, epsilon=0.3, gamma=0.0001, kernel=linear;, score=0.676 total time=   0.1s\n",
      "[CV 5/5] END C=1, epsilon=0.3, gamma=0.0001, kernel=linear;, score=0.631 total time=   0.1s\n",
      "[CV 1/5] END C=10, epsilon=0.1, gamma=1, kernel=linear;, score=0.722 total time=   0.4s\n",
      "[CV 2/5] END C=10, epsilon=0.1, gamma=1, kernel=linear;, score=0.676 total time=   0.4s\n",
      "[CV 3/5] END C=10, epsilon=0.1, gamma=1, kernel=linear;, score=0.647 total time=   0.5s\n",
      "[CV 4/5] END C=10, epsilon=0.1, gamma=1, kernel=linear;, score=0.702 total time=   0.5s\n",
      "[CV 5/5] END C=10, epsilon=0.1, gamma=1, kernel=linear;, score=0.652 total time=   0.6s\n",
      "[CV 1/5] END C=10, epsilon=0.1, gamma=0.1, kernel=linear;, score=0.722 total time=   0.6s\n",
      "[CV 2/5] END C=10, epsilon=0.1, gamma=0.1, kernel=linear;, score=0.676 total time=   0.4s\n",
      "[CV 3/5] END C=10, epsilon=0.1, gamma=0.1, kernel=linear;, score=0.647 total time=   0.5s\n",
      "[CV 4/5] END C=10, epsilon=0.1, gamma=0.1, kernel=linear;, score=0.702 total time=   0.4s\n",
      "[CV 5/5] END C=10, epsilon=0.1, gamma=0.1, kernel=linear;, score=0.652 total time=   0.6s\n",
      "[CV 1/5] END C=10, epsilon=0.1, gamma=0.01, kernel=linear;, score=0.722 total time=   0.4s\n",
      "[CV 2/5] END C=10, epsilon=0.1, gamma=0.01, kernel=linear;, score=0.676 total time=   0.4s\n",
      "[CV 3/5] END C=10, epsilon=0.1, gamma=0.01, kernel=linear;, score=0.647 total time=   0.5s\n",
      "[CV 4/5] END C=10, epsilon=0.1, gamma=0.01, kernel=linear;, score=0.702 total time=   0.5s\n",
      "[CV 5/5] END C=10, epsilon=0.1, gamma=0.01, kernel=linear;, score=0.652 total time=   0.5s\n",
      "[CV 1/5] END C=10, epsilon=0.1, gamma=0.001, kernel=linear;, score=0.722 total time=   0.4s\n",
      "[CV 2/5] END C=10, epsilon=0.1, gamma=0.001, kernel=linear;, score=0.676 total time=   0.3s\n",
      "[CV 3/5] END C=10, epsilon=0.1, gamma=0.001, kernel=linear;, score=0.647 total time=   0.5s\n",
      "[CV 4/5] END C=10, epsilon=0.1, gamma=0.001, kernel=linear;, score=0.702 total time=   0.5s\n",
      "[CV 5/5] END C=10, epsilon=0.1, gamma=0.001, kernel=linear;, score=0.652 total time=   0.6s\n",
      "[CV 1/5] END C=10, epsilon=0.1, gamma=0.0001, kernel=linear;, score=0.722 total time=   0.5s\n",
      "[CV 2/5] END C=10, epsilon=0.1, gamma=0.0001, kernel=linear;, score=0.676 total time=   0.3s\n",
      "[CV 3/5] END C=10, epsilon=0.1, gamma=0.0001, kernel=linear;, score=0.647 total time=   0.5s\n",
      "[CV 4/5] END C=10, epsilon=0.1, gamma=0.0001, kernel=linear;, score=0.702 total time=   0.5s\n",
      "[CV 5/5] END C=10, epsilon=0.1, gamma=0.0001, kernel=linear;, score=0.652 total time=   0.5s\n",
      "[CV 1/5] END C=10, epsilon=0.2, gamma=1, kernel=linear;, score=0.722 total time=   0.4s\n",
      "[CV 2/5] END C=10, epsilon=0.2, gamma=1, kernel=linear;, score=0.676 total time=   0.4s\n",
      "[CV 3/5] END C=10, epsilon=0.2, gamma=1, kernel=linear;, score=0.647 total time=   0.6s\n",
      "[CV 4/5] END C=10, epsilon=0.2, gamma=1, kernel=linear;, score=0.702 total time=   0.6s\n",
      "[CV 5/5] END C=10, epsilon=0.2, gamma=1, kernel=linear;, score=0.652 total time=   0.5s\n",
      "[CV 1/5] END C=10, epsilon=0.2, gamma=0.1, kernel=linear;, score=0.722 total time=   0.3s\n",
      "[CV 2/5] END C=10, epsilon=0.2, gamma=0.1, kernel=linear;, score=0.676 total time=   0.4s\n"
     ]
    },
    {
     "name": "stdout",
     "output_type": "stream",
     "text": [
      "[CV 3/5] END C=10, epsilon=0.2, gamma=0.1, kernel=linear;, score=0.647 total time=   0.6s\n",
      "[CV 4/5] END C=10, epsilon=0.2, gamma=0.1, kernel=linear;, score=0.702 total time=   0.5s\n",
      "[CV 5/5] END C=10, epsilon=0.2, gamma=0.1, kernel=linear;, score=0.652 total time=   0.6s\n",
      "[CV 1/5] END C=10, epsilon=0.2, gamma=0.01, kernel=linear;, score=0.722 total time=   0.4s\n",
      "[CV 2/5] END C=10, epsilon=0.2, gamma=0.01, kernel=linear;, score=0.676 total time=   0.4s\n",
      "[CV 3/5] END C=10, epsilon=0.2, gamma=0.01, kernel=linear;, score=0.647 total time=   0.6s\n",
      "[CV 4/5] END C=10, epsilon=0.2, gamma=0.01, kernel=linear;, score=0.702 total time=   0.5s\n",
      "[CV 5/5] END C=10, epsilon=0.2, gamma=0.01, kernel=linear;, score=0.652 total time=   0.5s\n",
      "[CV 1/5] END C=10, epsilon=0.2, gamma=0.001, kernel=linear;, score=0.722 total time=   0.4s\n",
      "[CV 2/5] END C=10, epsilon=0.2, gamma=0.001, kernel=linear;, score=0.676 total time=   0.4s\n",
      "[CV 3/5] END C=10, epsilon=0.2, gamma=0.001, kernel=linear;, score=0.647 total time=   0.6s\n",
      "[CV 4/5] END C=10, epsilon=0.2, gamma=0.001, kernel=linear;, score=0.702 total time=   0.6s\n",
      "[CV 5/5] END C=10, epsilon=0.2, gamma=0.001, kernel=linear;, score=0.652 total time=   0.5s\n",
      "[CV 1/5] END C=10, epsilon=0.2, gamma=0.0001, kernel=linear;, score=0.722 total time=   0.3s\n",
      "[CV 2/5] END C=10, epsilon=0.2, gamma=0.0001, kernel=linear;, score=0.676 total time=   0.4s\n",
      "[CV 3/5] END C=10, epsilon=0.2, gamma=0.0001, kernel=linear;, score=0.647 total time=   0.5s\n",
      "[CV 4/5] END C=10, epsilon=0.2, gamma=0.0001, kernel=linear;, score=0.702 total time=   0.5s\n",
      "[CV 5/5] END C=10, epsilon=0.2, gamma=0.0001, kernel=linear;, score=0.652 total time=   0.5s\n",
      "[CV 1/5] END C=10, epsilon=0.3, gamma=1, kernel=linear;, score=0.722 total time=   0.4s\n",
      "[CV 2/5] END C=10, epsilon=0.3, gamma=1, kernel=linear;, score=0.676 total time=   0.3s\n",
      "[CV 3/5] END C=10, epsilon=0.3, gamma=1, kernel=linear;, score=0.647 total time=   0.5s\n",
      "[CV 4/5] END C=10, epsilon=0.3, gamma=1, kernel=linear;, score=0.702 total time=   0.4s\n",
      "[CV 5/5] END C=10, epsilon=0.3, gamma=1, kernel=linear;, score=0.652 total time=   0.6s\n",
      "[CV 1/5] END C=10, epsilon=0.3, gamma=0.1, kernel=linear;, score=0.722 total time=   0.4s\n",
      "[CV 2/5] END C=10, epsilon=0.3, gamma=0.1, kernel=linear;, score=0.676 total time=   0.3s\n",
      "[CV 3/5] END C=10, epsilon=0.3, gamma=0.1, kernel=linear;, score=0.647 total time=   0.5s\n",
      "[CV 4/5] END C=10, epsilon=0.3, gamma=0.1, kernel=linear;, score=0.702 total time=   0.4s\n",
      "[CV 5/5] END C=10, epsilon=0.3, gamma=0.1, kernel=linear;, score=0.652 total time=   0.5s\n",
      "[CV 1/5] END C=10, epsilon=0.3, gamma=0.01, kernel=linear;, score=0.722 total time=   0.3s\n",
      "[CV 2/5] END C=10, epsilon=0.3, gamma=0.01, kernel=linear;, score=0.676 total time=   0.3s\n",
      "[CV 3/5] END C=10, epsilon=0.3, gamma=0.01, kernel=linear;, score=0.647 total time=   0.5s\n",
      "[CV 4/5] END C=10, epsilon=0.3, gamma=0.01, kernel=linear;, score=0.702 total time=   0.4s\n",
      "[CV 5/5] END C=10, epsilon=0.3, gamma=0.01, kernel=linear;, score=0.652 total time=   0.5s\n",
      "[CV 1/5] END C=10, epsilon=0.3, gamma=0.001, kernel=linear;, score=0.722 total time=   0.3s\n",
      "[CV 2/5] END C=10, epsilon=0.3, gamma=0.001, kernel=linear;, score=0.676 total time=   0.3s\n",
      "[CV 3/5] END C=10, epsilon=0.3, gamma=0.001, kernel=linear;, score=0.647 total time=   0.5s\n",
      "[CV 4/5] END C=10, epsilon=0.3, gamma=0.001, kernel=linear;, score=0.702 total time=   0.5s\n",
      "[CV 5/5] END C=10, epsilon=0.3, gamma=0.001, kernel=linear;, score=0.652 total time=   0.5s\n",
      "[CV 1/5] END C=10, epsilon=0.3, gamma=0.0001, kernel=linear;, score=0.722 total time=   0.3s\n",
      "[CV 2/5] END C=10, epsilon=0.3, gamma=0.0001, kernel=linear;, score=0.676 total time=   0.3s\n",
      "[CV 3/5] END C=10, epsilon=0.3, gamma=0.0001, kernel=linear;, score=0.647 total time=   0.5s\n",
      "[CV 4/5] END C=10, epsilon=0.3, gamma=0.0001, kernel=linear;, score=0.702 total time=   0.4s\n",
      "[CV 5/5] END C=10, epsilon=0.3, gamma=0.0001, kernel=linear;, score=0.652 total time=   0.6s\n",
      "[CV 1/5] END C=100, epsilon=0.1, gamma=1, kernel=linear;, score=0.758 total time=   7.2s\n",
      "[CV 2/5] END C=100, epsilon=0.1, gamma=1, kernel=linear;, score=0.713 total time=  17.3s\n",
      "[CV 3/5] END C=100, epsilon=0.1, gamma=1, kernel=linear;, score=0.680 total time=   5.9s\n",
      "[CV 4/5] END C=100, epsilon=0.1, gamma=1, kernel=linear;, score=0.761 total time=   6.1s\n",
      "[CV 5/5] END C=100, epsilon=0.1, gamma=1, kernel=linear;, score=0.716 total time=   7.8s\n",
      "[CV 1/5] END C=100, epsilon=0.1, gamma=0.1, kernel=linear;, score=0.758 total time=   6.7s\n",
      "[CV 2/5] END C=100, epsilon=0.1, gamma=0.1, kernel=linear;, score=0.713 total time=  17.4s\n",
      "[CV 3/5] END C=100, epsilon=0.1, gamma=0.1, kernel=linear;, score=0.680 total time=   5.9s\n",
      "[CV 4/5] END C=100, epsilon=0.1, gamma=0.1, kernel=linear;, score=0.761 total time=   6.3s\n",
      "[CV 5/5] END C=100, epsilon=0.1, gamma=0.1, kernel=linear;, score=0.716 total time=   8.3s\n",
      "[CV 1/5] END C=100, epsilon=0.1, gamma=0.01, kernel=linear;, score=0.758 total time=   7.2s\n",
      "[CV 2/5] END C=100, epsilon=0.1, gamma=0.01, kernel=linear;, score=0.713 total time=  16.6s\n",
      "[CV 3/5] END C=100, epsilon=0.1, gamma=0.01, kernel=linear;, score=0.680 total time=   6.1s\n",
      "[CV 4/5] END C=100, epsilon=0.1, gamma=0.01, kernel=linear;, score=0.761 total time=   6.4s\n",
      "[CV 5/5] END C=100, epsilon=0.1, gamma=0.01, kernel=linear;, score=0.716 total time=   8.5s\n",
      "[CV 1/5] END C=100, epsilon=0.1, gamma=0.001, kernel=linear;, score=0.758 total time=   7.4s\n",
      "[CV 2/5] END C=100, epsilon=0.1, gamma=0.001, kernel=linear;, score=0.713 total time=  18.2s\n",
      "[CV 3/5] END C=100, epsilon=0.1, gamma=0.001, kernel=linear;, score=0.680 total time=   5.6s\n",
      "[CV 4/5] END C=100, epsilon=0.1, gamma=0.001, kernel=linear;, score=0.761 total time=   6.2s\n",
      "[CV 5/5] END C=100, epsilon=0.1, gamma=0.001, kernel=linear;, score=0.716 total time=   8.5s\n",
      "[CV 1/5] END C=100, epsilon=0.1, gamma=0.0001, kernel=linear;, score=0.758 total time=   6.8s\n",
      "[CV 2/5] END C=100, epsilon=0.1, gamma=0.0001, kernel=linear;, score=0.713 total time=  17.7s\n",
      "[CV 3/5] END C=100, epsilon=0.1, gamma=0.0001, kernel=linear;, score=0.680 total time=   6.0s\n",
      "[CV 4/5] END C=100, epsilon=0.1, gamma=0.0001, kernel=linear;, score=0.761 total time=   6.4s\n",
      "[CV 5/5] END C=100, epsilon=0.1, gamma=0.0001, kernel=linear;, score=0.716 total time=   8.7s\n",
      "[CV 1/5] END C=100, epsilon=0.2, gamma=1, kernel=linear;, score=0.758 total time=   7.6s\n",
      "[CV 2/5] END C=100, epsilon=0.2, gamma=1, kernel=linear;, score=0.713 total time=  14.2s\n",
      "[CV 3/5] END C=100, epsilon=0.2, gamma=1, kernel=linear;, score=0.680 total time=   6.8s\n",
      "[CV 4/5] END C=100, epsilon=0.2, gamma=1, kernel=linear;, score=0.761 total time=   5.2s\n",
      "[CV 5/5] END C=100, epsilon=0.2, gamma=1, kernel=linear;, score=0.716 total time=   6.8s\n",
      "[CV 1/5] END C=100, epsilon=0.2, gamma=0.1, kernel=linear;, score=0.758 total time=   8.3s\n",
      "[CV 2/5] END C=100, epsilon=0.2, gamma=0.1, kernel=linear;, score=0.713 total time=  14.6s\n",
      "[CV 3/5] END C=100, epsilon=0.2, gamma=0.1, kernel=linear;, score=0.680 total time=   6.5s\n",
      "[CV 4/5] END C=100, epsilon=0.2, gamma=0.1, kernel=linear;, score=0.761 total time=   5.3s\n",
      "[CV 5/5] END C=100, epsilon=0.2, gamma=0.1, kernel=linear;, score=0.716 total time=   6.6s\n",
      "[CV 1/5] END C=100, epsilon=0.2, gamma=0.01, kernel=linear;, score=0.758 total time=   7.4s\n",
      "[CV 2/5] END C=100, epsilon=0.2, gamma=0.01, kernel=linear;, score=0.713 total time=  15.3s\n",
      "[CV 3/5] END C=100, epsilon=0.2, gamma=0.01, kernel=linear;, score=0.680 total time=   6.4s\n",
      "[CV 4/5] END C=100, epsilon=0.2, gamma=0.01, kernel=linear;, score=0.761 total time=   5.1s\n",
      "[CV 5/5] END C=100, epsilon=0.2, gamma=0.01, kernel=linear;, score=0.716 total time=   6.8s\n",
      "[CV 1/5] END C=100, epsilon=0.2, gamma=0.001, kernel=linear;, score=0.758 total time=   7.2s\n",
      "[CV 2/5] END C=100, epsilon=0.2, gamma=0.001, kernel=linear;, score=0.713 total time=  15.1s\n",
      "[CV 3/5] END C=100, epsilon=0.2, gamma=0.001, kernel=linear;, score=0.680 total time=   6.4s\n",
      "[CV 4/5] END C=100, epsilon=0.2, gamma=0.001, kernel=linear;, score=0.761 total time=   5.0s\n",
      "[CV 5/5] END C=100, epsilon=0.2, gamma=0.001, kernel=linear;, score=0.716 total time=   6.2s\n",
      "[CV 1/5] END C=100, epsilon=0.2, gamma=0.0001, kernel=linear;, score=0.758 total time=   7.1s\n",
      "[CV 2/5] END C=100, epsilon=0.2, gamma=0.0001, kernel=linear;, score=0.713 total time=  13.9s\n"
     ]
    },
    {
     "name": "stdout",
     "output_type": "stream",
     "text": [
      "[CV 3/5] END C=100, epsilon=0.2, gamma=0.0001, kernel=linear;, score=0.680 total time=   6.6s\n",
      "[CV 4/5] END C=100, epsilon=0.2, gamma=0.0001, kernel=linear;, score=0.761 total time=   4.9s\n",
      "[CV 5/5] END C=100, epsilon=0.2, gamma=0.0001, kernel=linear;, score=0.716 total time=   6.7s\n",
      "[CV 1/5] END C=100, epsilon=0.3, gamma=1, kernel=linear;, score=0.758 total time=   5.7s\n",
      "[CV 2/5] END C=100, epsilon=0.3, gamma=1, kernel=linear;, score=0.713 total time=  14.1s\n",
      "[CV 3/5] END C=100, epsilon=0.3, gamma=1, kernel=linear;, score=0.680 total time=   5.4s\n",
      "[CV 4/5] END C=100, epsilon=0.3, gamma=1, kernel=linear;, score=0.761 total time=   4.5s\n",
      "[CV 5/5] END C=100, epsilon=0.3, gamma=1, kernel=linear;, score=0.716 total time=   7.5s\n",
      "[CV 1/5] END C=100, epsilon=0.3, gamma=0.1, kernel=linear;, score=0.758 total time=   5.8s\n",
      "[CV 2/5] END C=100, epsilon=0.3, gamma=0.1, kernel=linear;, score=0.713 total time=  14.3s\n",
      "[CV 3/5] END C=100, epsilon=0.3, gamma=0.1, kernel=linear;, score=0.680 total time=   6.1s\n",
      "[CV 4/5] END C=100, epsilon=0.3, gamma=0.1, kernel=linear;, score=0.761 total time=   4.6s\n",
      "[CV 5/5] END C=100, epsilon=0.3, gamma=0.1, kernel=linear;, score=0.716 total time=   7.2s\n",
      "[CV 1/5] END C=100, epsilon=0.3, gamma=0.01, kernel=linear;, score=0.758 total time=   6.1s\n",
      "[CV 2/5] END C=100, epsilon=0.3, gamma=0.01, kernel=linear;, score=0.713 total time=  13.7s\n",
      "[CV 3/5] END C=100, epsilon=0.3, gamma=0.01, kernel=linear;, score=0.680 total time=   5.5s\n",
      "[CV 4/5] END C=100, epsilon=0.3, gamma=0.01, kernel=linear;, score=0.761 total time=   4.5s\n",
      "[CV 5/5] END C=100, epsilon=0.3, gamma=0.01, kernel=linear;, score=0.716 total time=   7.1s\n",
      "[CV 1/5] END C=100, epsilon=0.3, gamma=0.001, kernel=linear;, score=0.758 total time=   5.7s\n",
      "[CV 2/5] END C=100, epsilon=0.3, gamma=0.001, kernel=linear;, score=0.713 total time=  13.7s\n",
      "[CV 3/5] END C=100, epsilon=0.3, gamma=0.001, kernel=linear;, score=0.680 total time=   5.4s\n",
      "[CV 4/5] END C=100, epsilon=0.3, gamma=0.001, kernel=linear;, score=0.761 total time=   4.3s\n",
      "[CV 5/5] END C=100, epsilon=0.3, gamma=0.001, kernel=linear;, score=0.716 total time=   6.9s\n",
      "[CV 1/5] END C=100, epsilon=0.3, gamma=0.0001, kernel=linear;, score=0.758 total time=   5.7s\n",
      "[CV 2/5] END C=100, epsilon=0.3, gamma=0.0001, kernel=linear;, score=0.713 total time=  13.6s\n",
      "[CV 3/5] END C=100, epsilon=0.3, gamma=0.0001, kernel=linear;, score=0.680 total time=   5.6s\n",
      "[CV 4/5] END C=100, epsilon=0.3, gamma=0.0001, kernel=linear;, score=0.761 total time=   4.5s\n",
      "[CV 5/5] END C=100, epsilon=0.3, gamma=0.0001, kernel=linear;, score=0.716 total time=   7.2s\n"
     ]
    },
    {
     "data": {
      "text/plain": [
       "GridSearchCV(cv=5, estimator=SVR(),\n",
       "             param_grid={'C': [0.1, 1, 10, 100], 'epsilon': [0.1, 0.2, 0.3],\n",
       "                         'gamma': [1, 0.1, 0.01, 0.001, 0.0001],\n",
       "                         'kernel': ['linear']},\n",
       "             verbose=3)"
      ]
     },
     "execution_count": 79,
     "metadata": {},
     "output_type": "execute_result"
    }
   ],
   "source": [
    "grid.fit(X_train,y_train)"
   ]
  },
  {
   "cell_type": "code",
   "execution_count": 80,
   "id": "abb01f8a",
   "metadata": {},
   "outputs": [
    {
     "data": {
      "text/plain": [
       "{'C': 100, 'epsilon': 0.1, 'gamma': 1, 'kernel': 'linear'}"
      ]
     },
     "execution_count": 80,
     "metadata": {},
     "output_type": "execute_result"
    }
   ],
   "source": [
    "grid.best_params_"
   ]
  },
  {
   "cell_type": "code",
   "execution_count": 81,
   "id": "370006eb",
   "metadata": {},
   "outputs": [
    {
     "name": "stdout",
     "output_type": "stream",
     "text": [
      "0.7725030859879871\n"
     ]
    }
   ],
   "source": [
    "## Prediction\n",
    "y_pred=grid.predict(X_test)\n",
    "print(r2_score(y_test,y_pred4))"
   ]
  },
  {
   "cell_type": "raw",
   "id": "d960092b",
   "metadata": {},
   "source": [
    "From above methods we can conclude that Support vector Regression provides predicted prices with an accuracy of 77%"
   ]
  },
  {
   "cell_type": "markdown",
   "id": "04630d1e",
   "metadata": {},
   "source": [
    "### Random Forest Regression"
   ]
  },
  {
   "cell_type": "raw",
   "id": "68b616ce",
   "metadata": {},
   "source": [
    "Random Forest Regression is an ensemble learning algorithm that combines multiple decision trees to perform regression tasks. It is effective for handling both numerical and categorical features, capturing complex relationships, and handling outliers. It generates predictions by averaging the outputs of individual trees. Random Forest Regression is robust, requires minimal preprocessing, and provides feature importance rankings. Hyperparameter tuning is important for optimizing its performance."
   ]
  },
  {
   "cell_type": "code",
   "execution_count": 82,
   "id": "e91a104b",
   "metadata": {},
   "outputs": [],
   "source": [
    "# Create the RandomForestRegressor model\n",
    "from sklearn.ensemble import RandomForestRegressor\n",
    "\n",
    "rf_model = RandomForestRegressor(n_estimators=100, random_state=42)  # You can adjust the parameters as needed\n"
   ]
  },
  {
   "cell_type": "code",
   "execution_count": 83,
   "id": "4c985312",
   "metadata": {},
   "outputs": [
    {
     "data": {
      "text/plain": [
       "RandomForestRegressor(random_state=42)"
      ]
     },
     "execution_count": 83,
     "metadata": {},
     "output_type": "execute_result"
    }
   ],
   "source": [
    "rf_model.fit(X_train, y_train)"
   ]
  },
  {
   "cell_type": "code",
   "execution_count": 88,
   "id": "b0badd30",
   "metadata": {},
   "outputs": [],
   "source": [
    "# Predict Testing data\n",
    "y_test_pred = rf_model.predict(X_test)"
   ]
  },
  {
   "cell_type": "code",
   "execution_count": 90,
   "id": "680ae130",
   "metadata": {},
   "outputs": [],
   "source": [
    "from sklearn.metrics import accuracy_score"
   ]
  },
  {
   "cell_type": "code",
   "execution_count": 92,
   "id": "cccac58f",
   "metadata": {},
   "outputs": [
    {
     "name": "stdout",
     "output_type": "stream",
     "text": [
      "R2 Score: 0.8628414165548769\n"
     ]
    }
   ],
   "source": [
    "# Calculate the R2 score for the test data predictions\n",
    "\n",
    "r2_score = r2_score(y_test, y_test_pred)\n",
    "print(\"R2 Score:\", r2_score)"
   ]
  },
  {
   "cell_type": "markdown",
   "id": "6fc20619",
   "metadata": {},
   "source": [
    "### Hyperparametere Tuning With Random Forest Regression"
   ]
  },
  {
   "cell_type": "code",
   "execution_count": 94,
   "id": "7e7b9bf2",
   "metadata": {},
   "outputs": [],
   "source": [
    "from sklearn.model_selection import RandomizedSearchCV"
   ]
  },
  {
   "cell_type": "code",
   "execution_count": 96,
   "id": "ac3c2278",
   "metadata": {},
   "outputs": [],
   "source": [
    "params = {\n",
    "    'max_depth': [3, 5, 10, None],\n",
    "    'n_estimators': [100, 200, 300],\n",
    "    'criterion': ['mse', 'mae']\n",
    "}"
   ]
  },
  {
   "cell_type": "code",
   "execution_count": 97,
   "id": "d5d0e833",
   "metadata": {
    "scrolled": true
   },
   "outputs": [
    {
     "name": "stdout",
     "output_type": "stream",
     "text": [
      "Fitting 5 folds for each of 10 candidates, totalling 50 fits\n",
      "[CV 1/5] END criterion=mse, max_depth=10, n_estimators=300;, score=-319.575 total time=   0.8s\n",
      "[CV 2/5] END criterion=mse, max_depth=10, n_estimators=300;, score=-344.758 total time=   0.8s\n",
      "[CV 3/5] END criterion=mse, max_depth=10, n_estimators=300;, score=-351.320 total time=   0.9s\n",
      "[CV 4/5] END criterion=mse, max_depth=10, n_estimators=300;, score=-307.768 total time=   0.8s\n",
      "[CV 5/5] END criterion=mse, max_depth=10, n_estimators=300;, score=-310.226 total time=   0.8s\n",
      "[CV 1/5] END criterion=mae, max_depth=5, n_estimators=200;, score=-358.851 total time=  10.8s\n",
      "[CV 2/5] END criterion=mae, max_depth=5, n_estimators=200;, score=-398.240 total time=  11.0s\n",
      "[CV 3/5] END criterion=mae, max_depth=5, n_estimators=200;, score=-416.220 total time=  10.4s\n",
      "[CV 4/5] END criterion=mae, max_depth=5, n_estimators=200;, score=-347.336 total time=  10.4s\n",
      "[CV 5/5] END criterion=mae, max_depth=5, n_estimators=200;, score=-380.635 total time=  10.5s\n",
      "[CV 1/5] END criterion=mse, max_depth=3, n_estimators=100;, score=-474.088 total time=   0.1s\n",
      "[CV 2/5] END criterion=mse, max_depth=3, n_estimators=100;, score=-483.911 total time=   0.1s\n",
      "[CV 3/5] END criterion=mse, max_depth=3, n_estimators=100;, score=-507.179 total time=   0.0s\n",
      "[CV 4/5] END criterion=mse, max_depth=3, n_estimators=100;, score=-462.418 total time=   0.1s\n",
      "[CV 5/5] END criterion=mse, max_depth=3, n_estimators=100;, score=-478.186 total time=   0.1s\n",
      "[CV 1/5] END criterion=mae, max_depth=10, n_estimators=100;, score=-325.399 total time=   6.1s\n",
      "[CV 2/5] END criterion=mae, max_depth=10, n_estimators=100;, score=-341.410 total time=   5.9s\n",
      "[CV 3/5] END criterion=mae, max_depth=10, n_estimators=100;, score=-352.819 total time=   6.3s\n",
      "[CV 4/5] END criterion=mae, max_depth=10, n_estimators=100;, score=-300.818 total time=   6.6s\n",
      "[CV 5/5] END criterion=mae, max_depth=10, n_estimators=100;, score=-306.120 total time=   6.5s\n",
      "[CV 1/5] END criterion=mse, max_depth=5, n_estimators=100;, score=-381.825 total time=   0.1s\n",
      "[CV 2/5] END criterion=mse, max_depth=5, n_estimators=100;, score=-411.112 total time=   0.1s\n",
      "[CV 3/5] END criterion=mse, max_depth=5, n_estimators=100;, score=-430.403 total time=   0.1s\n",
      "[CV 4/5] END criterion=mse, max_depth=5, n_estimators=100;, score=-369.950 total time=   0.2s\n",
      "[CV 5/5] END criterion=mse, max_depth=5, n_estimators=100;, score=-382.378 total time=   0.2s\n",
      "[CV 1/5] END criterion=mae, max_depth=5, n_estimators=300;, score=-357.550 total time=  16.7s\n",
      "[CV 2/5] END criterion=mae, max_depth=5, n_estimators=300;, score=-398.421 total time=  16.0s\n",
      "[CV 3/5] END criterion=mae, max_depth=5, n_estimators=300;, score=-413.118 total time=  16.1s\n",
      "[CV 4/5] END criterion=mae, max_depth=5, n_estimators=300;, score=-346.759 total time=  15.2s\n",
      "[CV 5/5] END criterion=mae, max_depth=5, n_estimators=300;, score=-379.952 total time=  15.4s\n",
      "[CV 1/5] END criterion=mae, max_depth=10, n_estimators=300;, score=-320.257 total time=  18.6s\n",
      "[CV 2/5] END criterion=mae, max_depth=10, n_estimators=300;, score=-339.400 total time=  19.6s\n",
      "[CV 3/5] END criterion=mae, max_depth=10, n_estimators=300;, score=-347.713 total time=  19.1s\n",
      "[CV 4/5] END criterion=mae, max_depth=10, n_estimators=300;, score=-291.643 total time=  19.9s\n",
      "[CV 5/5] END criterion=mae, max_depth=10, n_estimators=300;, score=-306.427 total time=  19.8s\n",
      "[CV 1/5] END criterion=mae, max_depth=None, n_estimators=100;, score=-317.381 total time=   6.9s\n",
      "[CV 2/5] END criterion=mae, max_depth=None, n_estimators=100;, score=-327.334 total time=   6.9s\n",
      "[CV 3/5] END criterion=mae, max_depth=None, n_estimators=100;, score=-345.198 total time=   6.6s\n",
      "[CV 4/5] END criterion=mae, max_depth=None, n_estimators=100;, score=-279.190 total time=   6.9s\n",
      "[CV 5/5] END criterion=mae, max_depth=None, n_estimators=100;, score=-295.677 total time=   7.0s\n",
      "[CV 1/5] END criterion=mse, max_depth=None, n_estimators=200;, score=-306.706 total time=   0.7s\n",
      "[CV 2/5] END criterion=mse, max_depth=None, n_estimators=200;, score=-334.810 total time=   0.7s\n",
      "[CV 3/5] END criterion=mse, max_depth=None, n_estimators=200;, score=-341.428 total time=   0.6s\n",
      "[CV 4/5] END criterion=mse, max_depth=None, n_estimators=200;, score=-297.368 total time=   0.7s\n",
      "[CV 5/5] END criterion=mse, max_depth=None, n_estimators=200;, score=-301.763 total time=   0.6s\n",
      "[CV 1/5] END criterion=mae, max_depth=3, n_estimators=200;, score=-417.107 total time=   8.6s\n",
      "[CV 2/5] END criterion=mae, max_depth=3, n_estimators=200;, score=-478.200 total time=   9.0s\n",
      "[CV 3/5] END criterion=mae, max_depth=3, n_estimators=200;, score=-463.198 total time=   8.8s\n",
      "[CV 4/5] END criterion=mae, max_depth=3, n_estimators=200;, score=-429.720 total time=   8.8s\n",
      "[CV 5/5] END criterion=mae, max_depth=3, n_estimators=200;, score=-450.547 total time=   9.7s\n"
     ]
    },
    {
     "data": {
      "text/plain": [
       "RandomizedSearchCV(cv=5, estimator=RandomForestRegressor(random_state=42),\n",
       "                   param_distributions={'criterion': ['mse', 'mae'],\n",
       "                                        'max_depth': [3, 5, 10, None],\n",
       "                                        'n_estimators': [100, 200, 300]},\n",
       "                   scoring='neg_mean_absolute_error', verbose=3)"
      ]
     },
     "execution_count": 97,
     "metadata": {},
     "output_type": "execute_result"
    }
   ],
   "source": [
    "cv = RandomizedSearchCV(rf_model, param_distributions=params, scoring='neg_mean_absolute_error', cv=5, verbose=3)\n",
    "cv.fit(X_train, y_train)"
   ]
  },
  {
   "cell_type": "code",
   "execution_count": 98,
   "id": "06463ee3",
   "metadata": {},
   "outputs": [
    {
     "name": "stdout",
     "output_type": "stream",
     "text": [
      "Best Hyperparameters: {'n_estimators': 100, 'max_depth': None, 'criterion': 'mae'}\n"
     ]
    }
   ],
   "source": [
    "# Get the best model and its hyperparameters\n",
    "best_model = cv.best_estimator_\n",
    "best_params = cv.best_params_\n",
    "\n",
    "print(\"Best Hyperparameters:\", best_params)"
   ]
  },
  {
   "cell_type": "code",
   "execution_count": 103,
   "id": "524cbbcb",
   "metadata": {},
   "outputs": [],
   "source": [
    "# Make predictions on the test set\n",
    "y_test_pred = cv.predict(X_test)"
   ]
  },
  {
   "cell_type": "code",
   "execution_count": 104,
   "id": "4f3c2fae",
   "metadata": {},
   "outputs": [
    {
     "name": "stdout",
     "output_type": "stream",
     "text": [
      "R2 Score: 0.8738917631645874\n"
     ]
    }
   ],
   "source": [
    "# Calculate R-squared (R2) score\n",
    "r2 = r2_score(y_test, y_test_pred)\n",
    "print(\"R2 Score:\", r2)"
   ]
  },
  {
   "cell_type": "code",
   "execution_count": null,
   "id": "b66ff33f",
   "metadata": {},
   "outputs": [],
   "source": [
    "From above methods we can conclude that Random Forest Regression provides predicted prices with an accuracy of 87%"
   ]
  },
  {
   "cell_type": "markdown",
   "id": "cf9a2883",
   "metadata": {},
   "source": [
    "### Decision Tree Regression"
   ]
  },
  {
   "cell_type": "raw",
   "id": "43447f3f",
   "metadata": {},
   "source": [
    "Decision Tree Regression is a machine learning algorithm used for regression tasks. It builds a predictive model in the form of a decision tree, where each internal node represents a feature or attribute, and each leaf node represents a prediction. It splits the dataset based on feature values to create branches in the tree and makes predictions by averaging the target values within each leaf node. Decision Tree Regression is capable of handling both numerical and categorical data, capturing nonlinear relationships, and handling missing values. However, it can be prone to overfitting and may not generalize well to unseen data without proper regularization techniques."
   ]
  },
  {
   "cell_type": "code",
   "execution_count": 105,
   "id": "abc81284",
   "metadata": {},
   "outputs": [],
   "source": [
    "from sklearn.tree import DecisionTreeRegressor\n",
    "regressor=DecisionTreeRegressor()"
   ]
  },
  {
   "cell_type": "code",
   "execution_count": 106,
   "id": "32b2943c",
   "metadata": {},
   "outputs": [
    {
     "data": {
      "text/plain": [
       "DecisionTreeRegressor()"
      ]
     },
     "execution_count": 106,
     "metadata": {},
     "output_type": "execute_result"
    }
   ],
   "source": [
    "regressor.fit(X_train,y_train)"
   ]
  },
  {
   "cell_type": "code",
   "execution_count": 107,
   "id": "73715e57",
   "metadata": {},
   "outputs": [],
   "source": [
    "y_pred=regressor.predict(X_test)"
   ]
  },
  {
   "cell_type": "code",
   "execution_count": 108,
   "id": "885aee99",
   "metadata": {},
   "outputs": [
    {
     "data": {
      "text/plain": [
       "array([2016.        ,  195.        ,  870.        , 1820.        ,\n",
       "        275.        ,  180.        ,  444.        , 4935.        ,\n",
       "       2370.        , 1395.        ,  451.        , 1510.        ,\n",
       "       3986.        , 1140.        ,  345.        , 1895.        ,\n",
       "         45.        ,  350.        ,   85.        ,  417.5       ,\n",
       "       2792.        , 4270.        ,  575.        , 1260.        ,\n",
       "        125.        ,  267.        , 1588.        ,   50.        ,\n",
       "        145.        , 2695.83333333,   49.        ,  242.5       ,\n",
       "        556.        , 1315.        ,  150.        ,   59.        ,\n",
       "        461.5       , 1845.        , 2977.33333333,  395.        ,\n",
       "       1245.        , 2725.        , 1195.        , 3935.        ,\n",
       "        920.        ,  565.        ,   99.        ,  240.        ,\n",
       "       3430.        ,  428.        , 2740.        ,  399.        ,\n",
       "        830.        , 2236.        , 5345.        , 6125.        ,\n",
       "       2977.33333333,  745.        ,  990.        , 1796.        ,\n",
       "       1044.        , 1395.        ,  275.        ,  417.5       ,\n",
       "       2350.        , 7873.        , 1725.        , 1395.        ,\n",
       "        645.        ,  125.        ,   99.        ,  150.        ,\n",
       "       1095.        ,  170.        , 1220.        ,  345.        ,\n",
       "        476.66666667,  990.        ,  795.        , 5300.        ,\n",
       "        435.        ,  175.        , 2695.83333333,  695.        ,\n",
       "       3800.        ,  398.        ,  403.5       ,  530.        ,\n",
       "        215.        , 2695.83333333,  795.        ,   99.        ,\n",
       "       3875.        ,  425.        ,  729.        , 2040.        ,\n",
       "       1222.5       , 2775.        , 2295.        , 3680.        ,\n",
       "       2990.        ,   89.        , 3908.        ,  175.        ,\n",
       "       2795.        ,  726.66666667,  347.        , 1545.        ,\n",
       "        595.        ,  890.        ,  235.        , 3206.        ,\n",
       "       1495.        , 1195.        , 4260.        ,  320.        ,\n",
       "        385.        , 1845.        ,  939.        , 1390.        ,\n",
       "        695.        , 1248.        ,  420.        ,  220.        ,\n",
       "         49.        , 2040.        ,   99.        , 1400.        ,\n",
       "        751.66666667,  395.        ,  844.        , 8395.        ,\n",
       "        150.        , 1260.        ,   84.        ,  726.        ,\n",
       "       5250.        , 2412.        , 1155.        , 2792.        ,\n",
       "       6295.        ,  350.        ,  134.        , 3430.        ,\n",
       "        150.        ,  640.        , 4935.        ,  150.        ,\n",
       "        290.        ,  220.        ,  510.        ,  695.        ,\n",
       "        475.        , 5990.        , 2977.33333333, 1570.        ,\n",
       "       1590.        ,   50.        , 1395.        , 1290.        ,\n",
       "        730.        , 1620.        , 2534.        ,  910.        ,\n",
       "        195.        ,   49.        ,  170.        ,  395.        ,\n",
       "        275.        , 4270.        , 1260.        ,  220.        ,\n",
       "        495.33333333,  830.        , 1095.        , 2055.        ,\n",
       "        969.5       ,  375.        ,  995.        , 1620.        ,\n",
       "        726.        ,  195.        ,  995.        ,  305.        ,\n",
       "        395.        ,  995.        ,  375.        , 1620.        ,\n",
       "        825.        , 3035.        , 4070.        ,  495.33333333,\n",
       "       1620.        ,  195.        ,  910.        ,  345.        ,\n",
       "       7765.        , 1469.        , 1510.        , 3535.        ,\n",
       "        420.        ,  895.        ,  140.        , 1395.        ,\n",
       "        375.        ,  400.        ,  500.        , 1395.        ,\n",
       "       1294.        ,  620.        , 2977.33333333, 1195.        ,\n",
       "       2235.        , 1060.        ,  175.        ,  595.        ,\n",
       "        175.        ,  175.        ,  345.        ,  355.        ,\n",
       "        620.        ,  202.5       , 1295.        ,  403.5       ,\n",
       "       1845.        ,  420.        , 1900.        ,  345.        ,\n",
       "        350.        ,  417.5       ,  745.        ,  135.        ,\n",
       "       2977.33333333,   84.        , 2725.        ,  295.        ,\n",
       "       1075.        ,  645.        , 2100.        , 2725.        ,\n",
       "       2990.        , 1305.        ,  772.        , 1469.        ,\n",
       "       2255.        , 1150.        ,  795.        , 6160.        ,\n",
       "        149.        ,  575.        , 1425.        ,  260.        ,\n",
       "        915.        ,  890.        ,   49.        ,  115.        ,\n",
       "        129.        ,   59.        ,  415.        , 7873.        ,\n",
       "        795.        ,   75.        , 1000.        ,  275.        ,\n",
       "        345.        , 3805.        , 2040.        ,  565.        ,\n",
       "       5040.        ,  751.66666667,  399.        , 1381.        ,\n",
       "       1000.        ,   99.        ,   95.        ,  160.        ,\n",
       "        135.        ,  495.        , 2956.        , 1395.        ,\n",
       "        150.        , 1196.        ,  225.        ,  995.        ,\n",
       "       3800.        , 1845.        ,  476.        ,  461.5       ,\n",
       "        177.        , 1294.        ,  450.        ,  350.        ,\n",
       "        200.        , 2295.        ,  235.        ,  545.        ,\n",
       "        242.5       ,  235.        , 1838.        ,  475.        ,\n",
       "        795.        , 2990.        ,  595.        , 2600.        ,\n",
       "        485.66666667,   89.        , 1350.        ,  300.        ,\n",
       "         80.        ,  245.        ,  295.        , 2990.        ,\n",
       "       1090.        ,  461.5       ,   59.        ,  395.        ,\n",
       "        545.        , 5428.        ,  350.        ,   59.        ,\n",
       "        159.        ,  440.        ,  245.        ,  202.5       ,\n",
       "       1495.        , 3108.        ,  952.        , 1247.        ,\n",
       "        175.        , 3035.        ,  195.        , 1504.66666667,\n",
       "        434.        ,  500.        ,  345.        , 2977.33333333,\n",
       "       7765.        ,  135.        , 2977.33333333,  195.        ,\n",
       "       1145.        ,  245.        , 2034.        , 1719.        ,\n",
       "       2977.33333333,  295.        ,  145.        ,  320.        ,\n",
       "        545.        ,  726.66666667,  295.        , 1320.        ,\n",
       "       1620.        ,  225.        ,  204.        ,  395.        ,\n",
       "       3430.        , 1570.        ,  995.        , 8395.        ,\n",
       "        195.        ,  995.        , 2990.        , 1900.        ,\n",
       "       4790.        ,   95.        , 1295.        ,   49.        ,\n",
       "        345.        ,  350.        ,   95.        , 5345.        ,\n",
       "       3680.        ,  225.        ,  225.        ,  450.        ,\n",
       "        260.        ,  384.        , 1080.        ,  175.        ,\n",
       "        400.        ,  235.        ,  460.        , 1260.        ,\n",
       "       1469.        , 2034.        ,  575.        ,   89.        ,\n",
       "         95.        ,  327.        ,  830.        , 3340.        ,\n",
       "        345.        , 3430.        ,  495.        ,  449.        ,\n",
       "       2025.        ,  485.66666667,  475.        , 1100.        ,\n",
       "        125.        , 1900.        , 1095.        , 4740.        ,\n",
       "        969.5       , 5990.        ,  327.        ,   95.        ,\n",
       "       2500.        , 1765.        , 1335.        ,  345.        ,\n",
       "        195.        , 1545.        , 2545.        ,  665.        ,\n",
       "       2977.33333333,  316.        , 1708.        , 1395.        ,\n",
       "        752.5       ,   79.        ,  175.        , 1772.        ,\n",
       "       2977.33333333,  150.        , 1708.        ,   25.        ,\n",
       "        995.        , 2945.        ,  758.        , 1570.        ,\n",
       "        726.66666667,  556.        ,   84.        ,  965.        ,\n",
       "        175.        ,  435.        , 1480.        , 1710.        ,\n",
       "        495.        ,  445.        ,  640.        ,  495.33333333,\n",
       "        449.        , 2040.        ,  115.        ,  595.        ,\n",
       "       1295.        ,  405.        ,  295.        ,  640.        ,\n",
       "        355.        ,  220.        , 5300.        , 2470.        ,\n",
       "       1620.        ,  395.        ,  480.        , 1225.        ,\n",
       "        260.        , 1370.        ,  290.        , 4861.66666667,\n",
       "       1294.        , 3430.        , 1395.        ,  365.        ,\n",
       "        444.        ,  390.        ,   60.        ,  700.        ,\n",
       "       3355.        ,  350.        , 1830.        , 5345.        ,\n",
       "        175.        ,  235.        , 5040.        ,  772.        ,\n",
       "        145.        ,  910.        ,  461.5       , 1350.        ,\n",
       "         89.        , 4010.        , 1590.        , 2270.        ,\n",
       "        555.        ,  920.        , 2156.        ,  620.        ,\n",
       "         50.        ,  115.        ,  495.        , 1500.        ,\n",
       "         59.        , 1176.        ,  415.        , 2740.        ,\n",
       "        380.        , 1260.        , 5990.        , 2016.        ,\n",
       "        595.        ,  245.        ,  645.        ,  295.        ,\n",
       "        910.        ,  345.        ,  195.        ,  870.        ,\n",
       "         89.        , 1895.        , 1588.        ,  345.        ,\n",
       "        347.        ,  295.        , 2792.        ,  944.        ,\n",
       "       1670.        ,   60.        ,  245.        ,   59.        ,\n",
       "        726.66666667, 1395.        , 1708.        , 1294.        ,\n",
       "         65.        , 4070.        ,  295.        , 2156.        ,\n",
       "       3986.        ,  875.        ,   59.        , 8395.        ,\n",
       "       4935.        ,  545.        , 1770.        ,  245.        ,\n",
       "       3035.        ,  920.        ,  400.        , 4260.        ,\n",
       "        375.        ,   99.        ,   50.        , 4790.        ,\n",
       "        920.        , 1520.        ,  195.        ,  995.        ,\n",
       "       4865.        , 1838.        ,  645.        , 3120.        ,\n",
       "       3035.        , 2977.33333333, 1469.        , 2295.        ,\n",
       "       2990.        ,  345.        ,  475.        ,  235.        ,\n",
       "        844.        ,  165.        , 2255.        ,  795.        ,\n",
       "        475.        ,  315.        ,  751.66666667, 1000.        ,\n",
       "       2977.33333333,  530.        ,  645.        , 1710.        ,\n",
       "         59.        , 1395.        ,  134.        ,  395.        ,\n",
       "         99.        , 1719.        ,  365.        , 1495.        ,\n",
       "        398.        ,  345.        ,   49.        ,   55.        ,\n",
       "       2040.        , 3140.        ,  474.        ,  225.        ,\n",
       "        875.        ,   89.        , 1469.        ,  680.        ,\n",
       "        400.        ,  122.        ,  260.        , 4695.        ,\n",
       "       3430.        , 3355.        , 2977.33333333,  245.        ,\n",
       "        125.        ,   55.        , 1715.        ,  260.        ,\n",
       "        235.        , 6160.        , 1095.        ,  145.        ,\n",
       "       3845.        ,  730.        ,   59.        ,  595.        ,\n",
       "        772.        ,  920.        ,   99.        ,  695.        ,\n",
       "        225.        , 4861.66666667,  820.        ])"
      ]
     },
     "execution_count": 108,
     "metadata": {},
     "output_type": "execute_result"
    }
   ],
   "source": [
    "y_pred"
   ]
  },
  {
   "cell_type": "code",
   "execution_count": 109,
   "id": "c7734216",
   "metadata": {},
   "outputs": [
    {
     "name": "stdout",
     "output_type": "stream",
     "text": [
      "R2 Score: 0.8254174687015978\n"
     ]
    }
   ],
   "source": [
    "# Calculate R-squared (R2) score\n",
    "r2 = r2_score(y_test, y_pred)\n",
    "print(\"R2 Score:\", r2)"
   ]
  },
  {
   "cell_type": "markdown",
   "id": "33d7a7ed",
   "metadata": {},
   "source": [
    "### Hyperparameter Tunning"
   ]
  },
  {
   "cell_type": "code",
   "execution_count": 110,
   "id": "7936900e",
   "metadata": {},
   "outputs": [],
   "source": [
    "\n",
    "parameter={\n",
    " 'criterion':['squared_error','friedman_mse','absolute_error','poisson'],\n",
    "  'splitter':['best','random'],\n",
    "  'max_depth':[1,2,3,4,5,6,7,8,10,11,12],\n",
    "  'max_features':['auto', 'sqrt', 'log2']\n",
    "    \n",
    "}\n",
    "regressor=DecisionTreeRegressor()"
   ]
  },
  {
   "cell_type": "code",
   "execution_count": 111,
   "id": "a63ba349",
   "metadata": {},
   "outputs": [],
   "source": [
    "regressorcv=GridSearchCV(regressor,param_grid=parameter,cv=2,scoring='neg_mean_squared_error')"
   ]
  },
  {
   "cell_type": "code",
   "execution_count": 112,
   "id": "c5aa0d26",
   "metadata": {},
   "outputs": [
    {
     "data": {
      "text/plain": [
       "GridSearchCV(cv=2, estimator=DecisionTreeRegressor(),\n",
       "             param_grid={'criterion': ['squared_error', 'friedman_mse',\n",
       "                                       'absolute_error', 'poisson'],\n",
       "                         'max_depth': [1, 2, 3, 4, 5, 6, 7, 8, 10, 11, 12],\n",
       "                         'max_features': ['auto', 'sqrt', 'log2'],\n",
       "                         'splitter': ['best', 'random']},\n",
       "             scoring='neg_mean_squared_error')"
      ]
     },
     "execution_count": 112,
     "metadata": {},
     "output_type": "execute_result"
    }
   ],
   "source": [
    "regressorcv.fit(X_train,y_train)"
   ]
  },
  {
   "cell_type": "code",
   "execution_count": 113,
   "id": "b6c58d53",
   "metadata": {},
   "outputs": [
    {
     "data": {
      "text/plain": [
       "{'criterion': 'absolute_error',\n",
       " 'max_depth': 6,\n",
       " 'max_features': 'auto',\n",
       " 'splitter': 'best'}"
      ]
     },
     "execution_count": 113,
     "metadata": {},
     "output_type": "execute_result"
    }
   ],
   "source": [
    "regressorcv.best_params_"
   ]
  },
  {
   "cell_type": "code",
   "execution_count": 114,
   "id": "8c4ee71f",
   "metadata": {},
   "outputs": [],
   "source": [
    "y_pred=regressorcv.predict(X_test)"
   ]
  },
  {
   "cell_type": "code",
   "execution_count": 115,
   "id": "50c2c219",
   "metadata": {},
   "outputs": [
    {
     "data": {
      "text/plain": [
       "0.7857219023695019"
      ]
     },
     "execution_count": 115,
     "metadata": {},
     "output_type": "execute_result"
    }
   ],
   "source": [
    "r2_score(y_pred,y_test)"
   ]
  },
  {
   "cell_type": "raw",
   "id": "a089a074",
   "metadata": {},
   "source": [
    "From above methods we can conclude that Decission tree Regression provides predicted prices with an accuracy of 82%"
   ]
  },
  {
   "cell_type": "code",
   "execution_count": null,
   "id": "8e8cf3cf",
   "metadata": {},
   "outputs": [],
   "source": []
  },
  {
   "cell_type": "code",
   "execution_count": null,
   "id": "96cb1f4c",
   "metadata": {},
   "outputs": [],
   "source": []
  }
 ],
 "metadata": {
  "kernelspec": {
   "display_name": "Python 3 (ipykernel)",
   "language": "python",
   "name": "python3"
  },
  "language_info": {
   "codemirror_mode": {
    "name": "ipython",
    "version": 3
   },
   "file_extension": ".py",
   "mimetype": "text/x-python",
   "name": "python",
   "nbconvert_exporter": "python",
   "pygments_lexer": "ipython3",
   "version": "3.9.13"
  }
 },
 "nbformat": 4,
 "nbformat_minor": 5
}
